{
  "nbformat": 4,
  "nbformat_minor": 0,
  "metadata": {
    "colab": {
      "provenance": [],
      "gpuType": "T4",
      "authorship_tag": "ABX9TyOR7zaGNBHgpKvUX/ipzaNw",
      "include_colab_link": true
    },
    "kernelspec": {
      "name": "python3",
      "display_name": "Python 3"
    },
    "language_info": {
      "name": "python"
    },
    "accelerator": "GPU"
  },
  "cells": [
    {
      "cell_type": "markdown",
      "metadata": {
        "id": "view-in-github",
        "colab_type": "text"
      },
      "source": [
        "<a href=\"https://colab.research.google.com/github/Karsuman4298/Deep-learning/blob/main/PYtorch(Fundamentals).ipynb\" target=\"_parent\"><img src=\"https://colab.research.google.com/assets/colab-badge.svg\" alt=\"Open In Colab\"/></a>"
      ]
    },
    {
      "cell_type": "markdown",
      "source": [
        "Learning pytorch"
      ],
      "metadata": {
        "id": "4Z4KFD0TSqv5"
      }
    },
    {
      "cell_type": "code",
      "source": [
        "import torch\n",
        "import pandas as pd\n",
        "import numpy as np\n",
        "import matplotlib.pyplot as plt\n",
        "print(torch.__version__)"
      ],
      "metadata": {
        "colab": {
          "base_uri": "https://localhost:8080/"
        },
        "id": "M0Jeq-oISxDo",
        "outputId": "aadf6b82-3f87-4895-8c7f-645f146edfbe"
      },
      "execution_count": 3,
      "outputs": [
        {
          "output_type": "stream",
          "name": "stdout",
          "text": [
            "2.6.0+cu124\n"
          ]
        }
      ]
    },
    {
      "cell_type": "code",
      "source": [
        "tensor= torch.tensor([[5,7],\n",
        "                       [6,6],\n",
        "                           ])"
      ],
      "metadata": {
        "id": "B283FODfTszQ"
      },
      "execution_count": 4,
      "outputs": []
    },
    {
      "cell_type": "code",
      "source": [
        "tensor"
      ],
      "metadata": {
        "colab": {
          "base_uri": "https://localhost:8080/"
        },
        "id": "TnnVbikyBgFI",
        "outputId": "314efcf7-848a-4ba4-e0ea-aa6e5853617f"
      },
      "execution_count": 5,
      "outputs": [
        {
          "output_type": "execute_result",
          "data": {
            "text/plain": [
              "tensor([[5, 7],\n",
              "        [6, 6]])"
            ]
          },
          "metadata": {},
          "execution_count": 5
        }
      ]
    },
    {
      "cell_type": "code",
      "source": [
        "tensor.shape"
      ],
      "metadata": {
        "colab": {
          "base_uri": "https://localhost:8080/"
        },
        "id": "PgmDiR-0Bi9O",
        "outputId": "a7d26583-de1d-4bfd-93e8-f7aa5cc32e23"
      },
      "execution_count": 6,
      "outputs": [
        {
          "output_type": "execute_result",
          "data": {
            "text/plain": [
              "torch.Size([2, 2])"
            ]
          },
          "metadata": {},
          "execution_count": 6
        }
      ]
    },
    {
      "cell_type": "code",
      "source": [
        "tensor.ndim"
      ],
      "metadata": {
        "colab": {
          "base_uri": "https://localhost:8080/"
        },
        "id": "EJlV_odwBnvl",
        "outputId": "726bdc08-1cf0-48d3-eb0e-bc8858e87321"
      },
      "execution_count": 7,
      "outputs": [
        {
          "output_type": "execute_result",
          "data": {
            "text/plain": [
              "2"
            ]
          },
          "metadata": {},
          "execution_count": 7
        }
      ]
    },
    {
      "cell_type": "markdown",
      "source": [
        "random tensors"
      ],
      "metadata": {
        "id": "m2JkJBDZCb09"
      }
    },
    {
      "cell_type": "code",
      "source": [
        "random_tensors= torch.rand(3,2)\n",
        "print(random_tensors)"
      ],
      "metadata": {
        "colab": {
          "base_uri": "https://localhost:8080/"
        },
        "id": "qsMhnIRBCgPb",
        "outputId": "b0f21380-8c83-419b-c8e5-f7bd138c7b54"
      },
      "execution_count": 8,
      "outputs": [
        {
          "output_type": "stream",
          "name": "stdout",
          "text": [
            "tensor([[0.8376, 0.9500],\n",
            "        [0.7097, 0.4890],\n",
            "        [0.4715, 0.2760]])\n"
          ]
        }
      ]
    },
    {
      "cell_type": "code",
      "source": [
        "random_tensors.ndim"
      ],
      "metadata": {
        "colab": {
          "base_uri": "https://localhost:8080/"
        },
        "id": "4V1UISKXD8hY",
        "outputId": "ce77d423-d49a-46c7-8e6b-21425099b88c"
      },
      "execution_count": 9,
      "outputs": [
        {
          "output_type": "execute_result",
          "data": {
            "text/plain": [
              "2"
            ]
          },
          "metadata": {},
          "execution_count": 9
        }
      ]
    },
    {
      "cell_type": "markdown",
      "source": [
        "  Random tensors to size of an image"
      ],
      "metadata": {
        "id": "iBALKxR3EgF8"
      }
    },
    {
      "cell_type": "code",
      "source": [
        "rand_tensor_img= torch.rand(size=(224,224,3))\n",
        "\n",
        "rand_tensor_img.shape, rand_tensor_img.ndim"
      ],
      "metadata": {
        "colab": {
          "base_uri": "https://localhost:8080/"
        },
        "id": "Hz7Y55w9EcJx",
        "outputId": "de9fff38-ba49-4898-95d9-09168cca0f35"
      },
      "execution_count": 10,
      "outputs": [
        {
          "output_type": "execute_result",
          "data": {
            "text/plain": [
              "(torch.Size([224, 224, 3]), 3)"
            ]
          },
          "metadata": {},
          "execution_count": 10
        }
      ]
    },
    {
      "cell_type": "code",
      "source": [
        "range=torch.arange(1,11)\n",
        "range"
      ],
      "metadata": {
        "colab": {
          "base_uri": "https://localhost:8080/"
        },
        "id": "MhQL5kliHnFl",
        "outputId": "eaf28981-f10f-4699-e20d-515f3025b8fd"
      },
      "execution_count": 11,
      "outputs": [
        {
          "output_type": "execute_result",
          "data": {
            "text/plain": [
              "tensor([ 1,  2,  3,  4,  5,  6,  7,  8,  9, 10])"
            ]
          },
          "metadata": {},
          "execution_count": 11
        }
      ]
    },
    {
      "cell_type": "code",
      "source": [
        "ten_zeros=torch.zeros_like(range)\n",
        "ten_zeros"
      ],
      "metadata": {
        "colab": {
          "base_uri": "https://localhost:8080/"
        },
        "id": "RvQn4p7UIVI2",
        "outputId": "ecf3392a-98ac-4af1-e764-a6d87273e640"
      },
      "execution_count": 12,
      "outputs": [
        {
          "output_type": "execute_result",
          "data": {
            "text/plain": [
              "tensor([0, 0, 0, 0, 0, 0, 0, 0, 0, 0])"
            ]
          },
          "metadata": {},
          "execution_count": 12
        }
      ]
    },
    {
      "cell_type": "code",
      "source": [
        "print(\"hiii\")"
      ],
      "metadata": {
        "colab": {
          "base_uri": "https://localhost:8080/"
        },
        "id": "HTzFPFuuMIDU",
        "outputId": "9f70018d-85ad-40c3-d144-a138cccafb5a"
      },
      "execution_count": 13,
      "outputs": [
        {
          "output_type": "stream",
          "name": "stdout",
          "text": [
            "hiii\n"
          ]
        }
      ]
    },
    {
      "cell_type": "code",
      "source": [
        "##mul=float_16_tensor*float_32_tensor"
      ],
      "metadata": {
        "id": "u1xQ6TuGpnHa"
      },
      "execution_count": 14,
      "outputs": []
    },
    {
      "cell_type": "code",
      "source": [
        "##mul.dtype"
      ],
      "metadata": {
        "id": "QdFSvFK9qxR9"
      },
      "execution_count": 15,
      "outputs": []
    },
    {
      "cell_type": "code",
      "source": [
        "some_tensor=torch.rand(3,3)"
      ],
      "metadata": {
        "id": "rCUZH6IFrquO"
      },
      "execution_count": 16,
      "outputs": []
    },
    {
      "cell_type": "code",
      "source": [
        "print(some_tensor)\n",
        "print(f\"datatype of the tensor: {some_tensor.dtype}\")\n",
        "print(f\"shape of the tensor: {some_tensor.shape}\")"
      ],
      "metadata": {
        "colab": {
          "base_uri": "https://localhost:8080/"
        },
        "id": "vbyXrT-Gryry",
        "outputId": "0ed8f145-a2f0-44bd-c07f-99a27869b6b8"
      },
      "execution_count": 17,
      "outputs": [
        {
          "output_type": "stream",
          "name": "stdout",
          "text": [
            "tensor([[0.5871, 0.0541, 0.8275],\n",
            "        [0.4761, 0.2886, 0.8290],\n",
            "        [0.7336, 0.9066, 0.7551]])\n",
            "datatype of the tensor: torch.float32\n",
            "shape of the tensor: torch.Size([3, 3])\n"
          ]
        }
      ]
    },
    {
      "cell_type": "markdown",
      "source": [
        "Tensor operations\n"
      ],
      "metadata": {
        "id": "EjQReVY0tcmu"
      }
    },
    {
      "cell_type": "code",
      "source": [
        "tensor= torch.tensor([1,2,3])\n",
        "\n"
      ],
      "metadata": {
        "id": "1ylifkbstjj1"
      },
      "execution_count": 18,
      "outputs": []
    },
    {
      "cell_type": "code",
      "source": [
        "torch.mul(tensor,20)"
      ],
      "metadata": {
        "colab": {
          "base_uri": "https://localhost:8080/"
        },
        "id": "YoOhZxe5uw7v",
        "outputId": "f0d3347e-427d-46ca-bbbd-80300a247fc4"
      },
      "execution_count": 19,
      "outputs": [
        {
          "output_type": "execute_result",
          "data": {
            "text/plain": [
              "tensor([20, 40, 60])"
            ]
          },
          "metadata": {},
          "execution_count": 19
        }
      ]
    },
    {
      "cell_type": "code",
      "source": [
        "print(tensor,\"*\", tensor)\n",
        "print(f\"Equals: {tensor*tensor}\")"
      ],
      "metadata": {
        "colab": {
          "base_uri": "https://localhost:8080/"
        },
        "id": "Ugrn4zpVwPMi",
        "outputId": "b04b66bb-01cc-4642-e88c-2fbb8c62fe9d"
      },
      "execution_count": 20,
      "outputs": [
        {
          "output_type": "stream",
          "name": "stdout",
          "text": [
            "tensor([1, 2, 3]) * tensor([1, 2, 3])\n",
            "Equals: tensor([1, 4, 9])\n"
          ]
        }
      ]
    },
    {
      "cell_type": "code",
      "source": [],
      "metadata": {
        "id": "JDfzBRkpyOco"
      },
      "execution_count": 20,
      "outputs": []
    },
    {
      "cell_type": "code",
      "source": [
        "%%time\n",
        "torch.matmul(tensor,tensor)\n"
      ],
      "metadata": {
        "colab": {
          "base_uri": "https://localhost:8080/"
        },
        "id": "wCg3fp3hw3u8",
        "outputId": "a20b06ae-96ca-4743-fdd7-f585fa48f5a2"
      },
      "execution_count": 21,
      "outputs": [
        {
          "output_type": "stream",
          "name": "stdout",
          "text": [
            "CPU times: user 412 µs, sys: 76 µs, total: 488 µs\n",
            "Wall time: 8.64 ms\n"
          ]
        },
        {
          "output_type": "execute_result",
          "data": {
            "text/plain": [
              "tensor(14)"
            ]
          },
          "metadata": {},
          "execution_count": 21
        }
      ]
    },
    {
      "cell_type": "markdown",
      "source": [
        "Shape errors"
      ],
      "metadata": {
        "id": "Cu9JFXLj0Xed"
      }
    },
    {
      "cell_type": "code",
      "source": [
        "torch.matmul(torch.rand(2,3),torch.rand(3,2))"
      ],
      "metadata": {
        "colab": {
          "base_uri": "https://localhost:8080/"
        },
        "id": "mQBuK4r50ZmQ",
        "outputId": "b780d8ac-7be6-421e-f040-ec7a55fbc82d"
      },
      "execution_count": 22,
      "outputs": [
        {
          "output_type": "execute_result",
          "data": {
            "text/plain": [
              "tensor([[1.2239, 0.4287],\n",
              "        [1.0739, 0.2819]])"
            ]
          },
          "metadata": {},
          "execution_count": 22
        }
      ]
    },
    {
      "cell_type": "code",
      "source": [
        "tensor_a=torch.tensor([[2,2],\n",
        "                       [2,3],\n",
        "                       [7,5]])\n",
        "tensor_b=torch.tensor([[3,5],\n",
        "                       [7,5],\n",
        "                       [9,8]])"
      ],
      "metadata": {
        "id": "s9hhAkfg2HXU"
      },
      "execution_count": 23,
      "outputs": []
    },
    {
      "cell_type": "markdown",
      "source": [
        "Transpose"
      ],
      "metadata": {
        "id": "SC4BSPJl3bB-"
      }
    },
    {
      "cell_type": "code",
      "source": [
        "tensor_a.T"
      ],
      "metadata": {
        "colab": {
          "base_uri": "https://localhost:8080/"
        },
        "id": "pnmshEkN3aH4",
        "outputId": "0a481b62-40e3-49e3-d63d-6f200b747162"
      },
      "execution_count": 24,
      "outputs": [
        {
          "output_type": "execute_result",
          "data": {
            "text/plain": [
              "tensor([[2, 2, 7],\n",
              "        [2, 3, 5]])"
            ]
          },
          "metadata": {},
          "execution_count": 24
        }
      ]
    },
    {
      "cell_type": "code",
      "source": [
        "tensor_b"
      ],
      "metadata": {
        "colab": {
          "base_uri": "https://localhost:8080/"
        },
        "id": "TkVAD7cT3nk7",
        "outputId": "37fa35ba-b9c6-486a-882d-8389c5c95f51"
      },
      "execution_count": 25,
      "outputs": [
        {
          "output_type": "execute_result",
          "data": {
            "text/plain": [
              "tensor([[3, 5],\n",
              "        [7, 5],\n",
              "        [9, 8]])"
            ]
          },
          "metadata": {},
          "execution_count": 25
        }
      ]
    },
    {
      "cell_type": "code",
      "source": [
        "%%time\n",
        "print(f\" The matrix multiplication is \\n :{tensor_a.T @tensor_b}\")\n"
      ],
      "metadata": {
        "colab": {
          "base_uri": "https://localhost:8080/"
        },
        "id": "kWPOpBGX3t4s",
        "outputId": "2bd6ec1c-375f-40e5-f249-2c9e896bed48"
      },
      "execution_count": 26,
      "outputs": [
        {
          "output_type": "stream",
          "name": "stdout",
          "text": [
            " The matrix multiplication is \n",
            " :tensor([[83, 76],\n",
            "        [72, 65]])\n",
            "CPU times: user 665 µs, sys: 0 ns, total: 665 µs\n",
            "Wall time: 5.29 ms\n"
          ]
        }
      ]
    },
    {
      "cell_type": "markdown",
      "source": [
        "Tensor aggregation"
      ],
      "metadata": {
        "id": "43k3CwSN5sqG"
      }
    },
    {
      "cell_type": "code",
      "source": [
        "x=torch.arange(0,100,10)\n",
        "x"
      ],
      "metadata": {
        "colab": {
          "base_uri": "https://localhost:8080/"
        },
        "id": "aiVycNQK5v2u",
        "outputId": "2774e063-c9a7-42a9-abf2-d3625137fa93"
      },
      "execution_count": 27,
      "outputs": [
        {
          "output_type": "execute_result",
          "data": {
            "text/plain": [
              "tensor([ 0, 10, 20, 30, 40, 50, 60, 70, 80, 90])"
            ]
          },
          "metadata": {},
          "execution_count": 27
        }
      ]
    },
    {
      "cell_type": "code",
      "source": [
        "x.min()"
      ],
      "metadata": {
        "colab": {
          "base_uri": "https://localhost:8080/"
        },
        "id": "3L_ejrwZ5_BM",
        "outputId": "8e5bdd63-dd65-48fc-edce-4f6446ad7d7d"
      },
      "execution_count": 28,
      "outputs": [
        {
          "output_type": "execute_result",
          "data": {
            "text/plain": [
              "tensor(0)"
            ]
          },
          "metadata": {},
          "execution_count": 28
        }
      ]
    },
    {
      "cell_type": "code",
      "source": [
        "x.max()"
      ],
      "metadata": {
        "colab": {
          "base_uri": "https://localhost:8080/"
        },
        "id": "2OA7fR0Y6EAw",
        "outputId": "859b1070-c97e-4e9d-bee2-bec4bb223cca"
      },
      "execution_count": 29,
      "outputs": [
        {
          "output_type": "execute_result",
          "data": {
            "text/plain": [
              "tensor(90)"
            ]
          },
          "metadata": {},
          "execution_count": 29
        }
      ]
    },
    {
      "cell_type": "markdown",
      "source": [
        "torch.mean() requires a tensor of float32 datatypes"
      ],
      "metadata": {
        "id": "1Ne2nfTu7MaH"
      }
    },
    {
      "cell_type": "code",
      "source": [
        "torch.mean(x.type(torch.float32))"
      ],
      "metadata": {
        "colab": {
          "base_uri": "https://localhost:8080/"
        },
        "id": "KbLwpiJq6Is1",
        "outputId": "49022c87-dd33-402e-ed8c-8a99d1875148"
      },
      "execution_count": 30,
      "outputs": [
        {
          "output_type": "execute_result",
          "data": {
            "text/plain": [
              "tensor(45.)"
            ]
          },
          "metadata": {},
          "execution_count": 30
        }
      ]
    },
    {
      "cell_type": "markdown",
      "source": [
        "argmax -> returns the position of the maximum value in the tensor\n",
        "\n",
        "argmin-> minimun of a tensor"
      ],
      "metadata": {
        "id": "bHPvSvWi7-cA"
      }
    },
    {
      "cell_type": "code",
      "source": [
        "torch.argmin(x)"
      ],
      "metadata": {
        "colab": {
          "base_uri": "https://localhost:8080/"
        },
        "id": "SgyJrVp47jGo",
        "outputId": "dc5ddcd1-280a-427f-bec9-64efd28da816"
      },
      "execution_count": 31,
      "outputs": [
        {
          "output_type": "execute_result",
          "data": {
            "text/plain": [
              "tensor(0)"
            ]
          },
          "metadata": {},
          "execution_count": 31
        }
      ]
    },
    {
      "cell_type": "markdown",
      "source": [
        "Reshaping - reshapes an input to a defined shape\n",
        "\n",
        "View - Return a view of an input tensor of certain shape but keep the same memory as the original tensor\n",
        "\n",
        "Stacking - combine multiple tensors on of each other(vstack) or side by(hstack).\n",
        "\n",
        "Squeeze - revomes all '1' dimension from a tensor,\n",
        "\n",
        "Unsqueeze- add a '1' dimension to a target tensor.\n",
        "\n",
        "permute - Return a view of the input with dimensions permuted (swapped) in a certain\n",
        "\n"
      ],
      "metadata": {
        "id": "s4yuOXko_daG"
      }
    },
    {
      "cell_type": "code",
      "source": [
        "import torch\n",
        "x= torch.arange(1., 11.)\n",
        "x, x.shape"
      ],
      "metadata": {
        "id": "SWMqeLCTAR4n",
        "outputId": "80b11f9d-595d-4ccf-a08f-6e05371ec2df",
        "colab": {
          "base_uri": "https://localhost:8080/"
        }
      },
      "execution_count": 32,
      "outputs": [
        {
          "output_type": "execute_result",
          "data": {
            "text/plain": [
              "(tensor([ 1.,  2.,  3.,  4.,  5.,  6.,  7.,  8.,  9., 10.]), torch.Size([10]))"
            ]
          },
          "metadata": {},
          "execution_count": 32
        }
      ]
    },
    {
      "cell_type": "code",
      "source": [
        "##adds an extra dimensions\n",
        "x_reshaped= x.reshape(2,5)\n",
        "x_reshaped, x_reshaped.shape"
      ],
      "metadata": {
        "id": "99rmuGYaCi32",
        "outputId": "743753a0-467a-4c4c-d69b-8df975fff798",
        "colab": {
          "base_uri": "https://localhost:8080/"
        }
      },
      "execution_count": 33,
      "outputs": [
        {
          "output_type": "execute_result",
          "data": {
            "text/plain": [
              "(tensor([[ 1.,  2.,  3.,  4.,  5.],\n",
              "         [ 6.,  7.,  8.,  9., 10.]]),\n",
              " torch.Size([2, 5]))"
            ]
          },
          "metadata": {},
          "execution_count": 33
        }
      ]
    },
    {
      "cell_type": "code",
      "source": [
        "import torch\n",
        "x=torch.arange(1,11)\n",
        "x,x.size()"
      ],
      "metadata": {
        "colab": {
          "base_uri": "https://localhost:8080/"
        },
        "id": "2rmoiPEJ5be-",
        "outputId": "41a3ccf4-3091-43dc-8c58-69c7894ba60e"
      },
      "execution_count": 34,
      "outputs": [
        {
          "output_type": "execute_result",
          "data": {
            "text/plain": [
              "(tensor([ 1,  2,  3,  4,  5,  6,  7,  8,  9, 10]), torch.Size([10]))"
            ]
          },
          "metadata": {},
          "execution_count": 34
        }
      ]
    },
    {
      "cell_type": "code",
      "source": [
        "x_reshaped=x.reshape(2,5)\n",
        "x_reshaped, x_reshaped.shape"
      ],
      "metadata": {
        "colab": {
          "base_uri": "https://localhost:8080/"
        },
        "id": "q-dEztHD7wRp",
        "outputId": "69258520-e709-43ff-e037-865b0c74dd04"
      },
      "execution_count": 35,
      "outputs": [
        {
          "output_type": "execute_result",
          "data": {
            "text/plain": [
              "(tensor([[ 1,  2,  3,  4,  5],\n",
              "         [ 6,  7,  8,  9, 10]]),\n",
              " torch.Size([2, 5]))"
            ]
          },
          "metadata": {},
          "execution_count": 35
        }
      ]
    },
    {
      "cell_type": "code",
      "source": [
        "z=x_reshaped.view(1,10)\n",
        "z"
      ],
      "metadata": {
        "colab": {
          "base_uri": "https://localhost:8080/"
        },
        "id": "ibuKmnCICuD0",
        "outputId": "4582fec9-081c-425a-f4d2-85fb60a12e1a"
      },
      "execution_count": 36,
      "outputs": [
        {
          "output_type": "execute_result",
          "data": {
            "text/plain": [
              "tensor([[ 1,  2,  3,  4,  5,  6,  7,  8,  9, 10]])"
            ]
          },
          "metadata": {},
          "execution_count": 36
        }
      ]
    },
    {
      "cell_type": "markdown",
      "source": [
        "## Changing z changes x because a view of a tensor shares same memory as the original input."
      ],
      "metadata": {
        "id": "D9Jucv2mDZjm"
      }
    },
    {
      "cell_type": "code",
      "source": [
        "z[:,0]=5\n",
        "z,x"
      ],
      "metadata": {
        "colab": {
          "base_uri": "https://localhost:8080/"
        },
        "id": "KFXONaPiDqBQ",
        "outputId": "aa60671f-f246-4265-9ddd-1ad3cfa20ecd"
      },
      "execution_count": 37,
      "outputs": [
        {
          "output_type": "execute_result",
          "data": {
            "text/plain": [
              "(tensor([[ 5,  2,  3,  4,  5,  6,  7,  8,  9, 10]]),\n",
              " tensor([ 5,  2,  3,  4,  5,  6,  7,  8,  9, 10]))"
            ]
          },
          "metadata": {},
          "execution_count": 37
        }
      ]
    },
    {
      "cell_type": "code",
      "source": [
        "## stack tensors on the top each other\n",
        "x_stacked=torch.stack([x,x,x],dim=0)\n",
        "x_stacked,x_stacked.size()"
      ],
      "metadata": {
        "colab": {
          "base_uri": "https://localhost:8080/"
        },
        "id": "jC2liwpDEBws",
        "outputId": "98df0fd4-af0f-4d72-f4ea-e8cb6daa6fae"
      },
      "execution_count": 38,
      "outputs": [
        {
          "output_type": "execute_result",
          "data": {
            "text/plain": [
              "(tensor([[ 5,  2,  3,  4,  5,  6,  7,  8,  9, 10],\n",
              "         [ 5,  2,  3,  4,  5,  6,  7,  8,  9, 10],\n",
              "         [ 5,  2,  3,  4,  5,  6,  7,  8,  9, 10]]),\n",
              " torch.Size([3, 10]))"
            ]
          },
          "metadata": {},
          "execution_count": 38
        }
      ]
    },
    {
      "cell_type": "code",
      "source": [
        "## torhc.squeeze() -> remoe=ve all single dimention from the targeted vector.\n",
        "x=torch.arange(1,11)\n",
        "x,x.shape\n"
      ],
      "metadata": {
        "colab": {
          "base_uri": "https://localhost:8080/"
        },
        "id": "hMCMFrw0F6cl",
        "outputId": "b07bcf92-8aca-41e1-b80f-3c304998ec28"
      },
      "execution_count": 39,
      "outputs": [
        {
          "output_type": "execute_result",
          "data": {
            "text/plain": [
              "(tensor([ 1,  2,  3,  4,  5,  6,  7,  8,  9, 10]), torch.Size([10]))"
            ]
          },
          "metadata": {},
          "execution_count": 39
        }
      ]
    },
    {
      "cell_type": "code",
      "source": [
        "y=x.squeeze()\n",
        "y.shape"
      ],
      "metadata": {
        "colab": {
          "base_uri": "https://localhost:8080/"
        },
        "id": "bP1gd-66G2_-",
        "outputId": "39b02c8d-f41e-4892-a974-18421984e074"
      },
      "execution_count": 40,
      "outputs": [
        {
          "output_type": "execute_result",
          "data": {
            "text/plain": [
              "torch.Size([10])"
            ]
          },
          "metadata": {},
          "execution_count": 40
        }
      ]
    },
    {
      "cell_type": "code",
      "source": [
        "## torch.permute -> rearrange the dimension of the target in a specific order.\n",
        "x_original=torch.rand(size=(224,224,3))\n",
        "x_permuted=x_original.permute(2,0,1)\n",
        "x_original.shape, x_permuted.shape"
      ],
      "metadata": {
        "colab": {
          "base_uri": "https://localhost:8080/"
        },
        "id": "P3JOkG5mKJjt",
        "outputId": "fb665451-df1b-4008-f8dd-3d01b281739c"
      },
      "execution_count": 41,
      "outputs": [
        {
          "output_type": "execute_result",
          "data": {
            "text/plain": [
              "(torch.Size([224, 224, 3]), torch.Size([3, 224, 224]))"
            ]
          },
          "metadata": {},
          "execution_count": 41
        }
      ]
    },
    {
      "cell_type": "markdown",
      "source": [
        "Indexing"
      ],
      "metadata": {
        "id": "lkQx4SAjQEKW"
      }
    },
    {
      "cell_type": "code",
      "source": [
        "import torch\n",
        "x=torch.arange(1,10).reshape(1,3,3)\n",
        "x,x.shape"
      ],
      "metadata": {
        "colab": {
          "base_uri": "https://localhost:8080/"
        },
        "id": "FVdL-v3ZQC1W",
        "outputId": "49b779d5-8075-41c3-89ea-23daaf748e9b"
      },
      "execution_count": 42,
      "outputs": [
        {
          "output_type": "execute_result",
          "data": {
            "text/plain": [
              "(tensor([[[1, 2, 3],\n",
              "          [4, 5, 6],\n",
              "          [7, 8, 9]]]),\n",
              " torch.Size([1, 3, 3]))"
            ]
          },
          "metadata": {},
          "execution_count": 42
        }
      ]
    },
    {
      "cell_type": "code",
      "source": [
        "x[0][2][2]"
      ],
      "metadata": {
        "colab": {
          "base_uri": "https://localhost:8080/"
        },
        "id": "quQZtNP4QhEB",
        "outputId": "2059d574-f772-427e-dd24-67068806454b"
      },
      "execution_count": 43,
      "outputs": [
        {
          "output_type": "execute_result",
          "data": {
            "text/plain": [
              "tensor(9)"
            ]
          },
          "metadata": {},
          "execution_count": 43
        }
      ]
    },
    {
      "cell_type": "markdown",
      "source": [
        "Numpy"
      ],
      "metadata": {
        "id": "uoEtxGeeUAqm"
      }
    },
    {
      "cell_type": "code",
      "source": [
        "import torch\n",
        "import numpy as np\n",
        "\n",
        "array = np.arange(1.0,8.0)\n",
        "array, array.dtype\n"
      ],
      "metadata": {
        "colab": {
          "base_uri": "https://localhost:8080/"
        },
        "id": "_8q4pq85Snmu",
        "outputId": "918e8dc9-16c4-40c7-a8b2-401c89c79588"
      },
      "execution_count": 44,
      "outputs": [
        {
          "output_type": "execute_result",
          "data": {
            "text/plain": [
              "(array([1., 2., 3., 4., 5., 6., 7.]), dtype('float64'))"
            ]
          },
          "metadata": {},
          "execution_count": 44
        }
      ]
    },
    {
      "cell_type": "code",
      "source": [
        "array=array+1\n",
        "array"
      ],
      "metadata": {
        "id": "QNvUscF2VgMR",
        "outputId": "e9230fe3-be2e-4b3e-b632-b1fcf49f0dde",
        "colab": {
          "base_uri": "https://localhost:8080/"
        }
      },
      "execution_count": 45,
      "outputs": [
        {
          "output_type": "execute_result",
          "data": {
            "text/plain": [
              "array([2., 3., 4., 5., 6., 7., 8.])"
            ]
          },
          "metadata": {},
          "execution_count": 45
        }
      ]
    },
    {
      "cell_type": "code",
      "source": [
        "tensor=torch.ones(7)\n",
        "add=tensor+1\n",
        "add"
      ],
      "metadata": {
        "id": "iOTU78MxWklp",
        "outputId": "fd1c6eac-85e2-47ac-eba7-a8143880c514",
        "colab": {
          "base_uri": "https://localhost:8080/"
        }
      },
      "execution_count": 48,
      "outputs": [
        {
          "output_type": "execute_result",
          "data": {
            "text/plain": [
              "tensor([2., 2., 2., 2., 2., 2., 2.])"
            ]
          },
          "metadata": {},
          "execution_count": 48
        }
      ]
    },
    {
      "cell_type": "markdown",
      "source": [
        "**Reproductibility**\n",
        "to reduce the randomness in neural network and pytorch comes the concept of a **Random seed**.\n",
        "\n",
        "\n",
        "\n"
      ],
      "metadata": {
        "id": "WDz5aIYfrYq0"
      }
    },
    {
      "cell_type": "code",
      "source": [
        "import torch\n",
        "rand_tensor_A=torch.rand(3,4)\n",
        "rand_tensor_B=torch.rand(3,4)\n",
        "print(rand_tensor_A)\n",
        "print(rand_tensor_B)\n",
        "print(rand_tensor_A==rand_tensor_B)\n"
      ],
      "metadata": {
        "id": "CDBDQoPCrO80",
        "outputId": "dec46ca8-7f80-426d-bc7e-030dcd04e423",
        "colab": {
          "base_uri": "https://localhost:8080/"
        }
      },
      "execution_count": 53,
      "outputs": [
        {
          "output_type": "stream",
          "name": "stdout",
          "text": [
            "tensor([[0.3073, 0.9699, 0.0460, 0.6907],\n",
            "        [0.2987, 0.4948, 0.9712, 0.7291],\n",
            "        [0.0677, 0.4965, 0.7156, 0.9921]])\n",
            "tensor([[0.6726, 0.4178, 0.4704, 0.7365],\n",
            "        [0.9557, 0.8837, 0.5361, 0.9537],\n",
            "        [0.6391, 0.2598, 0.6676, 0.6122]])\n",
            "tensor([[False, False, False, False],\n",
            "        [False, False, False, False],\n",
            "        [False, False, False, False]])\n"
          ]
        }
      ]
    },
    {
      "cell_type": "code",
      "source": [
        "##making random but reproducible tensors\n",
        "import torch\n",
        "RANDOM_SEED=42\n",
        "torch.manual_seed(RANDOM_SEED)\n",
        "rand_tensor_C=torch.rand(3,4)\n",
        "torch.manual_seed(RANDOM_SEED)\n",
        "rand_tensor_D=torch.rand(3,4)\n",
        "print(rand_tensor_C)\n",
        "print(rand_tensor_D )\n",
        "print(rand_tensor_C==rand_tensor_D)\n",
        "\n",
        "\n"
      ],
      "metadata": {
        "id": "cEk0tf0btWu3",
        "outputId": "faaa7977-3f32-469c-b638-32e32f34add5",
        "colab": {
          "base_uri": "https://localhost:8080/"
        }
      },
      "execution_count": 61,
      "outputs": [
        {
          "output_type": "stream",
          "name": "stdout",
          "text": [
            "tensor([[0.8823, 0.9150, 0.3829, 0.9593],\n",
            "        [0.3904, 0.6009, 0.2566, 0.7936],\n",
            "        [0.9408, 0.1332, 0.9346, 0.5936]])\n",
            "tensor([[0.8823, 0.9150, 0.3829, 0.9593],\n",
            "        [0.3904, 0.6009, 0.2566, 0.7936],\n",
            "        [0.9408, 0.1332, 0.9346, 0.5936]])\n",
            "tensor([[True, True, True, True],\n",
            "        [True, True, True, True],\n",
            "        [True, True, True, True]])\n"
          ]
        }
      ]
    },
    {
      "cell_type": "code",
      "source": [
        "import torch\n",
        "torch.cuda.is_available()\n"
      ],
      "metadata": {
        "id": "cRd6RbBqv1xH",
        "outputId": "01ff7022-ec40-479d-b6e3-4841ce20e020",
        "colab": {
          "base_uri": "https://localhost:8080/"
        }
      },
      "execution_count": 64,
      "outputs": [
        {
          "output_type": "execute_result",
          "data": {
            "text/plain": [
              "True"
            ]
          },
          "metadata": {},
          "execution_count": 64
        }
      ]
    },
    {
      "cell_type": "code",
      "source": [
        "##Setup device agnostic code\n",
        "device=\"cuda\" if torch.cuda.is_available() else \"cpu\"\n",
        "device"
      ],
      "metadata": {
        "id": "nivJpIwEyIqS",
        "outputId": "b55494f6-11ad-4272-d12a-fb128c5db6dd",
        "colab": {
          "base_uri": "https://localhost:8080/",
          "height": 36
        }
      },
      "execution_count": 65,
      "outputs": [
        {
          "output_type": "execute_result",
          "data": {
            "text/plain": [
              "'cuda'"
            ],
            "application/vnd.google.colaboratory.intrinsic+json": {
              "type": "string"
            }
          },
          "metadata": {},
          "execution_count": 65
        }
      ]
    },
    {
      "cell_type": "code",
      "source": [
        "tensor=torch.tensor([1,2,3])\n",
        "print(tensor, tensor.device)"
      ],
      "metadata": {
        "id": "xSQVi0qqzG1x",
        "outputId": "3712ebdc-fa0c-42f1-bba4-e889a626faee",
        "colab": {
          "base_uri": "https://localhost:8080/"
        }
      },
      "execution_count": 67,
      "outputs": [
        {
          "output_type": "stream",
          "name": "stdout",
          "text": [
            "tensor([1, 2, 3]) cpu\n"
          ]
        }
      ]
    },
    {
      "cell_type": "code",
      "source": [
        "tensor_on_gpu=tensor.to(device)\n",
        "tensor_on_gpu"
      ],
      "metadata": {
        "id": "gvbHFc4lzGk_",
        "outputId": "3f0da913-3e10-48af-d641-ee4af6767541",
        "colab": {
          "base_uri": "https://localhost:8080/"
        }
      },
      "execution_count": 69,
      "outputs": [
        {
          "output_type": "execute_result",
          "data": {
            "text/plain": [
              "tensor([1, 2, 3], device='cuda:0')"
            ]
          },
          "metadata": {},
          "execution_count": 69
        }
      ]
    },
    {
      "cell_type": "markdown",
      "source": [
        "TypeError: can't convert cuda:0 device type tensor to numpy. Use Tensor.cpu() to copy the tensor to host memory first.\n",
        "\n",
        "**Numpy cant work on gpu thats why we are getting error , we need to move the tensor yo cpu for further computation**"
      ],
      "metadata": {
        "id": "MNqHjY2H0hA6"
      }
    },
    {
      "cell_type": "code",
      "source": [
        "tensor_on_cpu=tensor_on_gpu.cpu()\n",
        "tensor_on_cpu"
      ],
      "metadata": {
        "id": "CuVJ6sbL0WQM",
        "outputId": "523b471f-9bdb-4ed9-ef18-c5c73a80b65c",
        "colab": {
          "base_uri": "https://localhost:8080/"
        }
      },
      "execution_count": 72,
      "outputs": [
        {
          "output_type": "execute_result",
          "data": {
            "text/plain": [
              "tensor([1, 2, 3])"
            ]
          },
          "metadata": {},
          "execution_count": 72
        }
      ]
    }
  ]
}