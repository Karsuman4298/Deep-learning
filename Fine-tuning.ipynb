{
 "cells": [
  {
   "metadata": {
    "ExecuteTime": {
     "end_time": "2025-02-03T16:37:57.976027Z",
     "start_time": "2025-02-03T16:37:57.951131Z"
    }
   },
   "cell_type": "code",
   "source": [
    "import pandas as pd\n",
    "from datasets import Dataset\n",
    "from transformers import TFDistilBertForSequenceClassification, AutoTokenizer\n",
    "import tensorflow as tf\n",
    "\n",
    "# Load the dataset from the file\n",
    "df = pd.read_csv(r'C:\\Users\\Suman Kar\\Downloads\\SMSSpamCollection (1).txt', sep='\\t', names=['label', 'message'])\n",
    "\n",
    "# Map labels to 0 for ham and 1 for spam\n",
    "df['label'] = df['label'].map({'ham': 0, 'spam': 1})\n",
    "\n",
    "# Convert pandas dataframe to Hugging Face dataset\n",
    "dataset = Dataset.from_pandas(df)"
   ],
   "id": "b542bf554851f4e3",
   "outputs": [],
   "execution_count": 115
  },
  {
   "metadata": {
    "ExecuteTime": {
     "end_time": "2025-02-03T16:38:01.669417Z",
     "start_time": "2025-02-03T16:38:00.349471Z"
    }
   },
   "cell_type": "code",
   "source": [
    "\n",
    "# Load DistilBERT tokenizer\n",
    "tokenizer = AutoTokenizer.from_pretrained(\"distilbert-base-uncased\")\n",
    "\n",
    "# Tokenization function\n",
    "def tokenize_function(examples):\n",
    "    return tokenizer(examples[\"message\"], padding=\"max_length\", truncation=True)\n",
    "\n",
    "# Split the dataset into train and test sets\n",
    "split_dataset = dataset.train_test_split(test_size=0.2, seed=42)\n",
    "\n",
    "# Apply tokenization to the split dataset\n",
    "tokenized_datasets = split_dataset.map(tokenize_function, batched=True)\n",
    "\n",
    "# Print the tokenized datasets to verify\n",
    "print(tokenized_datasets)"
   ],
   "id": "cdfc70ef34c5f81",
   "outputs": [
    {
     "data": {
      "text/plain": [
       "Map:   0%|          | 0/4457 [00:00<?, ? examples/s]"
      ],
      "application/vnd.jupyter.widget-view+json": {
       "version_major": 2,
       "version_minor": 0,
       "model_id": "0d57c2d2d2a245908f2584890eb5ac0f"
      }
     },
     "metadata": {},
     "output_type": "display_data"
    },
    {
     "data": {
      "text/plain": [
       "Map:   0%|          | 0/1115 [00:00<?, ? examples/s]"
      ],
      "application/vnd.jupyter.widget-view+json": {
       "version_major": 2,
       "version_minor": 0,
       "model_id": "ac23ca66b363453e9abcdd5fdec15554"
      }
     },
     "metadata": {},
     "output_type": "display_data"
    },
    {
     "name": "stdout",
     "output_type": "stream",
     "text": [
      "DatasetDict({\n",
      "    train: Dataset({\n",
      "        features: ['label', 'message', 'input_ids', 'attention_mask'],\n",
      "        num_rows: 4457\n",
      "    })\n",
      "    test: Dataset({\n",
      "        features: ['label', 'message', 'input_ids', 'attention_mask'],\n",
      "        num_rows: 1115\n",
      "    })\n",
      "})\n"
     ]
    }
   ],
   "execution_count": 116
  },
  {
   "metadata": {
    "ExecuteTime": {
     "end_time": "2025-02-03T16:38:04.034227Z",
     "start_time": "2025-02-03T16:38:04.022979Z"
    }
   },
   "cell_type": "code",
   "source": [
    "\n",
    "# Function to convert to TensorFlow dataset\n",
    "def convert_to_tf_dataset(dataset, batch_size=8):\n",
    "    dataset.set_format(type=\"tensorflow\", columns=[\"input_ids\", \"attention_mask\", \"label\"])\n",
    "\n",
    "    return dataset.to_tf_dataset(\n",
    "        columns=[\"input_ids\", \"attention_mask\"],  # Input features\n",
    "        label_cols=[\"label\"],  # Labels\n",
    "        shuffle=True,  # Shuffle the data\n",
    "        batch_size=batch_size  # Batch size for training\n",
    "    )"
   ],
   "id": "53922d83e0c8a59f",
   "outputs": [],
   "execution_count": 117
  },
  {
   "metadata": {
    "ExecuteTime": {
     "end_time": "2025-02-03T16:38:06.763081Z",
     "start_time": "2025-02-03T16:38:06.672451Z"
    }
   },
   "cell_type": "code",
   "source": [
    "\n",
    "# Convert train and eval datasets to TensorFlow format\n",
    "train_dataset_tf = convert_to_tf_dataset(tokenized_datasets[\"train\"])\n",
    "eval_dataset_tf = convert_to_tf_dataset(tokenized_datasets[\"test\"])\n",
    "\n",
    "# Verify the TensorFlow dataset format\n",
    "print(train_dataset_tf)\n",
    "print(eval_dataset_tf)\n"
   ],
   "id": "3ccd991d40f716d7",
   "outputs": [
    {
     "name": "stdout",
     "output_type": "stream",
     "text": [
      "<_PrefetchDataset element_spec=({'input_ids': TensorSpec(shape=(None, 512), dtype=tf.int64, name=None), 'attention_mask': TensorSpec(shape=(None, 512), dtype=tf.int64, name=None)}, TensorSpec(shape=(None,), dtype=tf.int64, name=None))>\n",
      "<_PrefetchDataset element_spec=({'input_ids': TensorSpec(shape=(None, 512), dtype=tf.int64, name=None), 'attention_mask': TensorSpec(shape=(None, 512), dtype=tf.int64, name=None)}, TensorSpec(shape=(None,), dtype=tf.int64, name=None))>\n"
     ]
    },
    {
     "name": "stderr",
     "output_type": "stream",
     "text": [
      "C:\\Users\\Suman Kar\\AppData\\Roaming\\Python\\Python312\\site-packages\\datasets\\arrow_dataset.py:403: FutureWarning: The output of `to_tf_dataset` will change when a passing single element list for `labels` or `columns` in the next datasets version. To return a tuple structure rather than dict, pass a single string.\n",
      "Old behaviour: columns=['a'], labels=['labels'] -> (tf.Tensor, tf.Tensor)  \n",
      "             : columns='a', labels='labels' -> (tf.Tensor, tf.Tensor)  \n",
      "New behaviour: columns=['a'],labels=['labels'] -> ({'a': tf.Tensor}, {'labels': tf.Tensor})  \n",
      "             : columns='a', labels='labels' -> (tf.Tensor, tf.Tensor) \n",
      "  warnings.warn(\n"
     ]
    }
   ],
   "execution_count": 118
  },
  {
   "metadata": {
    "ExecuteTime": {
     "end_time": "2025-02-03T16:40:02.356927Z",
     "start_time": "2025-02-03T16:40:00.270808Z"
    }
   },
   "cell_type": "code",
   "source": "model=TFDistilBertForSequenceClassification.from_pretrained(\"distilbert-base-uncased\")",
   "id": "ec26100adf5bf2bb",
   "outputs": [
    {
     "name": "stderr",
     "output_type": "stream",
     "text": [
      "Some weights of the PyTorch model were not used when initializing the TF 2.0 model TFDistilBertForSequenceClassification: ['vocab_layer_norm.weight', 'vocab_transform.bias', 'vocab_transform.weight', 'vocab_projector.bias', 'vocab_layer_norm.bias']\n",
      "- This IS expected if you are initializing TFDistilBertForSequenceClassification from a PyTorch model trained on another task or with another architecture (e.g. initializing a TFBertForSequenceClassification model from a BertForPreTraining model).\n",
      "- This IS NOT expected if you are initializing TFDistilBertForSequenceClassification from a PyTorch model that you expect to be exactly identical (e.g. initializing a TFBertForSequenceClassification model from a BertForSequenceClassification model).\n",
      "Some weights or buffers of the TF 2.0 model TFDistilBertForSequenceClassification were not initialized from the PyTorch model and are newly initialized: ['pre_classifier.weight', 'pre_classifier.bias', 'classifier.weight', 'classifier.bias']\n",
      "You should probably TRAIN this model on a down-stream task to be able to use it for predictions and inference.\n"
     ]
    }
   ],
   "execution_count": 119
  },
  {
   "metadata": {
    "ExecuteTime": {
     "end_time": "2025-02-03T16:45:12.336922Z",
     "start_time": "2025-02-03T16:45:12.287901Z"
    }
   },
   "cell_type": "code",
   "source": [
    "model.compile( optimizer=tf.keras.optimizers.Adam(learning_rate=2e-5),\n",
    "               loss=tf.keras.losses.SparseCategoricalCrossentropy(from_logits=True),\n",
    "               metrics=['accuracy']\n",
    "\n",
    ")\n"
   ],
   "id": "9a2f3c681abfa1ec",
   "outputs": [],
   "execution_count": 122
  },
  {
   "metadata": {
    "jupyter": {
     "is_executing": true
    },
    "ExecuteTime": {
     "start_time": "2025-02-03T16:46:12.197898Z"
    }
   },
   "cell_type": "code",
   "source": "history = model.fit(train_dataset_tf, epochs=3, validation_data=eval_dataset_tf)",
   "id": "1cecd44a1e7464a2",
   "outputs": [
    {
     "name": "stdout",
     "output_type": "stream",
     "text": [
      "Epoch 1/3\n",
      "WARNING:tensorflow:From C:\\Users\\Suman Kar\\AppData\\Roaming\\Python\\Python312\\site-packages\\tf_keras\\src\\utils\\tf_utils.py:492: The name tf.ragged.RaggedTensorValue is deprecated. Please use tf.compat.v1.ragged.RaggedTensorValue instead.\n",
      "\n",
      "WARNING:tensorflow:From C:\\Users\\Suman Kar\\AppData\\Roaming\\Python\\Python312\\site-packages\\tf_keras\\src\\engine\\base_layer_utils.py:384: The name tf.executing_eagerly_outside_functions is deprecated. Please use tf.compat.v1.executing_eagerly_outside_functions instead.\n",
      "\n"
     ]
    }
   ],
   "execution_count": null
  }
 ],
 "metadata": {
  "kernelspec": {
   "display_name": "Python 3",
   "language": "python",
   "name": "python3"
  },
  "language_info": {
   "codemirror_mode": {
    "name": "ipython",
    "version": 2
   },
   "file_extension": ".py",
   "mimetype": "text/x-python",
   "name": "python",
   "nbconvert_exporter": "python",
   "pygments_lexer": "ipython2",
   "version": "2.7.6"
  }
 },
 "nbformat": 4,
 "nbformat_minor": 5
}
