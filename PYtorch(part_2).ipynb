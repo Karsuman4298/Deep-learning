{
  "nbformat": 4,
  "nbformat_minor": 0,
  "metadata": {
    "colab": {
      "provenance": [],
      "authorship_tag": "ABX9TyPpC/zgwq472KaKEGJQao9E",
      "include_colab_link": true
    },
    "kernelspec": {
      "name": "python3",
      "display_name": "Python 3"
    },
    "language_info": {
      "name": "python"
    }
  },
  "cells": [
    {
      "cell_type": "markdown",
      "metadata": {
        "id": "view-in-github",
        "colab_type": "text"
      },
      "source": [
        "<a href=\"https://colab.research.google.com/github/Karsuman4298/Deep-learning/blob/main/PYtorch(part_2).ipynb\" target=\"_parent\"><img src=\"https://colab.research.google.com/assets/colab-badge.svg\" alt=\"Open In Colab\"/></a>"
      ]
    },
    {
      "cell_type": "code",
      "source": [
        "import torch\n",
        "from torch import nn\n",
        "import matplotlib.pyplot as plt\n",
        "\n"
      ],
      "metadata": {
        "id": "iYEBoi1Q3gb4"
      },
      "execution_count": 47,
      "outputs": []
    },
    {
      "cell_type": "markdown",
      "source": [
        "## Data preparing and loading"
      ],
      "metadata": {
        "id": "vPYMwmUk9YqR"
      }
    },
    {
      "cell_type": "markdown",
      "source": [
        "**Linear regression fromula (y=mx+c) to make a straight line with known parameters**"
      ],
      "metadata": {
        "id": "qv6K8E56-qN0"
      }
    },
    {
      "cell_type": "code",
      "source": [
        "weight=0.7\n",
        "bias=0.3\n",
        "\n",
        "start=0\n",
        "end=1\n",
        "step=0.02\n",
        "X=torch.arange(start,end,step).unsqueeze(dim=1)\n",
        "y=(weight*X+bias)\n",
        "y,y.shape\n"
      ],
      "metadata": {
        "colab": {
          "base_uri": "https://localhost:8080/"
        },
        "id": "dJsmr1AE-7R-",
        "outputId": "66910dd6-cf9a-4b6b-9318-bd62ea9657d7"
      },
      "execution_count": 48,
      "outputs": [
        {
          "output_type": "execute_result",
          "data": {
            "text/plain": [
              "(tensor([[0.3000],\n",
              "         [0.3140],\n",
              "         [0.3280],\n",
              "         [0.3420],\n",
              "         [0.3560],\n",
              "         [0.3700],\n",
              "         [0.3840],\n",
              "         [0.3980],\n",
              "         [0.4120],\n",
              "         [0.4260],\n",
              "         [0.4400],\n",
              "         [0.4540],\n",
              "         [0.4680],\n",
              "         [0.4820],\n",
              "         [0.4960],\n",
              "         [0.5100],\n",
              "         [0.5240],\n",
              "         [0.5380],\n",
              "         [0.5520],\n",
              "         [0.5660],\n",
              "         [0.5800],\n",
              "         [0.5940],\n",
              "         [0.6080],\n",
              "         [0.6220],\n",
              "         [0.6360],\n",
              "         [0.6500],\n",
              "         [0.6640],\n",
              "         [0.6780],\n",
              "         [0.6920],\n",
              "         [0.7060],\n",
              "         [0.7200],\n",
              "         [0.7340],\n",
              "         [0.7480],\n",
              "         [0.7620],\n",
              "         [0.7760],\n",
              "         [0.7900],\n",
              "         [0.8040],\n",
              "         [0.8180],\n",
              "         [0.8320],\n",
              "         [0.8460],\n",
              "         [0.8600],\n",
              "         [0.8740],\n",
              "         [0.8880],\n",
              "         [0.9020],\n",
              "         [0.9160],\n",
              "         [0.9300],\n",
              "         [0.9440],\n",
              "         [0.9580],\n",
              "         [0.9720],\n",
              "         [0.9860]]),\n",
              " torch.Size([50, 1]))"
            ]
          },
          "metadata": {},
          "execution_count": 48
        }
      ]
    },
    {
      "cell_type": "code",
      "source": [
        "plt.scatter(X,y)"
      ],
      "metadata": {
        "colab": {
          "base_uri": "https://localhost:8080/",
          "height": 447
        },
        "id": "tMehBf-F9e7L",
        "outputId": "9d8c3e1c-43ca-491b-d317-1fdeea00c282"
      },
      "execution_count": 49,
      "outputs": [
        {
          "output_type": "execute_result",
          "data": {
            "text/plain": [
              "<matplotlib.collections.PathCollection at 0x7e2cc781e690>"
            ]
          },
          "metadata": {},
          "execution_count": 49
        },
        {
          "output_type": "display_data",
          "data": {
            "text/plain": [
              "<Figure size 640x480 with 1 Axes>"
            ],
            "image/png": "[encoded data removed]"
          },
          "metadata": {}
        }
      ]
    },
    {
      "cell_type": "code",
      "source": [
        "## create train/test spliy\n",
        "\n",
        "train_split=int(0.8*len(X))\n",
        "X_train,y_train=X[:train_split],y[:train_split]\n",
        "X_test,y_test=X[train_split:],y[train_split:]\n",
        "\n",
        "y_train.size(),y_test.size(),X_train.size(),X_test.size()\n",
        "\n"
      ],
      "metadata": {
        "colab": {
          "base_uri": "https://localhost:8080/"
        },
        "id": "ffJNqb2U9tSS",
        "outputId": "5fdb0df6-d305-4c19-a50a-5073b2d154b4"
      },
      "execution_count": 55,
      "outputs": [
        {
          "output_type": "execute_result",
          "data": {
            "text/plain": [
              "(torch.Size([40, 1]),\n",
              " torch.Size([10, 1]),\n",
              " torch.Size([40, 1]),\n",
              " torch.Size([10, 1]))"
            ]
          },
          "metadata": {},
          "execution_count": 55
        }
      ]
    },
    {
      "cell_type": "code",
      "source": [
        "def plot_predictions(train_data=X_train,\n",
        "                     train_labels=y_train,\n",
        "                     test_data=X_test,\n",
        "                     test_labels=y_test,\n",
        "                     predictions=None):\n",
        "  plt.figure(figsize=(10,7))\n",
        "\n",
        "  plt.scatter(train_data,train_labels,c=\"b\",s=8,label=\"Training data\")\n",
        "  plt.scatter(test_data,test_labels,c=\"g\",s=8,label=\"Testing data\")\n",
        "\n",
        "\n",
        "  if predictions is not None:\n",
        "    plt.scatter(test_data,predictions,c=\"r\",label=\"Predictions\")\n",
        "\n",
        "\n",
        "\n",
        "  plt.legend(prop={\"size\":14})\n",
        "\n",
        "\n"
      ],
      "metadata": {
        "id": "WrRnQjJtIaIW"
      },
      "execution_count": 81,
      "outputs": []
    },
    {
      "cell_type": "code",
      "source": [
        "plot_predictions()"
      ],
      "metadata": {
        "colab": {
          "base_uri": "https://localhost:8080/",
          "height": 547
        },
        "id": "8rPzo7PiMXCq",
        "outputId": "759e68ee-2868-488e-9e0e-8f6f9f5ee3cf"
      },
      "execution_count": 82,
      "outputs": [
        {
          "output_type": "display_data",
          "data": {
            "text/plain": [
              "<Figure size 1000x700 with 1 Axes>"
            ],
            "image/png": "[encoded data removed]"
          },
          "metadata": {}
        }
      ]
    },
    {
      "cell_type": "markdown",
      "source": [
        "#  Our model starts from the random values(bias and weights) and update and adjust those random values to best fit our training data through the combination of Gradient descent and backpropagation"
      ],
      "metadata": {
        "id": "i5_uzWFySbgz"
      }
    },
    {
      "cell_type": "code",
      "source": [
        "## builing model\n",
        "import torch\n",
        "from torch import nn\n",
        "\n",
        "class LinearRegressionModel(nn.Module):\n",
        "\n",
        "  def __init__(self):\n",
        "    super().__init__()\n",
        "\n",
        "    self.weights=nn.Parameter(torch.randn(1,requires_grad=true,dtype=torch.float))\n",
        "\n",
        "    self.bias=nn.Parameter(torch.randn(1,requires_grad=True,dtype=torch.float))\n",
        "\n",
        "\n",
        "\n",
        "\n",
        "  def forword(self,x:torch.Tensor) -> torch.Tensor:\n",
        "    return self.weights*x+self.bias\n",
        "\n"
      ],
      "metadata": {
        "id": "Qfktys2yOkXM"
      },
      "execution_count": 89,
      "outputs": []
    },
    {
      "cell_type": "markdown",
      "source": [
        "## Pytorch model building essentials\n",
        "\n",
        "* torch.nn -> contains all thr buildings for computational graphs (NN)\n",
        "* torch.nn.Parameters -> what parameters should our model try and learn\n",
        "* torch.nn.Module- > the base class for all neurat network modules if you subclass it you should overwrite forword()\n",
        "* torch.optim-> optimizers like SGD, Adam, RMSprop"
      ],
      "metadata": {
        "id": "RW6VIRazVHYk"
      }
    },
    {
      "cell_type": "code",
      "source": [],
      "metadata": {
        "id": "6UzzqmHBWstH"
      },
      "execution_count": null,
      "outputs": []
    },
    {
      "cell_type": "code",
      "source": [],
      "metadata": {
        "id": "o-o28s7mWQV4"
      },
      "execution_count": null,
      "outputs": []
    },
    {
      "cell_type": "code",
      "source": [],
      "metadata": {
        "id": "P43eSY9cVOIZ"
      },
      "execution_count": null,
      "outputs": []
    }
  ]
}