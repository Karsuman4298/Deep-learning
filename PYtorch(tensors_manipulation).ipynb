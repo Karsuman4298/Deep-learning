{
  "nbformat": 4,
  "nbformat_minor": 0,
  "metadata": {
    "colab": {
      "provenance": [],
      "gpuType": "T4",
      "authorship_tag": "ABX9TyMb9L9kkWjaicp6grULu0Ib",
      "include_colab_link": true
    },
    "kernelspec": {
      "name": "python3",
      "display_name": "Python 3"
    },
    "language_info": {
      "name": "python"
    },
    "accelerator": "GPU"
  },
  "cells": [
    {
      "cell_type": "markdown",
      "metadata": {
        "id": "view-in-github",
        "colab_type": "text"
      },
      "source": [
        "<a href=\"https://colab.research.google.com/github/Karsuman4298/Deep-learning/blob/main/PYtorch(tensors_manipulation).ipynb\" target=\"_parent\"><img src=\"https://colab.research.google.com/assets/colab-badge.svg\" alt=\"Open In Colab\"/></a>"
      ]
    },
    {
      "cell_type": "markdown",
      "source": [
        "Learning pytorch"
      ],
      "metadata": {
        "id": "4Z4KFD0TSqv5"
      }
    },
    {
      "cell_type": "code",
      "source": [
        "import torch\n",
        "import pandas as pd\n",
        "import numpy as np\n",
        "import matplotlib.pyplot as plt\n",
        "print(torch.__version__)"
      ],
      "metadata": {
        "colab": {
          "base_uri": "https://localhost:8080/"
        },
        "id": "M0Jeq-oISxDo",
        "outputId": "0525297e-5c7a-4789-d42f-e75d7faf9bb3"
      },
      "execution_count": 51,
      "outputs": [
        {
          "output_type": "stream",
          "name": "stdout",
          "text": [
            "2.6.0+cu124\n"
          ]
        }
      ]
    },
    {
      "cell_type": "code",
      "source": [
        "tensor= torch.tensor([[5,7],\n",
        "                       [6,6],\n",
        "                           ])"
      ],
      "metadata": {
        "id": "B283FODfTszQ"
      },
      "execution_count": 52,
      "outputs": []
    },
    {
      "cell_type": "code",
      "source": [
        "tensor"
      ],
      "metadata": {
        "colab": {
          "base_uri": "https://localhost:8080/"
        },
        "id": "TnnVbikyBgFI",
        "outputId": "eb33463d-b33e-4466-ef4d-52ca56887166"
      },
      "execution_count": 53,
      "outputs": [
        {
          "output_type": "execute_result",
          "data": {
            "text/plain": [
              "tensor([[5, 7],\n",
              "        [6, 6]])"
            ]
          },
          "metadata": {},
          "execution_count": 53
        }
      ]
    },
    {
      "cell_type": "code",
      "source": [
        "tensor.shape"
      ],
      "metadata": {
        "colab": {
          "base_uri": "https://localhost:8080/"
        },
        "id": "PgmDiR-0Bi9O",
        "outputId": "3bf11f29-550f-4bd7-e593-9d22527855e0"
      },
      "execution_count": 54,
      "outputs": [
        {
          "output_type": "execute_result",
          "data": {
            "text/plain": [
              "torch.Size([2, 2])"
            ]
          },
          "metadata": {},
          "execution_count": 54
        }
      ]
    },
    {
      "cell_type": "code",
      "source": [
        "tensor.ndim"
      ],
      "metadata": {
        "colab": {
          "base_uri": "https://localhost:8080/"
        },
        "id": "EJlV_odwBnvl",
        "outputId": "bcebf8a9-fdfa-4969-bdd4-49764804acfe"
      },
      "execution_count": 55,
      "outputs": [
        {
          "output_type": "execute_result",
          "data": {
            "text/plain": [
              "2"
            ]
          },
          "metadata": {},
          "execution_count": 55
        }
      ]
    },
    {
      "cell_type": "markdown",
      "source": [
        "random tensors"
      ],
      "metadata": {
        "id": "m2JkJBDZCb09"
      }
    },
    {
      "cell_type": "code",
      "source": [
        "random_tensors= torch.rand(3,2)\n",
        "print(random_tensors)"
      ],
      "metadata": {
        "colab": {
          "base_uri": "https://localhost:8080/"
        },
        "id": "qsMhnIRBCgPb",
        "outputId": "2922f8f0-b03a-443d-f7f9-53ea0407f5e9"
      },
      "execution_count": 56,
      "outputs": [
        {
          "output_type": "stream",
          "name": "stdout",
          "text": [
            "tensor([[0.4050, 0.1602],\n",
            "        [0.5313, 0.0965],\n",
            "        [0.3997, 0.6162]])\n"
          ]
        }
      ]
    },
    {
      "cell_type": "code",
      "source": [
        "random_tensors.ndim"
      ],
      "metadata": {
        "colab": {
          "base_uri": "https://localhost:8080/"
        },
        "id": "4V1UISKXD8hY",
        "outputId": "ad7da8ae-302f-42f1-9acf-451be354b759"
      },
      "execution_count": 57,
      "outputs": [
        {
          "output_type": "execute_result",
          "data": {
            "text/plain": [
              "2"
            ]
          },
          "metadata": {},
          "execution_count": 57
        }
      ]
    },
    {
      "cell_type": "markdown",
      "source": [
        "  Random tensors to size of an image"
      ],
      "metadata": {
        "id": "iBALKxR3EgF8"
      }
    },
    {
      "cell_type": "code",
      "source": [
        "rand_tensor_img= torch.rand(size=(224,224,3))\n",
        "\n",
        "rand_tensor_img.shape, rand_tensor_img.ndim"
      ],
      "metadata": {
        "colab": {
          "base_uri": "https://localhost:8080/"
        },
        "id": "Hz7Y55w9EcJx",
        "outputId": "4fe420e3-92d3-475a-f5c3-dfd95be64047"
      },
      "execution_count": 58,
      "outputs": [
        {
          "output_type": "execute_result",
          "data": {
            "text/plain": [
              "(torch.Size([224, 224, 3]), 3)"
            ]
          },
          "metadata": {},
          "execution_count": 58
        }
      ]
    },
    {
      "cell_type": "code",
      "source": [
        "range=torch.arange(1,11)\n",
        "range"
      ],
      "metadata": {
        "colab": {
          "base_uri": "https://localhost:8080/"
        },
        "id": "MhQL5kliHnFl",
        "outputId": "296f2577-ae3b-4275-f492-5e824d1070f6"
      },
      "execution_count": 59,
      "outputs": [
        {
          "output_type": "execute_result",
          "data": {
            "text/plain": [
              "tensor([ 1,  2,  3,  4,  5,  6,  7,  8,  9, 10])"
            ]
          },
          "metadata": {},
          "execution_count": 59
        }
      ]
    },
    {
      "cell_type": "code",
      "source": [
        "ten_zeros=torch.zeros_like(range)\n",
        "ten_zeros"
      ],
      "metadata": {
        "colab": {
          "base_uri": "https://localhost:8080/"
        },
        "id": "RvQn4p7UIVI2",
        "outputId": "8eb2e6fb-e6bd-49cf-c0fe-68f27c58a1b3"
      },
      "execution_count": 60,
      "outputs": [
        {
          "output_type": "execute_result",
          "data": {
            "text/plain": [
              "tensor([0, 0, 0, 0, 0, 0, 0, 0, 0, 0])"
            ]
          },
          "metadata": {},
          "execution_count": 60
        }
      ]
    },
    {
      "cell_type": "code",
      "source": [
        "print(\"hiii\")"
      ],
      "metadata": {
        "colab": {
          "base_uri": "https://localhost:8080/"
        },
        "id": "HTzFPFuuMIDU",
        "outputId": "fae95308-7f20-4e84-a888-6dbcbe18642b"
      },
      "execution_count": 61,
      "outputs": [
        {
          "output_type": "stream",
          "name": "stdout",
          "text": [
            "hiii\n"
          ]
        }
      ]
    },
    {
      "cell_type": "code",
      "source": [
        "##mul=float_16_tensor*float_32_tensor"
      ],
      "metadata": {
        "id": "u1xQ6TuGpnHa"
      },
      "execution_count": 62,
      "outputs": []
    },
    {
      "cell_type": "code",
      "source": [
        "##mul.dtype"
      ],
      "metadata": {
        "id": "QdFSvFK9qxR9"
      },
      "execution_count": 63,
      "outputs": []
    },
    {
      "cell_type": "code",
      "source": [
        "some_tensor=torch.rand(3,3)"
      ],
      "metadata": {
        "id": "rCUZH6IFrquO"
      },
      "execution_count": 64,
      "outputs": []
    },
    {
      "cell_type": "code",
      "source": [
        "print(some_tensor)\n",
        "print(f\"datatype of the tensor: {some_tensor.dtype}\")\n",
        "print(f\"shape of the tensor: {some_tensor.shape}\")"
      ],
      "metadata": {
        "colab": {
          "base_uri": "https://localhost:8080/"
        },
        "id": "vbyXrT-Gryry",
        "outputId": "d1ddb1ee-2d78-488c-df6f-e50c9a6a1adc"
      },
      "execution_count": 65,
      "outputs": [
        {
          "output_type": "stream",
          "name": "stdout",
          "text": [
            "tensor([[0.4702, 0.5731, 0.5789],\n",
            "        [0.9754, 0.7679, 0.2289],\n",
            "        [0.0623, 0.0795, 0.6060]])\n",
            "datatype of the tensor: torch.float32\n",
            "shape of the tensor: torch.Size([3, 3])\n"
          ]
        }
      ]
    },
    {
      "cell_type": "markdown",
      "source": [
        "Tensor operations\n"
      ],
      "metadata": {
        "id": "EjQReVY0tcmu"
      }
    },
    {
      "cell_type": "code",
      "source": [
        "tensor= torch.tensor([1,2,3])\n",
        "\n"
      ],
      "metadata": {
        "id": "1ylifkbstjj1"
      },
      "execution_count": 66,
      "outputs": []
    },
    {
      "cell_type": "code",
      "source": [
        "torch.mul(tensor,20)"
      ],
      "metadata": {
        "colab": {
          "base_uri": "https://localhost:8080/"
        },
        "id": "YoOhZxe5uw7v",
        "outputId": "4e935a16-ba0e-4c00-cfeb-7a30fb0ef4cf"
      },
      "execution_count": 67,
      "outputs": [
        {
          "output_type": "execute_result",
          "data": {
            "text/plain": [
              "tensor([20, 40, 60])"
            ]
          },
          "metadata": {},
          "execution_count": 67
        }
      ]
    },
    {
      "cell_type": "code",
      "source": [
        "print(tensor,\"*\", tensor)\n",
        "print(f\"Equals: {tensor*tensor}\")"
      ],
      "metadata": {
        "colab": {
          "base_uri": "https://localhost:8080/"
        },
        "id": "Ugrn4zpVwPMi",
        "outputId": "16f90d70-9988-4798-d84b-9b0b01aa09c1"
      },
      "execution_count": 68,
      "outputs": [
        {
          "output_type": "stream",
          "name": "stdout",
          "text": [
            "tensor([1, 2, 3]) * tensor([1, 2, 3])\n",
            "Equals: tensor([1, 4, 9])\n"
          ]
        }
      ]
    },
    {
      "cell_type": "code",
      "source": [],
      "metadata": {
        "id": "JDfzBRkpyOco"
      },
      "execution_count": 68,
      "outputs": []
    },
    {
      "cell_type": "code",
      "source": [
        "%%time\n",
        "torch.matmul(tensor,tensor)\n"
      ],
      "metadata": {
        "colab": {
          "base_uri": "https://localhost:8080/"
        },
        "id": "wCg3fp3hw3u8",
        "outputId": "8afb67e6-c5ca-4fb4-eab6-c1c8027012cd"
      },
      "execution_count": 69,
      "outputs": [
        {
          "output_type": "stream",
          "name": "stdout",
          "text": [
            "CPU times: user 308 µs, sys: 707 µs, total: 1.02 ms\n",
            "Wall time: 13 ms\n"
          ]
        },
        {
          "output_type": "execute_result",
          "data": {
            "text/plain": [
              "tensor(14)"
            ]
          },
          "metadata": {},
          "execution_count": 69
        }
      ]
    },
    {
      "cell_type": "markdown",
      "source": [
        "Shape errors"
      ],
      "metadata": {
        "id": "Cu9JFXLj0Xed"
      }
    },
    {
      "cell_type": "code",
      "source": [
        "torch.matmul(torch.rand(2,3),torch.rand(3,2))"
      ],
      "metadata": {
        "colab": {
          "base_uri": "https://localhost:8080/"
        },
        "id": "mQBuK4r50ZmQ",
        "outputId": "cbec759f-fd94-4dd6-e1c4-bb9a28c3c401"
      },
      "execution_count": 70,
      "outputs": [
        {
          "output_type": "execute_result",
          "data": {
            "text/plain": [
              "tensor([[0.2665, 0.0877],\n",
              "        [0.7241, 0.2562]])"
            ]
          },
          "metadata": {},
          "execution_count": 70
        }
      ]
    },
    {
      "cell_type": "code",
      "source": [
        "tensor_a=torch.tensor([[2,2],\n",
        "                       [2,3],\n",
        "                       [7,5]])\n",
        "tensor_b=torch.tensor([[3,5],\n",
        "                       [7,5],\n",
        "                       [9,8]])"
      ],
      "metadata": {
        "id": "s9hhAkfg2HXU"
      },
      "execution_count": 71,
      "outputs": []
    },
    {
      "cell_type": "markdown",
      "source": [
        "Transpose"
      ],
      "metadata": {
        "id": "SC4BSPJl3bB-"
      }
    },
    {
      "cell_type": "code",
      "source": [
        "tensor_a.T"
      ],
      "metadata": {
        "colab": {
          "base_uri": "https://localhost:8080/"
        },
        "id": "pnmshEkN3aH4",
        "outputId": "3bc2ea5b-5455-48a6-be81-383370410211"
      },
      "execution_count": 72,
      "outputs": [
        {
          "output_type": "execute_result",
          "data": {
            "text/plain": [
              "tensor([[2, 2, 7],\n",
              "        [2, 3, 5]])"
            ]
          },
          "metadata": {},
          "execution_count": 72
        }
      ]
    },
    {
      "cell_type": "code",
      "source": [
        "tensor_b"
      ],
      "metadata": {
        "colab": {
          "base_uri": "https://localhost:8080/"
        },
        "id": "TkVAD7cT3nk7",
        "outputId": "f0e06ca7-37da-430f-efbd-2e64e2fe658c"
      },
      "execution_count": 73,
      "outputs": [
        {
          "output_type": "execute_result",
          "data": {
            "text/plain": [
              "tensor([[3, 5],\n",
              "        [7, 5],\n",
              "        [9, 8]])"
            ]
          },
          "metadata": {},
          "execution_count": 73
        }
      ]
    },
    {
      "cell_type": "code",
      "source": [
        "%%time\n",
        "print(f\" The matrix multiplication is \\n :{tensor_a.T @tensor_b}\")\n"
      ],
      "metadata": {
        "colab": {
          "base_uri": "https://localhost:8080/"
        },
        "id": "kWPOpBGX3t4s",
        "outputId": "7f13ae53-b22a-49fa-d303-705d89b60f0e"
      },
      "execution_count": 74,
      "outputs": [
        {
          "output_type": "stream",
          "name": "stdout",
          "text": [
            " The matrix multiplication is \n",
            " :tensor([[83, 76],\n",
            "        [72, 65]])\n",
            "CPU times: user 1.12 ms, sys: 21 µs, total: 1.14 ms\n",
            "Wall time: 6.57 ms\n"
          ]
        }
      ]
    },
    {
      "cell_type": "markdown",
      "source": [
        "Tensor aggregation"
      ],
      "metadata": {
        "id": "43k3CwSN5sqG"
      }
    },
    {
      "cell_type": "code",
      "source": [
        "x=torch.arange(0,100,10)\n",
        "x"
      ],
      "metadata": {
        "colab": {
          "base_uri": "https://localhost:8080/"
        },
        "id": "aiVycNQK5v2u",
        "outputId": "54b7676e-8451-4848-9ad5-31f05e97f0d4"
      },
      "execution_count": 75,
      "outputs": [
        {
          "output_type": "execute_result",
          "data": {
            "text/plain": [
              "tensor([ 0, 10, 20, 30, 40, 50, 60, 70, 80, 90])"
            ]
          },
          "metadata": {},
          "execution_count": 75
        }
      ]
    },
    {
      "cell_type": "code",
      "source": [
        "x.min()"
      ],
      "metadata": {
        "colab": {
          "base_uri": "https://localhost:8080/"
        },
        "id": "3L_ejrwZ5_BM",
        "outputId": "344c8046-4ad4-44be-86fc-19140a32d03c"
      },
      "execution_count": 76,
      "outputs": [
        {
          "output_type": "execute_result",
          "data": {
            "text/plain": [
              "tensor(0)"
            ]
          },
          "metadata": {},
          "execution_count": 76
        }
      ]
    },
    {
      "cell_type": "code",
      "source": [
        "x.max()"
      ],
      "metadata": {
        "colab": {
          "base_uri": "https://localhost:8080/"
        },
        "id": "2OA7fR0Y6EAw",
        "outputId": "ab494ea8-20b4-4f85-ecec-570e674763bc"
      },
      "execution_count": 77,
      "outputs": [
        {
          "output_type": "execute_result",
          "data": {
            "text/plain": [
              "tensor(90)"
            ]
          },
          "metadata": {},
          "execution_count": 77
        }
      ]
    },
    {
      "cell_type": "markdown",
      "source": [
        "torch.mean() requires a tensor of float32 datatypes"
      ],
      "metadata": {
        "id": "1Ne2nfTu7MaH"
      }
    },
    {
      "cell_type": "code",
      "source": [
        "torch.mean(x.type(torch.float32))"
      ],
      "metadata": {
        "colab": {
          "base_uri": "https://localhost:8080/"
        },
        "id": "KbLwpiJq6Is1",
        "outputId": "0e5fbe35-b4b1-48a1-e58f-2198549d1904"
      },
      "execution_count": 78,
      "outputs": [
        {
          "output_type": "execute_result",
          "data": {
            "text/plain": [
              "tensor(45.)"
            ]
          },
          "metadata": {},
          "execution_count": 78
        }
      ]
    },
    {
      "cell_type": "markdown",
      "source": [
        "argmax -> returns the position of the maximum value in the tensor\n",
        "\n",
        "argmin-> minimun of a tensor"
      ],
      "metadata": {
        "id": "bHPvSvWi7-cA"
      }
    },
    {
      "cell_type": "code",
      "source": [
        "torch.argmin(x)"
      ],
      "metadata": {
        "colab": {
          "base_uri": "https://localhost:8080/"
        },
        "id": "SgyJrVp47jGo",
        "outputId": "bcd210e8-e191-4108-98ed-4aae4a6f78fe"
      },
      "execution_count": 79,
      "outputs": [
        {
          "output_type": "execute_result",
          "data": {
            "text/plain": [
              "tensor(0)"
            ]
          },
          "metadata": {},
          "execution_count": 79
        }
      ]
    },
    {
      "cell_type": "markdown",
      "source": [
        "Reshaping - reshapes an input to a defined shape\n",
        "\n",
        "View - Return a view of an input tensor of certain shape but keep the same memory as the original tensor\n",
        "\n",
        "Stacking - combine multiple tensors on of each other(vstack) or side by(hstack).\n",
        "\n",
        "Squeeze - revomes all '1' dimension from a tensor,\n",
        "\n",
        "Unsqueeze- add a '1' dimension to a target tensor.\n",
        "\n",
        "permute - Return a view of the input with dimensions permuted (swapped) in a certain\n",
        "\n"
      ],
      "metadata": {
        "id": "s4yuOXko_daG"
      }
    },
    {
      "cell_type": "code",
      "source": [
        "import torch\n",
        "x= torch.arange(1., 11.)\n",
        "x, x.shape"
      ],
      "metadata": {
        "id": "SWMqeLCTAR4n",
        "outputId": "6796a8cc-6e5f-475e-a4ce-d334f0577399",
        "colab": {
          "base_uri": "https://localhost:8080/"
        }
      },
      "execution_count": 80,
      "outputs": [
        {
          "output_type": "execute_result",
          "data": {
            "text/plain": [
              "(tensor([ 1.,  2.,  3.,  4.,  5.,  6.,  7.,  8.,  9., 10.]), torch.Size([10]))"
            ]
          },
          "metadata": {},
          "execution_count": 80
        }
      ]
    },
    {
      "cell_type": "code",
      "source": [
        "##adds an extra dimensions\n",
        "x_reshaped= x.reshape(2,5)\n",
        "x_reshaped, x_reshaped.shape"
      ],
      "metadata": {
        "id": "99rmuGYaCi32",
        "outputId": "df1891f1-56d5-48a0-9d16-a408d86cb20b",
        "colab": {
          "base_uri": "https://localhost:8080/"
        }
      },
      "execution_count": 81,
      "outputs": [
        {
          "output_type": "execute_result",
          "data": {
            "text/plain": [
              "(tensor([[ 1.,  2.,  3.,  4.,  5.],\n",
              "         [ 6.,  7.,  8.,  9., 10.]]),\n",
              " torch.Size([2, 5]))"
            ]
          },
          "metadata": {},
          "execution_count": 81
        }
      ]
    },
    {
      "cell_type": "code",
      "source": [
        "import torch\n",
        "x=torch.arange(1,11)\n",
        "x,x.size()"
      ],
      "metadata": {
        "id": "2rmoiPEJ5be-",
        "outputId": "1a9e08dd-3a1a-4560-aafe-860ae598ec60",
        "colab": {
          "base_uri": "https://localhost:8080/"
        }
      },
      "execution_count": 96,
      "outputs": [
        {
          "output_type": "execute_result",
          "data": {
            "text/plain": [
              "(tensor([ 1,  2,  3,  4,  5,  6,  7,  8,  9, 10]), torch.Size([10]))"
            ]
          },
          "metadata": {},
          "execution_count": 96
        }
      ]
    },
    {
      "cell_type": "code",
      "source": [
        "x_reshaped=x.reshape(2,5)\n",
        "x_reshaped, x_reshaped.shape"
      ],
      "metadata": {
        "id": "q-dEztHD7wRp",
        "outputId": "faa3bcbb-0693-4945-c2f0-ff043e2d5d83",
        "colab": {
          "base_uri": "https://localhost:8080/"
        }
      },
      "execution_count": 99,
      "outputs": [
        {
          "output_type": "execute_result",
          "data": {
            "text/plain": [
              "(tensor([[ 1,  2,  3,  4,  5],\n",
              "         [ 6,  7,  8,  9, 10]]),\n",
              " torch.Size([2, 5]))"
            ]
          },
          "metadata": {},
          "execution_count": 99
        }
      ]
    },
    {
      "cell_type": "code",
      "source": [
        "z=x_reshaped.view(1,10)\n",
        "z"
      ],
      "metadata": {
        "id": "ibuKmnCICuD0",
        "outputId": "fe3349ca-a0f2-493d-c9f7-9703c0b05b8b",
        "colab": {
          "base_uri": "https://localhost:8080/"
        }
      },
      "execution_count": 105,
      "outputs": [
        {
          "output_type": "execute_result",
          "data": {
            "text/plain": [
              "tensor([[ 1,  2,  3,  4,  5,  6,  7,  8,  9, 10]])"
            ]
          },
          "metadata": {},
          "execution_count": 105
        }
      ]
    },
    {
      "cell_type": "markdown",
      "source": [
        "## Changing z changes x because a view of a tensor shares same memory as the original input."
      ],
      "metadata": {
        "id": "D9Jucv2mDZjm"
      }
    },
    {
      "cell_type": "code",
      "source": [
        "z[:,0]=5\n",
        "z,x"
      ],
      "metadata": {
        "id": "KFXONaPiDqBQ",
        "outputId": "82562184-588b-4030-99e1-3172a36a6d99",
        "colab": {
          "base_uri": "https://localhost:8080/"
        }
      },
      "execution_count": 110,
      "outputs": [
        {
          "output_type": "execute_result",
          "data": {
            "text/plain": [
              "(tensor([[ 5,  2,  3,  4,  5,  5,  7,  8,  9, 10]]),\n",
              " tensor([ 5,  2,  3,  4,  5,  5,  7,  8,  9, 10]))"
            ]
          },
          "metadata": {},
          "execution_count": 110
        }
      ]
    },
    {
      "cell_type": "code",
      "source": [
        "## stack tensors on the top each other\n",
        "x_stacked=torch.stack([x,x,x],dim=0)\n",
        "x_stacked,x_stacked.size()"
      ],
      "metadata": {
        "id": "jC2liwpDEBws",
        "outputId": "a1180836-cd1f-4f45-b1a4-eb5bd7f08c99",
        "colab": {
          "base_uri": "https://localhost:8080/"
        }
      },
      "execution_count": 124,
      "outputs": [
        {
          "output_type": "execute_result",
          "data": {
            "text/plain": [
              "(tensor([[ 5,  2,  3,  4,  5,  5,  7,  8,  9, 10],\n",
              "         [ 5,  2,  3,  4,  5,  5,  7,  8,  9, 10],\n",
              "         [ 5,  2,  3,  4,  5,  5,  7,  8,  9, 10]]),\n",
              " torch.Size([3, 10]))"
            ]
          },
          "metadata": {},
          "execution_count": 124
        }
      ]
    },
    {
      "cell_type": "code",
      "source": [
        "## torhc.squeeze() -> remoe=ve all single dimention from the targeted vector.\n",
        "x=torch.arange(1,11)\n",
        "x,x.shape\n"
      ],
      "metadata": {
        "id": "hMCMFrw0F6cl",
        "outputId": "01f4f5b2-3a7a-40b6-8dd1-8b2821b14f15",
        "colab": {
          "base_uri": "https://localhost:8080/"
        }
      },
      "execution_count": 133,
      "outputs": [
        {
          "output_type": "execute_result",
          "data": {
            "text/plain": [
              "(tensor([ 1,  2,  3,  4,  5,  6,  7,  8,  9, 10]), torch.Size([10]))"
            ]
          },
          "metadata": {},
          "execution_count": 133
        }
      ]
    },
    {
      "cell_type": "code",
      "source": [
        "y=x.squeeze()\n",
        "y.shape"
      ],
      "metadata": {
        "id": "bP1gd-66G2_-",
        "outputId": "641e3d16-8cb2-4334-e0c3-d6afb0b4418e",
        "colab": {
          "base_uri": "https://localhost:8080/"
        }
      },
      "execution_count": 132,
      "outputs": [
        {
          "output_type": "execute_result",
          "data": {
            "text/plain": [
              "torch.Size([10])"
            ]
          },
          "metadata": {},
          "execution_count": 132
        }
      ]
    },
    {
      "cell_type": "code",
      "source": [
        "## torch.permute -> rearrange the dimension of the target in a specific order.\n",
        "x_original=torch.rand(size=(224,224,3))\n",
        "x_permuted=x_original.permute(2,0,1)\n",
        "x_original.shape, x_permuted.shape"
      ],
      "metadata": {
        "id": "P3JOkG5mKJjt",
        "outputId": "6c57f499-200a-4979-cb70-58a5511be01d",
        "colab": {
          "base_uri": "https://localhost:8080/"
        }
      },
      "execution_count": 134,
      "outputs": [
        {
          "output_type": "execute_result",
          "data": {
            "text/plain": [
              "(torch.Size([224, 224, 3]), torch.Size([3, 224, 224]))"
            ]
          },
          "metadata": {},
          "execution_count": 134
        }
      ]
    },
    {
      "cell_type": "markdown",
      "source": [
        "Indexing"
      ],
      "metadata": {
        "id": "lkQx4SAjQEKW"
      }
    },
    {
      "cell_type": "code",
      "source": [
        "import torch\n",
        "x=torch.arange(1,10).reshape(1,3,3)\n",
        "x,x.shape"
      ],
      "metadata": {
        "id": "FVdL-v3ZQC1W",
        "outputId": "050204cd-edaa-4e24-81ab-cc262246d90e",
        "colab": {
          "base_uri": "https://localhost:8080/"
        }
      },
      "execution_count": 135,
      "outputs": [
        {
          "output_type": "execute_result",
          "data": {
            "text/plain": [
              "(tensor([[[1, 2, 3],\n",
              "          [4, 5, 6],\n",
              "          [7, 8, 9]]]),\n",
              " torch.Size([1, 3, 3]))"
            ]
          },
          "metadata": {},
          "execution_count": 135
        }
      ]
    },
    {
      "cell_type": "code",
      "source": [
        "x[0][2][2]"
      ],
      "metadata": {
        "id": "quQZtNP4QhEB",
        "outputId": "c4f3133c-90b1-4c14-d947-536b804a0a7d",
        "colab": {
          "base_uri": "https://localhost:8080/"
        }
      },
      "execution_count": 147,
      "outputs": [
        {
          "output_type": "execute_result",
          "data": {
            "text/plain": [
              "tensor(9)"
            ]
          },
          "metadata": {},
          "execution_count": 147
        }
      ]
    },
    {
      "cell_type": "code",
      "source": [],
      "metadata": {
        "id": "_8q4pq85Snmu"
      },
      "execution_count": null,
      "outputs": []
    }
  ]
}