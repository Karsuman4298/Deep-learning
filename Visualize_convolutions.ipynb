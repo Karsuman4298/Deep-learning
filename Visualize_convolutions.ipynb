{
  "nbformat": 4,
  "nbformat_minor": 0,
  "metadata": {
    "colab": {
      "provenance": [],
      "authorship_tag": "ABX9TyNQkq6mGmHwjK3JAnRHIdXj",
      "include_colab_link": true
    },
    "kernelspec": {
      "name": "python3",
      "display_name": "Python 3"
    },
    "language_info": {
      "name": "python"
    }
  },
  "cells": [
    {
      "cell_type": "markdown",
      "metadata": {
        "id": "view-in-github",
        "colab_type": "text"
      },
      "source": [
        "<a href=\"https://colab.research.google.com/github/Karsuman4298/Deep-learning/blob/main/Visualize_convolutions.ipynb\" target=\"_parent\"><img src=\"https://colab.research.google.com/assets/colab-badge.svg\" alt=\"Open In Colab\"/></a>"
      ]
    },
    {
      "cell_type": "code",
      "execution_count": 1,
      "metadata": {
        "colab": {
          "base_uri": "https://localhost:8080/",
          "height": 452
        },
        "id": "Vlkalw7XeHLN",
        "outputId": "87309311-3b4e-4545-9489-ba488ecef7ca"
      },
      "outputs": [
        {
          "output_type": "display_data",
          "data": {
            "text/plain": [
              "<Figure size 640x480 with 1 Axes>"
            ],
            "image/png": "[encoded data removed]"
          },
          "metadata": {}
        }
      ],
      "source": [
        "import numpy as np\n",
        "import matplotlib.pyplot as plt\n",
        "import matplotlib.animation as animation\n",
        "\n",
        "# Create a dummy grayscale image (6x6)\n",
        "image = np.array([\n",
        "    [1, 2, 0, 1, 2, 1],\n",
        "    [4, 5, 6, 1, 0, 0],\n",
        "    [7, 8, 9, 1, 2, 1],\n",
        "    [1, 2, 3, 4, 5, 6],\n",
        "    [1, 0, 1, 0, 1, 0],\n",
        "    [2, 1, 2, 1, 2, 1]\n",
        "])\n",
        "\n",
        "# Define 3x3 filter\n",
        "kernel = np.array([\n",
        "    [1, 0, -1],\n",
        "    [1, 0, -1],\n",
        "    [1, 0, -1]\n",
        "])\n",
        "\n",
        "fig, ax = plt.subplots()\n",
        "\n",
        "def update(frame):\n",
        "    ax.clear()\n",
        "    ax.set_title(\"Sliding Kernel - Step {}\".format(frame+1))\n",
        "    ax.imshow(image, cmap='gray')\n",
        "\n",
        "    # Show kernel window\n",
        "    x = frame % 4\n",
        "    y = frame // 4\n",
        "    rect = plt.Rectangle((x-0.5, y-0.5), 3, 3, edgecolor='red', facecolor='none', linewidth=2)\n",
        "    ax.add_patch(rect)\n",
        "\n",
        "ani = animation.FuncAnimation(fig, update, frames=16, interval=500)\n",
        "\n",
        "# Save as mp4 or gif\n",
        "ani.save(\"cnn_convolution.gif\", writer='pillow')\n",
        "# ani.save(\"cnn_convolution.mp4\", writer='ffmpeg')  # for mp4\n",
        "\n"
      ]
    },
    {
      "cell_type": "code",
      "source": [
        "ani.save(\"cnn_convolution.gif\", writer='pillow')"
      ],
      "metadata": {
        "colab": {
          "base_uri": "https://localhost:8080/"
        },
        "id": "0humTXxxeqyD",
        "outputId": "1448dbb2-f39f-42c5-ee81-23cca90ee0a8"
      },
      "execution_count": 3,
      "outputs": [
        {
          "output_type": "stream",
          "name": "stdout",
          "text": [
            "None\n"
          ]
        }
      ]
    },
    {
      "cell_type": "code",
      "source": [
        "import numpy as np\n",
        "import matplotlib.pyplot as plt\n",
        "import matplotlib.animation as animation\n",
        "\n",
        "# Create a dummy 6x6 grayscale image\n",
        "image = np.array([\n",
        "    [1, 2, 0, 1, 2, 1],\n",
        "    [4, 5, 6, 1, 0, 0],\n",
        "    [7, 8, 9, 1, 2, 1],\n",
        "    [1, 2, 3, 4, 5, 6],\n",
        "    [1, 0, 1, 0, 1, 0],\n",
        "    [2, 1, 2, 1, 2, 1]\n",
        "])\n",
        "\n",
        "# Dimensions\n",
        "img_h, img_w = image.shape\n",
        "k_size = 3\n",
        "stride = 1\n",
        "\n",
        "# Output size\n",
        "out_h = (img_h - k_size) // stride + 1\n",
        "out_w = (img_w - k_size) // stride + 1\n",
        "\n",
        "# Precompute all top-left corners of the sliding window\n",
        "positions = [(i, j) for i in range(out_h) for j in range(out_w)]\n",
        "\n",
        "# Set up the plot\n",
        "fig, ax = plt.subplots(figsize=(5, 5))\n",
        "\n",
        "def update(frame):\n",
        "    ax.clear()\n",
        "    ax.set_title(\"CNN Convolution: Step {}\".format(frame + 1))\n",
        "    ax.imshow(image, cmap='gray', vmin=0, vmax=9)\n",
        "\n",
        "    i, j = positions[frame]\n",
        "    # Draw red rectangle over current kernel position\n",
        "    rect = plt.Rectangle((j - 0.5, i - 0.5), k_size, k_size,\n",
        "                         edgecolor='red', facecolor='none', linewidth=2)\n",
        "    ax.add_patch(rect)\n",
        "\n",
        "    # Optional: Show coordinates\n",
        "    ax.text(0, -1, f\"Kernel Position: ({i}, {j})\", fontsize=12)\n",
        "\n",
        "    ax.set_xticks(np.arange(-.5, 6, 1), minor=True)\n",
        "    ax.set_yticks(np.arange(-.5, 6, 1), minor=True)\n",
        "    ax.grid(which='minor', color='gray', linestyle='--', linewidth=0.5)\n",
        "\n",
        "# Create the animation\n",
        "ani = animation.FuncAnimation(fig, update, frames=len(positions), interval=600)\n",
        "\n",
        "# Save animation as a GIF\n",
        "ani.save(\"cnn_convolution.gif\", writer='pillow')\n",
        "\n"
      ],
      "metadata": {
        "colab": {
          "base_uri": "https://localhost:8080/",
          "height": 491
        },
        "id": "-F39sVCgfFkx",
        "outputId": "c5791033-1830-4b67-d870-64f1cab8e9e5"
      },
      "execution_count": 4,
      "outputs": [
        {
          "output_type": "display_data",
          "data": {
            "text/plain": [
              "<Figure size 500x500 with 1 Axes>"
            ],
            "image/png": "[encoded data removed]"
          },
          "metadata": {}
        }
      ]
    },
    {
      "cell_type": "code",
      "source": [
        "from google.colab import files\n",
        "files.download(\"cnn_convolution.gif\")\n"
      ],
      "metadata": {
        "colab": {
          "base_uri": "https://localhost:8080/",
          "height": 17
        },
        "id": "ccWHtAAVfZAb",
        "outputId": "733fc741-dc83-4a3d-9fa6-d3b652ef993b"
      },
      "execution_count": 5,
      "outputs": [
        {
          "output_type": "display_data",
          "data": {
            "text/plain": [
              "<IPython.core.display.Javascript object>"
            ],
            "application/javascript": [
              "\n",
              "    async function download(id, filename, size) {\n",
              "      if (!google.colab.kernel.accessAllowed) {\n",
              "        return;\n",
              "      }\n",
              "      const div = document.createElement('div');\n",
              "      const label = document.createElement('label');\n",
              "      label.textContent = `Downloading \"${filename}\": `;\n",
              "      div.appendChild(label);\n",
              "      const progress = document.createElement('progress');\n",
              "      progress.max = size;\n",
              "      div.appendChild(progress);\n",
              "      document.body.appendChild(div);\n",
              "\n",
              "      const buffers = [];\n",
              "      let downloaded = 0;\n",
              "\n",
              "      const channel = await google.colab.kernel.comms.open(id);\n",
              "      // Send a message to notify the kernel that we're ready.\n",
              "      channel.send({})\n",
              "\n",
              "      for await (const message of channel.messages) {\n",
              "        // Send a message to notify the kernel that we're ready.\n",
              "        channel.send({})\n",
              "        if (message.buffers) {\n",
              "          for (const buffer of message.buffers) {\n",
              "            buffers.push(buffer);\n",
              "            downloaded += buffer.byteLength;\n",
              "            progress.value = downloaded;\n",
              "          }\n",
              "        }\n",
              "      }\n",
              "      const blob = new Blob(buffers, {type: 'application/binary'});\n",
              "      const a = document.createElement('a');\n",
              "      a.href = window.URL.createObjectURL(blob);\n",
              "      a.download = filename;\n",
              "      div.appendChild(a);\n",
              "      a.click();\n",
              "      div.remove();\n",
              "    }\n",
              "  "
            ]
          },
          "metadata": {}
        },
        {
          "output_type": "display_data",
          "data": {
            "text/plain": [
              "<IPython.core.display.Javascript object>"
            ],
            "application/javascript": [
              "download(\"download_7d3e9e7c-1105-4d40-a7f2-54fccf18f596\", \"cnn_convolution.gif\", 103100)"
            ]
          },
          "metadata": {}
        }
      ]
    },
    {
      "cell_type": "code",
      "source": [
        "import numpy as np\n",
        "import matplotlib.pyplot as plt\n",
        "import matplotlib.animation as animation\n",
        "\n",
        "# Dummy input image (6x6)\n",
        "image = np.array([\n",
        "    [1, 2, 0, 1, 2, 1],\n",
        "    [4, 5, 6, 1, 0, 0],\n",
        "    [7, 8, 9, 1, 2, 1],\n",
        "    [1, 2, 3, 4, 5, 6],\n",
        "    [1, 0, 1, 0, 1, 0],\n",
        "    [2, 1, 2, 1, 2, 1]\n",
        "])\n",
        "\n",
        "# 3x3 filter (Sobel-like)\n",
        "kernel = np.array([\n",
        "    [1, 0, -1],\n",
        "    [1, 0, -1],\n",
        "    [1, 0, -1]\n",
        "])\n",
        "\n",
        "# Dimensions\n",
        "img_h, img_w = image.shape\n",
        "k_size = 3\n",
        "stride = 1\n",
        "\n",
        "# Output shape\n",
        "out_h = (img_h - k_size) // stride + 1\n",
        "out_w = (img_w - k_size) // stride + 1\n",
        "feature_map = np.zeros((out_h, out_w))\n",
        "\n",
        "# All kernel positions\n",
        "positions = [(i, j) for i in range(out_h) for j in range(out_w)]\n",
        "\n",
        "# Set up plots\n",
        "fig, (ax1, ax2) = plt.subplots(1, 2, figsize=(10, 5))\n",
        "\n",
        "def update(frame):\n",
        "    ax1.clear()\n",
        "    ax2.clear()\n",
        "\n",
        "    i, j = positions[frame]\n",
        "\n",
        "    # Display input image and sliding kernel\n",
        "    ax1.imshow(image, cmap='gray', vmin=0, vmax=9)\n",
        "    ax1.set_title(\"Input Image with Kernel\")\n",
        "    rect = plt.Rectangle((j - 0.5, i - 0.5), k_size, k_size, edgecolor='red', facecolor='none', linewidth=2)\n",
        "    ax1.add_patch(rect)\n",
        "\n",
        "    # Compute convolution at this location\n",
        "    patch = image[i:i+k_size, j:j+k_size]\n",
        "    conv_result = np.sum(patch * kernel)\n",
        "    feature_map[i, j] = conv_result\n",
        "\n",
        "    # Display feature map\n",
        "    ax2.imshow(feature_map, cmap='viridis', vmin=np.min(feature_map), vmax=np.max(feature_map))\n",
        "    ax2.set_title(\"Feature Map (Step {})\".format(frame + 1))\n",
        "\n",
        "    # Grid and labels (optional)\n",
        "    for ax in [ax1, ax2]:\n",
        "        ax.set_xticks(np.arange(-.5, 6, 1), minor=True)\n",
        "        ax.set_yticks(np.arange(-.5, 6, 1), minor=True)\n",
        "        ax.grid(which='minor', color='gray', linestyle='--', linewidth=0.5)\n",
        "\n",
        "# Animate\n",
        "ani = animation.FuncAnimation(fig, update, frames=len(positions), interval=600)\n",
        "\n",
        "# Save to GIF\n",
        "ani.save(\"cnn_with_feature_map.gif\", writer='pillow')\n"
      ],
      "metadata": {
        "colab": {
          "base_uri": "https://localhost:8080/",
          "height": 435
        },
        "id": "INia5d_rf8D9",
        "outputId": "06dc1cda-42f6-4e77-9f24-1904fb4bcf39"
      },
      "execution_count": 6,
      "outputs": [
        {
          "output_type": "display_data",
          "data": {
            "text/plain": [
              "<Figure size 1000x500 with 2 Axes>"
            ],
            "image/png": "[encoded data removed]"
          },
          "metadata": {}
        }
      ]
    },
    {
      "cell_type": "code",
      "source": [
        "from google.colab import files\n",
        "files.download(\"cnn_with_feature_map.gif\")"
      ],
      "metadata": {
        "colab": {
          "base_uri": "https://localhost:8080/",
          "height": 17
        },
        "id": "kTNruJRAgDCW",
        "outputId": "a0c2a053-3d82-4c20-a6de-ffe8adf06e53"
      },
      "execution_count": 7,
      "outputs": [
        {
          "output_type": "display_data",
          "data": {
            "text/plain": [
              "<IPython.core.display.Javascript object>"
            ],
            "application/javascript": [
              "\n",
              "    async function download(id, filename, size) {\n",
              "      if (!google.colab.kernel.accessAllowed) {\n",
              "        return;\n",
              "      }\n",
              "      const div = document.createElement('div');\n",
              "      const label = document.createElement('label');\n",
              "      label.textContent = `Downloading \"${filename}\": `;\n",
              "      div.appendChild(label);\n",
              "      const progress = document.createElement('progress');\n",
              "      progress.max = size;\n",
              "      div.appendChild(progress);\n",
              "      document.body.appendChild(div);\n",
              "\n",
              "      const buffers = [];\n",
              "      let downloaded = 0;\n",
              "\n",
              "      const channel = await google.colab.kernel.comms.open(id);\n",
              "      // Send a message to notify the kernel that we're ready.\n",
              "      channel.send({})\n",
              "\n",
              "      for await (const message of channel.messages) {\n",
              "        // Send a message to notify the kernel that we're ready.\n",
              "        channel.send({})\n",
              "        if (message.buffers) {\n",
              "          for (const buffer of message.buffers) {\n",
              "            buffers.push(buffer);\n",
              "            downloaded += buffer.byteLength;\n",
              "            progress.value = downloaded;\n",
              "          }\n",
              "        }\n",
              "      }\n",
              "      const blob = new Blob(buffers, {type: 'application/binary'});\n",
              "      const a = document.createElement('a');\n",
              "      a.href = window.URL.createObjectURL(blob);\n",
              "      a.download = filename;\n",
              "      div.appendChild(a);\n",
              "      a.click();\n",
              "      div.remove();\n",
              "    }\n",
              "  "
            ]
          },
          "metadata": {}
        },
        {
          "output_type": "display_data",
          "data": {
            "text/plain": [
              "<IPython.core.display.Javascript object>"
            ],
            "application/javascript": [
              "download(\"download_fce1cdaf-d4bf-417a-8930-010f7c01181e\", \"cnn_with_feature_map.gif\", 143660)"
            ]
          },
          "metadata": {}
        }
      ]
    },
    {
      "cell_type": "code",
      "source": [
        "import numpy as np\n",
        "import matplotlib.pyplot as plt\n",
        "import matplotlib.animation as animation\n",
        "\n",
        "# Use the feature_map from the previous step\n",
        "feature_map = np.array([\n",
        "    [10, 5, -2, -3],\n",
        "    [4, -1, 0, 7],\n",
        "    [-5, 2, 1, -4],\n",
        "    [3, -6, 2, 8]\n",
        "], dtype=float)\n",
        "\n",
        "relu_map = np.copy(feature_map)\n",
        "\n",
        "fig, (ax1, ax2) = plt.subplots(1, 2, figsize=(10, 5))\n",
        "\n",
        "positions = [(i, j) for i in range(4) for j in range(4)]\n",
        "\n",
        "def relu_update(frame):\n",
        "    ax1.clear()\n",
        "    ax2.clear()\n",
        "\n",
        "    i, j = positions[frame]\n",
        "    val = relu_map[i, j]\n",
        "    relu_map[i, j] = max(0, val)\n",
        "\n",
        "    # Before ReLU\n",
        "    ax1.imshow(feature_map, cmap='coolwarm', vmin=-10, vmax=10)\n",
        "    ax1.set_title(\"Before ReLU\")\n",
        "\n",
        "    # After ReLU\n",
        "    ax2.imshow(relu_map, cmap='coolwarm', vmin=-10, vmax=10)\n",
        "    ax2.set_title(\"After ReLU (Step {})\".format(frame + 1))\n",
        "\n",
        "    for ax in [ax1, ax2]:\n",
        "        ax.set_xticks(np.arange(-.5, 4, 1), minor=True)\n",
        "        ax.set_yticks(np.arange(-.5, 4, 1), minor=True)\n",
        "        ax.grid(which='minor', color='gray', linestyle='--', linewidth=0.5)\n",
        "\n",
        "ani = animation.FuncAnimation(fig, relu_update, frames=len(positions), interval=500)\n",
        "ani.save(\"relu_activation.gif\", writer='pillow')\n"
      ],
      "metadata": {
        "colab": {
          "base_uri": "https://localhost:8080/",
          "height": 435
        },
        "id": "CoyQMokXgg4m",
        "outputId": "b92c7a98-5c0b-46ff-8b79-a1dbdb7f8a56"
      },
      "execution_count": 8,
      "outputs": [
        {
          "output_type": "display_data",
          "data": {
            "text/plain": [
              "<Figure size 1000x500 with 2 Axes>"
            ],
            "image/png": "[encoded data removed]"
          },
          "metadata": {}
        }
      ]
    },
    {
      "cell_type": "code",
      "source": [
        "from google.colab import files\n",
        "files.download(\"relu_activation.gif\")\n"
      ],
      "metadata": {
        "colab": {
          "base_uri": "https://localhost:8080/",
          "height": 17
        },
        "id": "M6HrccazgkVn",
        "outputId": "6daabe00-9fc6-4e26-af97-d9f4d9634e98"
      },
      "execution_count": 9,
      "outputs": [
        {
          "output_type": "display_data",
          "data": {
            "text/plain": [
              "<IPython.core.display.Javascript object>"
            ],
            "application/javascript": [
              "\n",
              "    async function download(id, filename, size) {\n",
              "      if (!google.colab.kernel.accessAllowed) {\n",
              "        return;\n",
              "      }\n",
              "      const div = document.createElement('div');\n",
              "      const label = document.createElement('label');\n",
              "      label.textContent = `Downloading \"${filename}\": `;\n",
              "      div.appendChild(label);\n",
              "      const progress = document.createElement('progress');\n",
              "      progress.max = size;\n",
              "      div.appendChild(progress);\n",
              "      document.body.appendChild(div);\n",
              "\n",
              "      const buffers = [];\n",
              "      let downloaded = 0;\n",
              "\n",
              "      const channel = await google.colab.kernel.comms.open(id);\n",
              "      // Send a message to notify the kernel that we're ready.\n",
              "      channel.send({})\n",
              "\n",
              "      for await (const message of channel.messages) {\n",
              "        // Send a message to notify the kernel that we're ready.\n",
              "        channel.send({})\n",
              "        if (message.buffers) {\n",
              "          for (const buffer of message.buffers) {\n",
              "            buffers.push(buffer);\n",
              "            downloaded += buffer.byteLength;\n",
              "            progress.value = downloaded;\n",
              "          }\n",
              "        }\n",
              "      }\n",
              "      const blob = new Blob(buffers, {type: 'application/binary'});\n",
              "      const a = document.createElement('a');\n",
              "      a.href = window.URL.createObjectURL(blob);\n",
              "      a.download = filename;\n",
              "      div.appendChild(a);\n",
              "      a.click();\n",
              "      div.remove();\n",
              "    }\n",
              "  "
            ]
          },
          "metadata": {}
        },
        {
          "output_type": "display_data",
          "data": {
            "text/plain": [
              "<IPython.core.display.Javascript object>"
            ],
            "application/javascript": [
              "download(\"download_1b8625e7-2922-44cf-94f0-d22f0626e146\", \"relu_activation.gif\", 221019)"
            ]
          },
          "metadata": {}
        }
      ]
    },
    {
      "cell_type": "code",
      "source": [
        "import numpy as np\n",
        "import matplotlib.pyplot as plt\n",
        "import matplotlib.animation as animation\n",
        "\n",
        "# ReLU output (example)\n",
        "relu_map = np.array([\n",
        "    [10, 5,  0,  0],\n",
        "    [ 4, 0,  0,  7],\n",
        "    [ 0, 2,  1,  0],\n",
        "    [ 3, 0,  2,  8]\n",
        "])\n",
        "\n",
        "input_h, input_w = relu_map.shape\n",
        "pool_size = 2\n",
        "stride = 2\n",
        "\n",
        "out_h = (input_h - pool_size) // stride + 1\n",
        "out_w = (input_w - pool_size) // stride + 1\n",
        "\n",
        "pooled_map = np.zeros((out_h, out_w))\n",
        "\n",
        "positions = [(i, j) for i in range(0, input_h, stride) for j in range(0, input_w, stride)]\n",
        "\n",
        "fig, (ax1, ax2) = plt.subplots(1, 2, figsize=(10, 5))\n",
        "\n",
        "def update_pooling(frame):\n",
        "    ax1.clear()\n",
        "    ax2.clear()\n",
        "\n",
        "    i, j = positions[frame]\n",
        "    out_i = i // stride\n",
        "    out_j = j // stride\n",
        "\n",
        "    patch = relu_map[i:i+pool_size, j:j+pool_size]\n",
        "    max_val = np.max(patch)\n",
        "    pooled_map[out_i, out_j] = max_val\n",
        "\n",
        "    # Show sliding window\n",
        "    ax1.imshow(relu_map, cmap='coolwarm', vmin=0, vmax=np.max(relu_map))\n",
        "    rect = plt.Rectangle((j - 0.5, i - 0.5), pool_size, pool_size,\n",
        "                         edgecolor='green', facecolor='none', linewidth=2)\n",
        "    ax1.add_patch(rect)\n",
        "    ax1.set_title(\"Max Pooling Window\")\n",
        "\n",
        "    # Show pooled output\n",
        "    ax2.imshow(pooled_map, cmap='viridis', vmin=0, vmax=np.max(relu_map))\n",
        "    ax2.set_title(\"Pooled Map (Step {})\".format(frame + 1))\n",
        "\n",
        "    for ax in [ax1, ax2]:\n",
        "        ax.set_xticks(np.arange(-.5, 4, 1), minor=True)\n",
        "        ax.set_yticks(np.arange(-.5, 4, 1), minor=True)\n",
        "        ax.grid(which='minor', color='gray', linestyle='--', linewidth=0.5)\n",
        "\n",
        "ani = animation.FuncAnimation(fig, update_pooling, frames=len(positions), interval=600)\n",
        "ani.save(\"max_pooling.gif\", writer='pillow')\n"
      ],
      "metadata": {
        "colab": {
          "base_uri": "https://localhost:8080/",
          "height": 435
        },
        "id": "mYJRsrSPg15Q",
        "outputId": "bc8862f5-0896-422b-e3b9-8490f40e93a7"
      },
      "execution_count": 10,
      "outputs": [
        {
          "output_type": "display_data",
          "data": {
            "text/plain": [
              "<Figure size 1000x500 with 2 Axes>"
            ],
            "image/png": "[encoded data removed]"
          },
          "metadata": {}
        }
      ]
    },
    {
      "cell_type": "code",
      "source": [
        "from google.colab import files\n",
        "files.download(\"max_pooling.gif\")\n"
      ],
      "metadata": {
        "colab": {
          "base_uri": "https://localhost:8080/",
          "height": 17
        },
        "id": "RyTtjERng4N2",
        "outputId": "608c4e8f-5043-44db-90f0-5d4a302b5c97"
      },
      "execution_count": 11,
      "outputs": [
        {
          "output_type": "display_data",
          "data": {
            "text/plain": [
              "<IPython.core.display.Javascript object>"
            ],
            "application/javascript": [
              "\n",
              "    async function download(id, filename, size) {\n",
              "      if (!google.colab.kernel.accessAllowed) {\n",
              "        return;\n",
              "      }\n",
              "      const div = document.createElement('div');\n",
              "      const label = document.createElement('label');\n",
              "      label.textContent = `Downloading \"${filename}\": `;\n",
              "      div.appendChild(label);\n",
              "      const progress = document.createElement('progress');\n",
              "      progress.max = size;\n",
              "      div.appendChild(progress);\n",
              "      document.body.appendChild(div);\n",
              "\n",
              "      const buffers = [];\n",
              "      let downloaded = 0;\n",
              "\n",
              "      const channel = await google.colab.kernel.comms.open(id);\n",
              "      // Send a message to notify the kernel that we're ready.\n",
              "      channel.send({})\n",
              "\n",
              "      for await (const message of channel.messages) {\n",
              "        // Send a message to notify the kernel that we're ready.\n",
              "        channel.send({})\n",
              "        if (message.buffers) {\n",
              "          for (const buffer of message.buffers) {\n",
              "            buffers.push(buffer);\n",
              "            downloaded += buffer.byteLength;\n",
              "            progress.value = downloaded;\n",
              "          }\n",
              "        }\n",
              "      }\n",
              "      const blob = new Blob(buffers, {type: 'application/binary'});\n",
              "      const a = document.createElement('a');\n",
              "      a.href = window.URL.createObjectURL(blob);\n",
              "      a.download = filename;\n",
              "      div.appendChild(a);\n",
              "      a.click();\n",
              "      div.remove();\n",
              "    }\n",
              "  "
            ]
          },
          "metadata": {}
        },
        {
          "output_type": "display_data",
          "data": {
            "text/plain": [
              "<IPython.core.display.Javascript object>"
            ],
            "application/javascript": [
              "download(\"download_03157f36-9034-48bc-9b52-a0878d643d53\", \"max_pooling.gif\", 41298)"
            ]
          },
          "metadata": {}
        }
      ]
    },
    {
      "cell_type": "code",
      "source": [
        "import numpy as np\n",
        "import matplotlib.pyplot as plt\n",
        "from mpl_toolkits.mplot3d.art3d import Poly3DCollection\n",
        "import matplotlib.animation as animation\n",
        "\n",
        "# Input feature map after ReLU\n",
        "relu_map = np.array([\n",
        "    [10, 5,  0,  0],\n",
        "    [ 4, 0,  0,  7],\n",
        "    [ 0, 2,  1,  0],\n",
        "    [ 3, 0,  2,  8]\n",
        "])\n",
        "\n",
        "pool_size = 2\n",
        "stride = 2\n",
        "\n",
        "out_h = relu_map.shape[0] // pool_size\n",
        "out_w = relu_map.shape[1] // pool_size\n",
        "pooled_map = np.zeros((out_h, out_w))\n",
        "positions = [(i, j) for i in range(0, relu_map.shape[0], stride)\n",
        "                      for j in range(0, relu_map.shape[1], stride)]\n",
        "\n",
        "# Helper: draw cube at (x, y, z)\n",
        "def draw_cube(ax, x, y, z, size=1, color='skyblue', alpha=0.8):\n",
        "    r = [0, size]\n",
        "    vertices = np.array([\n",
        "        [[x+r[0], y+r[0], z+r[0]], [x+r[1], y+r[0], z+r[0]], [x+r[1], y+r[1], z+r[0]], [x+r[0], y+r[1], z+r[0]]],\n",
        "        [[x+r[0], y+r[0], z+r[1]], [x+r[1], y+r[0], z+r[1]], [x+r[1], y+r[1], z+r[1]], [x+r[0], y+r[1], z+r[1]]],\n",
        "        [[x+r[0], y+r[0], z+r[0]], [x+r[1], y+r[0], z+r[0]], [x+r[1], y+r[0], z+r[1]], [x+r[0], y+r[0], z+r[1]]],\n",
        "        [[x+r[0], y+r[1], z+r[0]], [x+r[1], y+r[1], z+r[0]], [x+r[1], y+r[1], z+r[1]], [x+r[0], y+r[1], z+r[1]]],\n",
        "        [[x+r[0], y+r[0], z+r[0]], [x+r[0], y+r[1], z+r[0]], [x+r[0], y+r[1], z+r[1]], [x+r[0], y+r[0], z+r[1]]],\n",
        "        [[x+r[1], y+r[0], z+r[0]], [x+r[1], y+r[1], z+r[0]], [x+r[1], y+r[1], z+r[1]], [x+r[1], y+r[0], z+r[1]]],\n",
        "    ])\n",
        "    ax.add_collection3d(Poly3DCollection(vertices, facecolors=color, linewidths=0.3, edgecolors='black', alpha=alpha))\n",
        "\n",
        "# Animation\n",
        "fig = plt.figure(figsize=(10, 7))\n",
        "ax = fig.add_subplot(111, projection='3d')\n",
        "\n",
        "def update(frame):\n",
        "    ax.clear()\n",
        "    ax.set_title(\"3D Max Pooling Operation\", fontsize=14)\n",
        "    ax.set_xlim(0, 6)\n",
        "    ax.set_ylim(0, 6)\n",
        "    ax.set_zlim(0, 3)\n",
        "    ax.set_axis_off()\n",
        "\n",
        "    # Draw input feature map on top layer (z=2)\n",
        "    for i in range(4):\n",
        "        for j in range(4):\n",
        "            color = plt.cm.coolwarm(relu_map[i][j] / 10) if relu_map[i][j] > 0 else \"white\"\n",
        "            draw_cube(ax, j, i, 2, color=color)\n",
        "\n",
        "    # Draw pooling window\n",
        "    i, j = positions[frame]\n",
        "    pool = relu_map[i:i+2, j:j+2]\n",
        "    pooled_val = np.max(pool)\n",
        "    pooled_map[i//2][j//2] = pooled_val\n",
        "\n",
        "    # Green transparent overlay showing sliding window\n",
        "    for pi in range(i, i+2):\n",
        "        for pj in range(j, j+2):\n",
        "            draw_cube(ax, pj, pi, 2.01, color='lime', alpha=0.3)\n",
        "\n",
        "    # Draw pooled output block at lower z=0\n",
        "    for m in range(out_h):\n",
        "        for n in range(out_w):\n",
        "            if pooled_map[m, n] > 0:\n",
        "                color = plt.cm.viridis(pooled_map[m, n] / 10)\n",
        "                draw_cube(ax, n+1, m+1, 0, color=color)\n",
        "\n",
        "ani = animation.FuncAnimation(fig, update, frames=len(positions), interval=1000)\n",
        "ani.save(\"3d_max_pooling.gif\", writer='pillow')\n"
      ],
      "metadata": {
        "colab": {
          "base_uri": "https://localhost:8080/",
          "height": 599
        },
        "id": "fNCJs4ZohTqs",
        "outputId": "05c5f27c-d3f8-4ed6-e69b-755f535750a0"
      },
      "execution_count": 14,
      "outputs": [
        {
          "output_type": "display_data",
          "data": {
            "text/plain": [
              "<Figure size 1000x700 with 1 Axes>"
            ],
            "image/png": "[encoded data removed]"
          },
          "metadata": {}
        }
      ]
    },
    {
      "cell_type": "code",
      "source": [
        "from google.colab import files\n",
        "files.download(\"3d_max_pooling.gif\")\n"
      ],
      "metadata": {
        "colab": {
          "base_uri": "https://localhost:8080/",
          "height": 17
        },
        "id": "iBsKrUHahXF-",
        "outputId": "fc88fe2c-1ada-4983-b19a-dc4c650149af"
      },
      "execution_count": 15,
      "outputs": [
        {
          "output_type": "display_data",
          "data": {
            "text/plain": [
              "<IPython.core.display.Javascript object>"
            ],
            "application/javascript": [
              "\n",
              "    async function download(id, filename, size) {\n",
              "      if (!google.colab.kernel.accessAllowed) {\n",
              "        return;\n",
              "      }\n",
              "      const div = document.createElement('div');\n",
              "      const label = document.createElement('label');\n",
              "      label.textContent = `Downloading \"${filename}\": `;\n",
              "      div.appendChild(label);\n",
              "      const progress = document.createElement('progress');\n",
              "      progress.max = size;\n",
              "      div.appendChild(progress);\n",
              "      document.body.appendChild(div);\n",
              "\n",
              "      const buffers = [];\n",
              "      let downloaded = 0;\n",
              "\n",
              "      const channel = await google.colab.kernel.comms.open(id);\n",
              "      // Send a message to notify the kernel that we're ready.\n",
              "      channel.send({})\n",
              "\n",
              "      for await (const message of channel.messages) {\n",
              "        // Send a message to notify the kernel that we're ready.\n",
              "        channel.send({})\n",
              "        if (message.buffers) {\n",
              "          for (const buffer of message.buffers) {\n",
              "            buffers.push(buffer);\n",
              "            downloaded += buffer.byteLength;\n",
              "            progress.value = downloaded;\n",
              "          }\n",
              "        }\n",
              "      }\n",
              "      const blob = new Blob(buffers, {type: 'application/binary'});\n",
              "      const a = document.createElement('a');\n",
              "      a.href = window.URL.createObjectURL(blob);\n",
              "      a.download = filename;\n",
              "      div.appendChild(a);\n",
              "      a.click();\n",
              "      div.remove();\n",
              "    }\n",
              "  "
            ]
          },
          "metadata": {}
        },
        {
          "output_type": "display_data",
          "data": {
            "text/plain": [
              "<IPython.core.display.Javascript object>"
            ],
            "application/javascript": [
              "download(\"download_587c9e63-b157-40d8-9e05-5416c8e1574f\", \"3d_max_pooling.gif\", 72219)"
            ]
          },
          "metadata": {}
        }
      ]
    },
    {
      "cell_type": "code",
      "source": [
        "import numpy as np\n",
        "import matplotlib.pyplot as plt\n",
        "from mpl_toolkits.mplot3d.art3d import Poly3DCollection\n",
        "import matplotlib.animation as animation\n",
        "\n",
        "# Drawing 3D cube\n",
        "def draw_cube(ax, x, y, z, size=1, color='skyblue', alpha=0.9, edge_color='black'):\n",
        "    r = [0, size]\n",
        "    vertices = np.array([\n",
        "        [[x+r[0], y+r[0], z+r[0]], [x+r[1], y+r[0], z+r[0]], [x+r[1], y+r[1], z+r[0]], [x+r[0], y+r[1], z+r[0]]],\n",
        "        [[x+r[0], y+r[0], z+r[1]], [x+r[1], y+r[0], z+r[1]], [x+r[1], y+r[1], z+r[1]], [x+r[0], y+r[1], z+r[1]]],\n",
        "        [[x+r[0], y+r[0], z+r[0]], [x+r[1], y+r[0], z+r[0]], [x+r[1], y+r[0], z+r[1]], [x+r[0], y+r[0], z+r[1]]],\n",
        "        [[x+r[0], y+r[1], z+r[0]], [x+r[1], y+r[1], z+r[0]], [x+r[1], y+r[1], z+r[1]], [x+r[0], y+r[1], z+r[1]]],\n",
        "        [[x+r[0], y+r[0], z+r[0]], [x+r[0], y+r[1], z+r[0]], [x+r[0], y+r[1], z+r[1]], [x+r[0], y+r[0], z+r[1]]],\n",
        "        [[x+r[1], y+r[0], z+r[0]], [x+r[1], y+r[1], z+r[0]], [x+r[1], y+r[1], z+r[1]], [x+r[1], y+r[0], z+r[1]]],\n",
        "    ])\n",
        "    ax.add_collection3d(Poly3DCollection(vertices, facecolors=color, linewidths=0.3, edgecolors=edge_color, alpha=alpha))\n",
        "\n",
        "# Drawing 3D sphere (neuron)\n",
        "def draw_sphere(ax, x, y, z, radius=0.3, color='orange', alpha=1.0):\n",
        "    u, v = np.mgrid[0:2 * np.pi:18j, 0:np.pi:10j]\n",
        "    xs = x + radius * np.cos(u) * np.sin(v)\n",
        "    ys = y + radius * np.sin(u) * np.sin(v)\n",
        "    zs = z + radius * np.cos(v)\n",
        "    ax.plot_surface(xs, ys, zs, color=color, alpha=alpha, linewidth=0)\n",
        "\n",
        "# Data\n",
        "flatten_vector = np.random.rand(9)\n",
        "fc_output = np.random.rand(5)\n",
        "softmax_output = np.exp(fc_output) / np.sum(np.exp(fc_output))\n",
        "\n",
        "# Plot setup\n",
        "fig = plt.figure(figsize=(14, 10))\n",
        "ax = fig.add_subplot(111, projection='3d')\n",
        "\n",
        "def update(frame):\n",
        "    ax.clear()\n",
        "    ax.set_title(\"Advanced 3D: Flatten → FC → Softmax\", fontsize=16)\n",
        "    ax.set_xlim(-5, 20)\n",
        "    ax.set_ylim(-8, 8)\n",
        "    ax.set_zlim(0, 10)\n",
        "    ax.view_init(elev=25, azim=230)\n",
        "    ax.axis('off')\n",
        "\n",
        "    # Flatten vector – in a circular arc\n",
        "    for i in range(min(frame + 1, len(flatten_vector))):\n",
        "        angle = np.pi * i / len(flatten_vector)\n",
        "        x = 5 * np.cos(angle)\n",
        "        y = 5 * np.sin(angle)\n",
        "        draw_cube(ax, x, y, 1.5, size=0.6, color='dodgerblue', alpha=0.9)\n",
        "\n",
        "    # FC layer – orange spheres + connections\n",
        "    if frame >= len(flatten_vector):\n",
        "        for i in range(5):\n",
        "            angle = np.pi * (i / 6.0)\n",
        "            x = 8 + 2 * np.cos(angle)\n",
        "            y = 2 * np.sin(angle)\n",
        "            draw_sphere(ax, x, y, 4.5, radius=0.5, color='orange')\n",
        "            for j in range(len(flatten_vector)):\n",
        "                f_angle = np.pi * j / len(flatten_vector)\n",
        "                fx = 5 * np.cos(f_angle)\n",
        "                fy = 5 * np.sin(f_angle)\n",
        "                ax.plot([fx + 0.3, x], [fy + 0.3, y], [1.8, 4.5], color='gray', alpha=0.15)\n",
        "\n",
        "    # Softmax bar chart – final output\n",
        "    if frame >= len(flatten_vector) + 5:\n",
        "        for i in range(5):\n",
        "            height = softmax_output[i] * 5\n",
        "            x = 15\n",
        "            y = (i - 2) * 1.6\n",
        "            ax.bar3d(x, y, 0, 0.5, 0.5, height, color='crimson', alpha=0.85)\n",
        "\n",
        "# Create and save animation\n",
        "ani = animation.FuncAnimation(fig, update, frames=25, interval=800)\n",
        "ani.save(\"advanced_flatten_fc_softmax_3d.gif\", writer='pillow')\n"
      ],
      "metadata": {
        "colab": {
          "base_uri": "https://localhost:8080/",
          "height": 831
        },
        "id": "BDloLWr-jSet",
        "outputId": "41adddee-a161-41e7-d5c4-a351791f9f9d"
      },
      "execution_count": 16,
      "outputs": [
        {
          "output_type": "display_data",
          "data": {
            "text/plain": [
              "<Figure size 1400x1000 with 1 Axes>"
            ],
            "image/png": "[encoded data removed]"
          },
          "metadata": {}
        }
      ]
    },
    {
      "cell_type": "code",
      "source": [
        "from google.colab import files\n",
        "files.download(\"advanced_flatten_fc_softmax_3d.gif\")\n"
      ],
      "metadata": {
        "colab": {
          "base_uri": "https://localhost:8080/",
          "height": 17
        },
        "id": "GxuU96qgjYmD",
        "outputId": "242751bc-a693-45c9-b5a3-6e748064bf4a"
      },
      "execution_count": 17,
      "outputs": [
        {
          "output_type": "display_data",
          "data": {
            "text/plain": [
              "<IPython.core.display.Javascript object>"
            ],
            "application/javascript": [
              "\n",
              "    async function download(id, filename, size) {\n",
              "      if (!google.colab.kernel.accessAllowed) {\n",
              "        return;\n",
              "      }\n",
              "      const div = document.createElement('div');\n",
              "      const label = document.createElement('label');\n",
              "      label.textContent = `Downloading \"${filename}\": `;\n",
              "      div.appendChild(label);\n",
              "      const progress = document.createElement('progress');\n",
              "      progress.max = size;\n",
              "      div.appendChild(progress);\n",
              "      document.body.appendChild(div);\n",
              "\n",
              "      const buffers = [];\n",
              "      let downloaded = 0;\n",
              "\n",
              "      const channel = await google.colab.kernel.comms.open(id);\n",
              "      // Send a message to notify the kernel that we're ready.\n",
              "      channel.send({})\n",
              "\n",
              "      for await (const message of channel.messages) {\n",
              "        // Send a message to notify the kernel that we're ready.\n",
              "        channel.send({})\n",
              "        if (message.buffers) {\n",
              "          for (const buffer of message.buffers) {\n",
              "            buffers.push(buffer);\n",
              "            downloaded += buffer.byteLength;\n",
              "            progress.value = downloaded;\n",
              "          }\n",
              "        }\n",
              "      }\n",
              "      const blob = new Blob(buffers, {type: 'application/binary'});\n",
              "      const a = document.createElement('a');\n",
              "      a.href = window.URL.createObjectURL(blob);\n",
              "      a.download = filename;\n",
              "      div.appendChild(a);\n",
              "      a.click();\n",
              "      div.remove();\n",
              "    }\n",
              "  "
            ]
          },
          "metadata": {}
        },
        {
          "output_type": "display_data",
          "data": {
            "text/plain": [
              "<IPython.core.display.Javascript object>"
            ],
            "application/javascript": [
              "download(\"download_d75407bd-226f-48bd-ab3a-57351a33b832\", \"advanced_flatten_fc_softmax_3d.gif\", 69356)"
            ]
          },
          "metadata": {}
        }
      ]
    },
    {
      "cell_type": "code",
      "source": [
        "import plotly.express as px\n",
        "import numpy as np\n",
        "import pandas as pd\n",
        "\n",
        "# Example data creation\n",
        "num_points = 100\n",
        "x = np.random.rand(num_points)\n",
        "y = np.random.rand(num_points)\n",
        "z = np.random.rand(num_points)\n",
        "time = np.random.randint(1, 10, num_points)  # Example time variable for animation\n",
        "\n",
        "# Create a DataFrame\n",
        "df = pd.DataFrame({'x': x, 'y': y, 'z': z, 'time': time})\n",
        "\n",
        "# Create the 3D scatter plot\n",
        "fig = px.scatter_3d(df, x='x', y='y', z='z', animation_frame='time',\n",
        "                    color='time', size_max=10, range_x=[0, 1],\n",
        "                    range_y=[0, 1], range_z=[0, 1])\n",
        "\n",
        "# Customize the plot\n",
        "fig.update_layout(title='3D Interactive Animation of Random Points',\n",
        "                  scene=dict(xaxis_title='X Axis',\n",
        "                             yaxis_title='Y Axis',\n",
        "                             zaxis_title='Z Axis'))\n",
        "\n",
        "# Display the animation\n",
        "fig.show()"
      ],
      "metadata": {
        "colab": {
          "base_uri": "https://localhost:8080/",
          "height": 542
        },
        "id": "jtHk4EJSjYgF",
        "outputId": "523c3e8f-8930-44a8-f9ec-cdf4c5f81438"
      },
      "execution_count": 18,
      "outputs": [
        {
          "output_type": "display_data",
          "data": {
            "text/html": [
              "<html>\n",
              "<head><meta charset=\"utf-8\" /></head>\n",
              "<body>\n",
              "    <div>            <script src=\"https://cdnjs.cloudflare.com/ajax/libs/mathjax/2.7.5/MathJax.js?config=TeX-AMS-MML_SVG\"></script><script type=\"text/javascript\">if (window.MathJax && window.MathJax.Hub && window.MathJax.Hub.Config) {window.MathJax.Hub.Config({SVG: {font: \"STIX-Web\"}});}</script>                <script type=\"text/javascript\">window.PlotlyConfig = {MathJaxConfig: 'local'};</script>\n",
              "        <script charset=\"utf-8\" src=\"https://cdn.plot.ly/plotly-2.35.2.min.js\"></script>                <div id=\"aafd1f9f-a838-46e3-890b-523d2fe664f0\" class=\"plotly-graph-div\" style=\"height:525px; width:100%;\"></div>            <script type=\"text/javascript\">                                    window.PLOTLYENV=window.PLOTLYENV || {};                                    if (document.getElementById(\"aafd1f9f-a838-46e3-890b-523d2fe664f0\")) {                    Plotly.newPlot(                        \"aafd1f9f-a838-46e3-890b-523d2fe664f0\",                        [{\"hovertemplate\":\"time=%{marker.color}\\u003cbr\\u003ex=%{x}\\u003cbr\\u003ey=%{y}\\u003cbr\\u003ez=%{z}\\u003cextra\\u003e\\u003c\\u002fextra\\u003e\",\"legendgroup\":\"\",\"marker\":{\"color\":[3,3,3,3,3,3,3,3,3,3,3,3,3,3,3,3],\"coloraxis\":\"coloraxis\",\"symbol\":\"circle\"},\"mode\":\"markers\",\"name\":\"\",\"scene\":\"scene\",\"showlegend\":false,\"x\":[0.8370941990724847,0.45265074113278636,0.9513929101923153,0.13270656542328207,0.40719613199318283,0.19189621252230293,0.3291176002953653,0.45768743788475796,0.6524388786522881,0.36003217394199527,0.6770920667745302,0.6931512274216822,0.5338482469795783,0.85036242921748,0.1987487765439221,0.21896862447416499],\"y\":[0.806122041642907,0.0018877142697066862,0.1018422948341009,0.28426612743220936,0.3202765920961177,0.10540903365246612,0.5492101761674003,0.161207051739514,0.2424585049811122,0.3275264390690982,0.5017126486305149,0.22895937163639957,0.9459503985891549,0.14131807404720753,0.08356487392128531,0.20840721966757647],\"z\":[0.5896999948886908,0.5734619990235701,0.23796610940653085,0.3354591424976153,0.14020980240540248,0.6673800271728575,0.18629973198428684,0.4725655365170408,0.6283670758765586,0.23861089384452805,0.652007831149377,0.5542812122787353,0.04253387612067061,0.25369846162141707,0.502533941316652,0.2943203077693366],\"type\":\"scatter3d\"}],                        {\"template\":{\"data\":{\"histogram2dcontour\":[{\"type\":\"histogram2dcontour\",\"colorbar\":{\"outlinewidth\":0,\"ticks\":\"\"},\"colorscale\":[[0.0,\"#0d0887\"],[0.1111111111111111,\"#46039f\"],[0.2222222222222222,\"#7201a8\"],[0.3333333333333333,\"#9c179e\"],[0.4444444444444444,\"#bd3786\"],[0.5555555555555556,\"#d8576b\"],[0.6666666666666666,\"#ed7953\"],[0.7777777777777778,\"#fb9f3a\"],[0.8888888888888888,\"#fdca26\"],[1.0,\"#f0f921\"]]}],\"choropleth\":[{\"type\":\"choropleth\",\"colorbar\":{\"outlinewidth\":0,\"ticks\":\"\"}}],\"histogram2d\":[{\"type\":\"histogram2d\",\"colorbar\":{\"outlinewidth\":0,\"ticks\":\"\"},\"colorscale\":[[0.0,\"#0d0887\"],[0.1111111111111111,\"#46039f\"],[0.2222222222222222,\"#7201a8\"],[0.3333333333333333,\"#9c179e\"],[0.4444444444444444,\"#bd3786\"],[0.5555555555555556,\"#d8576b\"],[0.6666666666666666,\"#ed7953\"],[0.7777777777777778,\"#fb9f3a\"],[0.8888888888888888,\"#fdca26\"],[1.0,\"#f0f921\"]]}],\"heatmap\":[{\"type\":\"heatmap\",\"colorbar\":{\"outlinewidth\":0,\"ticks\":\"\"},\"colorscale\":[[0.0,\"#0d0887\"],[0.1111111111111111,\"#46039f\"],[0.2222222222222222,\"#7201a8\"],[0.3333333333333333,\"#9c179e\"],[0.4444444444444444,\"#bd3786\"],[0.5555555555555556,\"#d8576b\"],[0.6666666666666666,\"#ed7953\"],[0.7777777777777778,\"#fb9f3a\"],[0.8888888888888888,\"#fdca26\"],[1.0,\"#f0f921\"]]}],\"heatmapgl\":[{\"type\":\"heatmapgl\",\"colorbar\":{\"outlinewidth\":0,\"ticks\":\"\"},\"colorscale\":[[0.0,\"#0d0887\"],[0.1111111111111111,\"#46039f\"],[0.2222222222222222,\"#7201a8\"],[0.3333333333333333,\"#9c179e\"],[0.4444444444444444,\"#bd3786\"],[0.5555555555555556,\"#d8576b\"],[0.6666666666666666,\"#ed7953\"],[0.7777777777777778,\"#fb9f3a\"],[0.8888888888888888,\"#fdca26\"],[1.0,\"#f0f921\"]]}],\"contourcarpet\":[{\"type\":\"contourcarpet\",\"colorbar\":{\"outlinewidth\":0,\"ticks\":\"\"}}],\"contour\":[{\"type\":\"contour\",\"colorbar\":{\"outlinewidth\":0,\"ticks\":\"\"},\"colorscale\":[[0.0,\"#0d0887\"],[0.1111111111111111,\"#46039f\"],[0.2222222222222222,\"#7201a8\"],[0.3333333333333333,\"#9c179e\"],[0.4444444444444444,\"#bd3786\"],[0.5555555555555556,\"#d8576b\"],[0.6666666666666666,\"#ed7953\"],[0.7777777777777778,\"#fb9f3a\"],[0.8888888888888888,\"#fdca26\"],[1.0,\"#f0f921\"]]}],\"surface\":[{\"type\":\"surface\",\"colorbar\":{\"outlinewidth\":0,\"ticks\":\"\"},\"colorscale\":[[0.0,\"#0d0887\"],[0.1111111111111111,\"#46039f\"],[0.2222222222222222,\"#7201a8\"],[0.3333333333333333,\"#9c179e\"],[0.4444444444444444,\"#bd3786\"],[0.5555555555555556,\"#d8576b\"],[0.6666666666666666,\"#ed7953\"],[0.7777777777777778,\"#fb9f3a\"],[0.8888888888888888,\"#fdca26\"],[1.0,\"#f0f921\"]]}],\"mesh3d\":[{\"type\":\"mesh3d\",\"colorbar\":{\"outlinewidth\":0,\"ticks\":\"\"}}],\"scatter\":[{\"fillpattern\":{\"fillmode\":\"overlay\",\"size\":10,\"solidity\":0.2},\"type\":\"scatter\"}],\"parcoords\":[{\"type\":\"parcoords\",\"line\":{\"colorbar\":{\"outlinewidth\":0,\"ticks\":\"\"}}}],\"scatterpolargl\":[{\"type\":\"scatterpolargl\",\"marker\":{\"colorbar\":{\"outlinewidth\":0,\"ticks\":\"\"}}}],\"bar\":[{\"error_x\":{\"color\":\"#2a3f5f\"},\"error_y\":{\"color\":\"#2a3f5f\"},\"marker\":{\"line\":{\"color\":\"#E5ECF6\",\"width\":0.5},\"pattern\":{\"fillmode\":\"overlay\",\"size\":10,\"solidity\":0.2}},\"type\":\"bar\"}],\"scattergeo\":[{\"type\":\"scattergeo\",\"marker\":{\"colorbar\":{\"outlinewidth\":0,\"ticks\":\"\"}}}],\"scatterpolar\":[{\"type\":\"scatterpolar\",\"marker\":{\"colorbar\":{\"outlinewidth\":0,\"ticks\":\"\"}}}],\"histogram\":[{\"marker\":{\"pattern\":{\"fillmode\":\"overlay\",\"size\":10,\"solidity\":0.2}},\"type\":\"histogram\"}],\"scattergl\":[{\"type\":\"scattergl\",\"marker\":{\"colorbar\":{\"outlinewidth\":0,\"ticks\":\"\"}}}],\"scatter3d\":[{\"type\":\"scatter3d\",\"line\":{\"colorbar\":{\"outlinewidth\":0,\"ticks\":\"\"}},\"marker\":{\"colorbar\":{\"outlinewidth\":0,\"ticks\":\"\"}}}],\"scattermapbox\":[{\"type\":\"scattermapbox\",\"marker\":{\"colorbar\":{\"outlinewidth\":0,\"ticks\":\"\"}}}],\"scatterternary\":[{\"type\":\"scatterternary\",\"marker\":{\"colorbar\":{\"outlinewidth\":0,\"ticks\":\"\"}}}],\"scattercarpet\":[{\"type\":\"scattercarpet\",\"marker\":{\"colorbar\":{\"outlinewidth\":0,\"ticks\":\"\"}}}],\"carpet\":[{\"aaxis\":{\"endlinecolor\":\"#2a3f5f\",\"gridcolor\":\"white\",\"linecolor\":\"white\",\"minorgridcolor\":\"white\",\"startlinecolor\":\"#2a3f5f\"},\"baxis\":{\"endlinecolor\":\"#2a3f5f\",\"gridcolor\":\"white\",\"linecolor\":\"white\",\"minorgridcolor\":\"white\",\"startlinecolor\":\"#2a3f5f\"},\"type\":\"carpet\"}],\"table\":[{\"cells\":{\"fill\":{\"color\":\"#EBF0F8\"},\"line\":{\"color\":\"white\"}},\"header\":{\"fill\":{\"color\":\"#C8D4E3\"},\"line\":{\"color\":\"white\"}},\"type\":\"table\"}],\"barpolar\":[{\"marker\":{\"line\":{\"color\":\"#E5ECF6\",\"width\":0.5},\"pattern\":{\"fillmode\":\"overlay\",\"size\":10,\"solidity\":0.2}},\"type\":\"barpolar\"}],\"pie\":[{\"automargin\":true,\"type\":\"pie\"}]},\"layout\":{\"autotypenumbers\":\"strict\",\"colorway\":[\"#636efa\",\"#EF553B\",\"#00cc96\",\"#ab63fa\",\"#FFA15A\",\"#19d3f3\",\"#FF6692\",\"#B6E880\",\"#FF97FF\",\"#FECB52\"],\"font\":{\"color\":\"#2a3f5f\"},\"hovermode\":\"closest\",\"hoverlabel\":{\"align\":\"left\"},\"paper_bgcolor\":\"white\",\"plot_bgcolor\":\"#E5ECF6\",\"polar\":{\"bgcolor\":\"#E5ECF6\",\"angularaxis\":{\"gridcolor\":\"white\",\"linecolor\":\"white\",\"ticks\":\"\"},\"radialaxis\":{\"gridcolor\":\"white\",\"linecolor\":\"white\",\"ticks\":\"\"}},\"ternary\":{\"bgcolor\":\"#E5ECF6\",\"aaxis\":{\"gridcolor\":\"white\",\"linecolor\":\"white\",\"ticks\":\"\"},\"baxis\":{\"gridcolor\":\"white\",\"linecolor\":\"white\",\"ticks\":\"\"},\"caxis\":{\"gridcolor\":\"white\",\"linecolor\":\"white\",\"ticks\":\"\"}},\"coloraxis\":{\"colorbar\":{\"outlinewidth\":0,\"ticks\":\"\"}},\"colorscale\":{\"sequential\":[[0.0,\"#0d0887\"],[0.1111111111111111,\"#46039f\"],[0.2222222222222222,\"#7201a8\"],[0.3333333333333333,\"#9c179e\"],[0.4444444444444444,\"#bd3786\"],[0.5555555555555556,\"#d8576b\"],[0.6666666666666666,\"#ed7953\"],[0.7777777777777778,\"#fb9f3a\"],[0.8888888888888888,\"#fdca26\"],[1.0,\"#f0f921\"]],\"sequentialminus\":[[0.0,\"#0d0887\"],[0.1111111111111111,\"#46039f\"],[0.2222222222222222,\"#7201a8\"],[0.3333333333333333,\"#9c179e\"],[0.4444444444444444,\"#bd3786\"],[0.5555555555555556,\"#d8576b\"],[0.6666666666666666,\"#ed7953\"],[0.7777777777777778,\"#fb9f3a\"],[0.8888888888888888,\"#fdca26\"],[1.0,\"#f0f921\"]],\"diverging\":[[0,\"#8e0152\"],[0.1,\"#c51b7d\"],[0.2,\"#de77ae\"],[0.3,\"#f1b6da\"],[0.4,\"#fde0ef\"],[0.5,\"#f7f7f7\"],[0.6,\"#e6f5d0\"],[0.7,\"#b8e186\"],[0.8,\"#7fbc41\"],[0.9,\"#4d9221\"],[1,\"#276419\"]]},\"xaxis\":{\"gridcolor\":\"white\",\"linecolor\":\"white\",\"ticks\":\"\",\"title\":{\"standoff\":15},\"zerolinecolor\":\"white\",\"automargin\":true,\"zerolinewidth\":2},\"yaxis\":{\"gridcolor\":\"white\",\"linecolor\":\"white\",\"ticks\":\"\",\"title\":{\"standoff\":15},\"zerolinecolor\":\"white\",\"automargin\":true,\"zerolinewidth\":2},\"scene\":{\"xaxis\":{\"backgroundcolor\":\"#E5ECF6\",\"gridcolor\":\"white\",\"linecolor\":\"white\",\"showbackground\":true,\"ticks\":\"\",\"zerolinecolor\":\"white\",\"gridwidth\":2},\"yaxis\":{\"backgroundcolor\":\"#E5ECF6\",\"gridcolor\":\"white\",\"linecolor\":\"white\",\"showbackground\":true,\"ticks\":\"\",\"zerolinecolor\":\"white\",\"gridwidth\":2},\"zaxis\":{\"backgroundcolor\":\"#E5ECF6\",\"gridcolor\":\"white\",\"linecolor\":\"white\",\"showbackground\":true,\"ticks\":\"\",\"zerolinecolor\":\"white\",\"gridwidth\":2}},\"shapedefaults\":{\"line\":{\"color\":\"#2a3f5f\"}},\"annotationdefaults\":{\"arrowcolor\":\"#2a3f5f\",\"arrowhead\":0,\"arrowwidth\":1},\"geo\":{\"bgcolor\":\"white\",\"landcolor\":\"#E5ECF6\",\"subunitcolor\":\"white\",\"showland\":true,\"showlakes\":true,\"lakecolor\":\"white\"},\"title\":{\"x\":0.05},\"mapbox\":{\"style\":\"light\"}}},\"scene\":{\"domain\":{\"x\":[0.0,1.0],\"y\":[0.0,1.0]},\"xaxis\":{\"title\":{\"text\":\"X Axis\"},\"range\":[0,1]},\"yaxis\":{\"title\":{\"text\":\"Y Axis\"},\"range\":[0,1]},\"zaxis\":{\"title\":{\"text\":\"Z Axis\"},\"range\":[0,1]}},\"coloraxis\":{\"colorbar\":{\"title\":{\"text\":\"time\"}},\"colorscale\":[[0.0,\"#0d0887\"],[0.1111111111111111,\"#46039f\"],[0.2222222222222222,\"#7201a8\"],[0.3333333333333333,\"#9c179e\"],[0.4444444444444444,\"#bd3786\"],[0.5555555555555556,\"#d8576b\"],[0.6666666666666666,\"#ed7953\"],[0.7777777777777778,\"#fb9f3a\"],[0.8888888888888888,\"#fdca26\"],[1.0,\"#f0f921\"]]},\"legend\":{\"tracegroupgap\":0},\"margin\":{\"t\":60},\"updatemenus\":[{\"buttons\":[{\"args\":[null,{\"frame\":{\"duration\":500,\"redraw\":true},\"mode\":\"immediate\",\"fromcurrent\":true,\"transition\":{\"duration\":500,\"easing\":\"linear\"}}],\"label\":\"&#9654;\",\"method\":\"animate\"},{\"args\":[[null],{\"frame\":{\"duration\":0,\"redraw\":true},\"mode\":\"immediate\",\"fromcurrent\":true,\"transition\":{\"duration\":0,\"easing\":\"linear\"}}],\"label\":\"&#9724;\",\"method\":\"animate\"}],\"direction\":\"left\",\"pad\":{\"r\":10,\"t\":70},\"showactive\":false,\"type\":\"buttons\",\"x\":0.1,\"xanchor\":\"right\",\"y\":0,\"yanchor\":\"top\"}],\"sliders\":[{\"active\":0,\"currentvalue\":{\"prefix\":\"time=\"},\"len\":0.9,\"pad\":{\"b\":10,\"t\":60},\"steps\":[{\"args\":[[\"3\"],{\"frame\":{\"duration\":0,\"redraw\":true},\"mode\":\"immediate\",\"fromcurrent\":true,\"transition\":{\"duration\":0,\"easing\":\"linear\"}}],\"label\":\"3\",\"method\":\"animate\"},{\"args\":[[\"7\"],{\"frame\":{\"duration\":0,\"redraw\":true},\"mode\":\"immediate\",\"fromcurrent\":true,\"transition\":{\"duration\":0,\"easing\":\"linear\"}}],\"label\":\"7\",\"method\":\"animate\"},{\"args\":[[\"5\"],{\"frame\":{\"duration\":0,\"redraw\":true},\"mode\":\"immediate\",\"fromcurrent\":true,\"transition\":{\"duration\":0,\"easing\":\"linear\"}}],\"label\":\"5\",\"method\":\"animate\"},{\"args\":[[\"1\"],{\"frame\":{\"duration\":0,\"redraw\":true},\"mode\":\"immediate\",\"fromcurrent\":true,\"transition\":{\"duration\":0,\"easing\":\"linear\"}}],\"label\":\"1\",\"method\":\"animate\"},{\"args\":[[\"4\"],{\"frame\":{\"duration\":0,\"redraw\":true},\"mode\":\"immediate\",\"fromcurrent\":true,\"transition\":{\"duration\":0,\"easing\":\"linear\"}}],\"label\":\"4\",\"method\":\"animate\"},{\"args\":[[\"6\"],{\"frame\":{\"duration\":0,\"redraw\":true},\"mode\":\"immediate\",\"fromcurrent\":true,\"transition\":{\"duration\":0,\"easing\":\"linear\"}}],\"label\":\"6\",\"method\":\"animate\"},{\"args\":[[\"9\"],{\"frame\":{\"duration\":0,\"redraw\":true},\"mode\":\"immediate\",\"fromcurrent\":true,\"transition\":{\"duration\":0,\"easing\":\"linear\"}}],\"label\":\"9\",\"method\":\"animate\"},{\"args\":[[\"2\"],{\"frame\":{\"duration\":0,\"redraw\":true},\"mode\":\"immediate\",\"fromcurrent\":true,\"transition\":{\"duration\":0,\"easing\":\"linear\"}}],\"label\":\"2\",\"method\":\"animate\"},{\"args\":[[\"8\"],{\"frame\":{\"duration\":0,\"redraw\":true},\"mode\":\"immediate\",\"fromcurrent\":true,\"transition\":{\"duration\":0,\"easing\":\"linear\"}}],\"label\":\"8\",\"method\":\"animate\"}],\"x\":0.1,\"xanchor\":\"left\",\"y\":0,\"yanchor\":\"top\"}],\"title\":{\"text\":\"3D Interactive Animation of Random Points\"}},                        {\"responsive\": true}                    ).then(function(){\n",
              "                            Plotly.addFrames('aafd1f9f-a838-46e3-890b-523d2fe664f0', [{\"data\":[{\"hovertemplate\":\"time=%{marker.color}\\u003cbr\\u003ex=%{x}\\u003cbr\\u003ey=%{y}\\u003cbr\\u003ez=%{z}\\u003cextra\\u003e\\u003c\\u002fextra\\u003e\",\"legendgroup\":\"\",\"marker\":{\"color\":[3,3,3,3,3,3,3,3,3,3,3,3,3,3,3,3],\"coloraxis\":\"coloraxis\",\"symbol\":\"circle\"},\"mode\":\"markers\",\"name\":\"\",\"scene\":\"scene\",\"showlegend\":false,\"x\":[0.8370941990724847,0.45265074113278636,0.9513929101923153,0.13270656542328207,0.40719613199318283,0.19189621252230293,0.3291176002953653,0.45768743788475796,0.6524388786522881,0.36003217394199527,0.6770920667745302,0.6931512274216822,0.5338482469795783,0.85036242921748,0.1987487765439221,0.21896862447416499],\"y\":[0.806122041642907,0.0018877142697066862,0.1018422948341009,0.28426612743220936,0.3202765920961177,0.10540903365246612,0.5492101761674003,0.161207051739514,0.2424585049811122,0.3275264390690982,0.5017126486305149,0.22895937163639957,0.9459503985891549,0.14131807404720753,0.08356487392128531,0.20840721966757647],\"z\":[0.5896999948886908,0.5734619990235701,0.23796610940653085,0.3354591424976153,0.14020980240540248,0.6673800271728575,0.18629973198428684,0.4725655365170408,0.6283670758765586,0.23861089384452805,0.652007831149377,0.5542812122787353,0.04253387612067061,0.25369846162141707,0.502533941316652,0.2943203077693366],\"type\":\"scatter3d\"}],\"name\":\"3\"},{\"data\":[{\"hovertemplate\":\"time=%{marker.color}\\u003cbr\\u003ex=%{x}\\u003cbr\\u003ey=%{y}\\u003cbr\\u003ez=%{z}\\u003cextra\\u003e\\u003c\\u002fextra\\u003e\",\"legendgroup\":\"\",\"marker\":{\"color\":[7,7,7,7,7,7,7],\"coloraxis\":\"coloraxis\",\"symbol\":\"circle\"},\"mode\":\"markers\",\"name\":\"\",\"scene\":\"scene\",\"showlegend\":false,\"x\":[0.3874482265534728,0.8788421067699757,0.9424760536153118,0.2548715080872396,0.5219052025337456,0.43345711516638785,0.8349445374814635],\"y\":[0.57542275387038,0.28683557494470446,0.7859550161830734,0.28618198629942526,0.0933885455736454,0.9843206065434017,0.7918046112201738],\"z\":[0.25454210741579486,0.44835484176871354,0.098348911770757,0.806042099480468,0.7803017113417788,0.4002332677094068,0.900093793391843],\"type\":\"scatter3d\"}],\"name\":\"7\"},{\"data\":[{\"hovertemplate\":\"time=%{marker.color}\\u003cbr\\u003ex=%{x}\\u003cbr\\u003ey=%{y}\\u003cbr\\u003ez=%{z}\\u003cextra\\u003e\\u003c\\u002fextra\\u003e\",\"legendgroup\":\"\",\"marker\":{\"color\":[5,5,5,5,5,5,5,5,5,5,5,5,5,5,5,5,5,5],\"coloraxis\":\"coloraxis\",\"symbol\":\"circle\"},\"mode\":\"markers\",\"name\":\"\",\"scene\":\"scene\",\"showlegend\":false,\"x\":[0.8439018265032305,0.47669509710864166,0.4239492203446438,0.15728489855936012,0.8286898974272218,0.42845529241700675,0.47511308045709155,0.28096090431931775,0.3069051201385351,0.06746353118414572,0.984690418813322,0.7402437781012452,0.06901158860369372,0.5928418105454486,0.7635566014953593,0.9303640654296079,0.2724031684429665,0.5934744647815926],\"y\":[0.6505585678124876,0.16986253892425507,0.0009417149463232244,0.18649107150383493,0.3861092227463423,0.07808777531159405,0.3716489155872964,0.6034003370278292,0.5003306672678031,0.3407878078496016,0.7213019840557995,0.7731125410511555,0.10293335221493827,0.12008478403548362,0.881202538358413,0.11466320729393487,0.6498482496743061,0.9579333319459056],\"z\":[0.5983295144361773,0.5748771782382297,0.5933953418146247,0.710715292573362,0.9364123096947843,0.634575228648016,0.8152904937368692,0.8224324557081898,0.9355873945182709,0.8976783174414901,0.07376467545281284,0.39465895771731374,0.023001338397649063,0.50001281833953,0.7094602259499574,0.664501022777795,0.9496230734752295,0.7233438223263395],\"type\":\"scatter3d\"}],\"name\":\"5\"},{\"data\":[{\"hovertemplate\":\"time=%{marker.color}\\u003cbr\\u003ex=%{x}\\u003cbr\\u003ey=%{y}\\u003cbr\\u003ez=%{z}\\u003cextra\\u003e\\u003c\\u002fextra\\u003e\",\"legendgroup\":\"\",\"marker\":{\"color\":[1,1,1,1,1,1,1,1,1,1,1,1],\"coloraxis\":\"coloraxis\",\"symbol\":\"circle\"},\"mode\":\"markers\",\"name\":\"\",\"scene\":\"scene\",\"showlegend\":false,\"x\":[0.8379741150145678,0.34603293004526736,0.989425107759672,0.5442388672762501,0.43910583533049774,0.6190962178607866,0.44599953537560355,0.25875204324408285,0.2531637714118683,0.7186308497466848,0.16305393621618214,0.4425215624695825],\"y\":[0.19482128063272786,0.08736753233545691,0.08139553926664422,0.10557393541979365,0.8221300111374493,0.3929663246756686,0.09256146992758862,0.37705944716215656,0.4364812760224801,0.3515664301767575,0.7721007169755346,0.2138049472148904],\"z\":[0.10741711733268278,0.31282908036152146,0.8065494016106143,0.4252661175945872,0.16821592597238078,0.8732587709667402,0.48447590337449653,0.5384870593453388,0.09276681308961099,0.37834032732720635,0.7266465917337245,0.5195638621153028],\"type\":\"scatter3d\"}],\"name\":\"1\"},{\"data\":[{\"hovertemplate\":\"time=%{marker.color}\\u003cbr\\u003ex=%{x}\\u003cbr\\u003ey=%{y}\\u003cbr\\u003ez=%{z}\\u003cextra\\u003e\\u003c\\u002fextra\\u003e\",\"legendgroup\":\"\",\"marker\":{\"color\":[4,4,4,4,4,4],\"coloraxis\":\"coloraxis\",\"symbol\":\"circle\"},\"mode\":\"markers\",\"name\":\"\",\"scene\":\"scene\",\"showlegend\":false,\"x\":[0.7217085381616565,0.5137638951281549,0.2851359541143562,0.9249993509538678,0.1515302845546631,0.9073699839705153],\"y\":[0.6108285935359195,0.03222856741810931,0.8853652470983502,0.5429508161826114,0.8904807672780931,0.8552352082822774],\"z\":[0.4874271392193654,0.6023580866632382,0.13697145595073512,0.7068689109312329,0.045115745690317954,0.7534544885008367],\"type\":\"scatter3d\"}],\"name\":\"4\"},{\"data\":[{\"hovertemplate\":\"time=%{marker.color}\\u003cbr\\u003ex=%{x}\\u003cbr\\u003ey=%{y}\\u003cbr\\u003ez=%{z}\\u003cextra\\u003e\\u003c\\u002fextra\\u003e\",\"legendgroup\":\"\",\"marker\":{\"color\":[6,6,6,6,6,6,6,6,6,6,6,6,6,6,6,6],\"coloraxis\":\"coloraxis\",\"symbol\":\"circle\"},\"mode\":\"markers\",\"name\":\"\",\"scene\":\"scene\",\"showlegend\":false,\"x\":[0.5993099551607414,0.8901909628149104,0.1508020752576702,0.6898472996261926,0.8998147888774304,0.23046567609383917,0.9848078020278385,0.8457092822002044,0.6822981099642061,0.2702470744073645,0.020388919677504558,0.6964065447486106,0.7646005960445004,0.32320092811241996,0.8341506726232453,0.21242362621461064],\"y\":[0.824239515415022,0.6179142333312089,0.8282108098965738,0.9169712033797921,0.08985581424357003,0.7402727332699414,0.4924211223890198,0.7790140034507682,0.9588632952187358,0.9468924947751138,0.45679575211956835,0.19186529718672363,0.34770708583488585,0.9402072368286843,0.36215248165289715,0.2493920733649987],\"z\":[0.3271232353522062,0.6973326950750265,0.48831728496668614,0.6262668715967856,0.023178394680272607,0.08511577226592304,0.34487403910043335,0.5219441406280464,0.7794687193491121,0.8836110791600783,0.87818964723063,0.07441937618450045,0.12190927686104813,0.39951737332731596,0.18271360851322993,0.15147324170690935],\"type\":\"scatter3d\"}],\"name\":\"6\"},{\"data\":[{\"hovertemplate\":\"time=%{marker.color}\\u003cbr\\u003ex=%{x}\\u003cbr\\u003ey=%{y}\\u003cbr\\u003ez=%{z}\\u003cextra\\u003e\\u003c\\u002fextra\\u003e\",\"legendgroup\":\"\",\"marker\":{\"color\":[9,9,9,9,9,9,9,9],\"coloraxis\":\"coloraxis\",\"symbol\":\"circle\"},\"mode\":\"markers\",\"name\":\"\",\"scene\":\"scene\",\"showlegend\":false,\"x\":[0.03845050851882481,0.8640443699428985,0.9161373547346503,0.644751087754467,0.8055988226571713,0.3716027662996537,0.15824946117370475,0.4921253555182772],\"y\":[0.6205079301982139,0.6562545008067875,0.4024450613603441,0.6847955786691263,0.3931989613246778,0.8856941793927061,0.1959171165802226,0.423043660904841],\"z\":[0.10307580153689655,0.34411397734904026,0.057830039806236355,0.9348375293574465,0.5186990707823949,0.07301432103018701,0.9540793305935632,0.5015230700417275],\"type\":\"scatter3d\"}],\"name\":\"9\"},{\"data\":[{\"hovertemplate\":\"time=%{marker.color}\\u003cbr\\u003ex=%{x}\\u003cbr\\u003ey=%{y}\\u003cbr\\u003ez=%{z}\\u003cextra\\u003e\\u003c\\u002fextra\\u003e\",\"legendgroup\":\"\",\"marker\":{\"color\":[2,2,2,2,2,2,2,2,2,2],\"coloraxis\":\"coloraxis\",\"symbol\":\"circle\"},\"mode\":\"markers\",\"name\":\"\",\"scene\":\"scene\",\"showlegend\":false,\"x\":[0.6669441603582881,0.23089461589442406,0.4016357481560183,0.35306201220889577,0.7510552713832017,0.08747289324394303,0.3516346414668703,0.5179321515039497,0.361544676879193,0.8056579777237108],\"y\":[0.28532773535289646,0.5180504179888452,0.07998705526058847,0.47989703233613934,0.40018651250565895,0.6624728999898017,0.7825217734021345,0.9457941205136146,0.9565152889439625,0.8615595941991755],\"z\":[0.7425336915094859,0.7132292631969052,0.9868843718562977,0.4992045865765644,0.44312778313239776,0.20647031302660968,0.07757397637066377,0.9720670059579636,0.30427089608770097,0.4088416294534053],\"type\":\"scatter3d\"}],\"name\":\"2\"},{\"data\":[{\"hovertemplate\":\"time=%{marker.color}\\u003cbr\\u003ex=%{x}\\u003cbr\\u003ey=%{y}\\u003cbr\\u003ez=%{z}\\u003cextra\\u003e\\u003c\\u002fextra\\u003e\",\"legendgroup\":\"\",\"marker\":{\"color\":[8,8,8,8,8,8,8],\"coloraxis\":\"coloraxis\",\"symbol\":\"circle\"},\"mode\":\"markers\",\"name\":\"\",\"scene\":\"scene\",\"showlegend\":false,\"x\":[0.6247712811016519,0.7100236089512003,0.67261364681059,0.6748215944453412,0.18147497006842328,0.06452374511716563,0.28997149875838646],\"y\":[0.6733050414948034,0.3654906100921069,0.18404936802415328,0.4940060215402384,0.7900909208550777,0.48165632638172173,0.3552943089779139],\"z\":[0.4636117829842692,0.5607471756329819,0.42745492641420657,0.6424774369063556,0.552027622629387,0.67965340388336,0.9787274061377071],\"type\":\"scatter3d\"}],\"name\":\"8\"}]);\n",
              "                        }).then(function(){\n",
              "                            \n",
              "var gd = document.getElementById('aafd1f9f-a838-46e3-890b-523d2fe664f0');\n",
              "var x = new MutationObserver(function (mutations, observer) {{\n",
              "        var display = window.getComputedStyle(gd).display;\n",
              "        if (!display || display === 'none') {{\n",
              "            console.log([gd, 'removed!']);\n",
              "            Plotly.purge(gd);\n",
              "            observer.disconnect();\n",
              "        }}\n",
              "}});\n",
              "\n",
              "// Listen for the removal of the full notebook cells\n",
              "var notebookContainer = gd.closest('#notebook-container');\n",
              "if (notebookContainer) {{\n",
              "    x.observe(notebookContainer, {childList: true});\n",
              "}}\n",
              "\n",
              "// Listen for the clearing of the current output cell\n",
              "var outputEl = gd.closest('.output');\n",
              "if (outputEl) {{\n",
              "    x.observe(outputEl, {childList: true});\n",
              "}}\n",
              "\n",
              "                        })                };                            </script>        </div>\n",
              "</body>\n",
              "</html>"
            ]
          },
          "metadata": {}
        }
      ]
    },
    {
      "cell_type": "code",
      "source": [
        "import plotly.graph_objects as go\n",
        "import numpy as np\n",
        "\n",
        "# Step 1: CNN Structure Setup\n",
        "input_shape = (6, 6)\n",
        "conv_shape = (4, 4)\n",
        "pool_shape = (2, 2)\n",
        "fc_neurons = 3\n",
        "\n",
        "# Step 2: Generate Dummy Data\n",
        "input_data = np.random.rand(*input_shape)\n",
        "conv_data = np.random.rand(*conv_shape)\n",
        "pool_data = np.random.rand(*pool_shape)\n",
        "flatten_data = pool_data.flatten()\n",
        "fc_output = np.random.rand(fc_neurons)\n",
        "softmax_output = np.exp(fc_output) / np.sum(np.exp(fc_output))\n",
        "\n",
        "# Step 3: Helper function to draw 2D layer\n",
        "def draw_2d_layer(data, offset_x, offset_y, z_level, color, label):\n",
        "    rows, cols = data.shape\n",
        "    for i in range(rows):\n",
        "        for j in range(cols):\n",
        "            fig.add_trace(go.Mesh3d(\n",
        "                x=[offset_x+j, offset_x+j+1, offset_x+j+1, offset_x+j],\n",
        "                y=[offset_y+i, offset_y+i, offset_y+i+1, offset_y+i+1],\n",
        "                z=[z_level]*4,\n",
        "                color=color,\n",
        "                opacity=0.85,\n",
        "                hovertext=f\"{label}[{i},{j}] = {data[i,j]:.2f}\",\n",
        "                hoverinfo=\"text\",\n",
        "                showscale=False\n",
        "            ))\n",
        "\n",
        "# Step 4: Build the Visualization\n",
        "fig = go.Figure()\n",
        "\n",
        "# Input Layer\n",
        "draw_2d_layer(input_data, offset_x=0, offset_y=0, z_level=0, color='lightblue', label='Input')\n",
        "\n",
        "# Convolution Layer\n",
        "draw_2d_layer(conv_data, offset_x=8, offset_y=1, z_level=2, color='orange', label='Conv')\n",
        "\n",
        "# Pooling Layer\n",
        "draw_2d_layer(pool_data, offset_x=14, offset_y=2, z_level=4, color='lightgreen', label='Pool')\n",
        "\n",
        "# Flattened Layer\n",
        "for i, val in enumerate(flatten_data):\n",
        "    fig.add_trace(go.Scatter3d(\n",
        "        x=[20 + i], y=[2], z=[5],\n",
        "        mode='markers+text',\n",
        "        marker=dict(size=6, color='purple'),\n",
        "        text=[f\"{val:.2f}\"],\n",
        "        name=\"Flatten\"\n",
        "    ))\n",
        "\n",
        "# Fully Connected + Softmax Output\n",
        "for i, val in enumerate(softmax_output):\n",
        "    fig.add_trace(go.Scatter3d(\n",
        "        x=[28], y=[i * 1.5], z=[6],\n",
        "        mode='markers+text',\n",
        "        marker=dict(size=10, color='crimson'),\n",
        "        text=[f\"{val:.2f}\"],\n",
        "        name=\"Softmax Output\"\n",
        "    ))\n",
        "\n",
        "# Step 5: Customize Layout\n",
        "fig.update_layout(\n",
        "    title=\"📊 3D Interactive CNN Visualization (Input → Conv → Pool → Flatten → FC → Softmax)\",\n",
        "    scene=dict(\n",
        "        xaxis=dict(title='X', showgrid=False),\n",
        "        yaxis=dict(title='Y', showgrid=False),\n",
        "        zaxis=dict(title='Z', showgrid=False),\n",
        "    ),\n",
        "    margin=dict(l=0, r=0, b=0, t=50),\n",
        "    showlegend=False\n",
        ")\n",
        "\n",
        "# Step 6: Save Interactive Visualization\n",
        "fig.write_html(\"interactive_cnn_3d.html\")\n",
        "fig.show()\n"
      ],
      "metadata": {
        "colab": {
          "base_uri": "https://localhost:8080/",
          "height": 542
        },
        "id": "J1Leo2LhjYcp",
        "outputId": "d79694ff-87d9-4489-a496-3413a881980d"
      },
      "execution_count": 20,
      "outputs": [
        {
          "output_type": "display_data",
          "data": {
            "text/html": [
              "<html>\n",
              "<head><meta charset=\"utf-8\" /></head>\n",
              "<body>\n",
              "    <div>            <script src=\"https://cdnjs.cloudflare.com/ajax/libs/mathjax/2.7.5/MathJax.js?config=TeX-AMS-MML_SVG\"></script><script type=\"text/javascript\">if (window.MathJax && window.MathJax.Hub && window.MathJax.Hub.Config) {window.MathJax.Hub.Config({SVG: {font: \"STIX-Web\"}});}</script>                <script type=\"text/javascript\">window.PlotlyConfig = {MathJaxConfig: 'local'};</script>\n",
              "        <script charset=\"utf-8\" src=\"https://cdn.plot.ly/plotly-2.35.2.min.js\"></script>                <div id=\"30c4f3ca-36bc-499e-b2b8-f1c9b7c1c72a\" class=\"plotly-graph-div\" style=\"height:525px; width:100%;\"></div>            <script type=\"text/javascript\">                                    window.PLOTLYENV=window.PLOTLYENV || {};                                    if (document.getElementById(\"30c4f3ca-36bc-499e-b2b8-f1c9b7c1c72a\")) {                    Plotly.newPlot(                        \"30c4f3ca-36bc-499e-b2b8-f1c9b7c1c72a\",                        [{\"color\":\"lightblue\",\"hoverinfo\":\"text\",\"hovertext\":\"Input[0,0] = 0.29\",\"opacity\":0.85,\"showscale\":false,\"x\":[0,1,1,0],\"y\":[0,0,1,1],\"z\":[0,0,0,0],\"type\":\"mesh3d\"},{\"color\":\"lightblue\",\"hoverinfo\":\"text\",\"hovertext\":\"Input[0,1] = 0.89\",\"opacity\":0.85,\"showscale\":false,\"x\":[1,2,2,1],\"y\":[0,0,1,1],\"z\":[0,0,0,0],\"type\":\"mesh3d\"},{\"color\":\"lightblue\",\"hoverinfo\":\"text\",\"hovertext\":\"Input[0,2] = 0.44\",\"opacity\":0.85,\"showscale\":false,\"x\":[2,3,3,2],\"y\":[0,0,1,1],\"z\":[0,0,0,0],\"type\":\"mesh3d\"},{\"color\":\"lightblue\",\"hoverinfo\":\"text\",\"hovertext\":\"Input[0,3] = 0.06\",\"opacity\":0.85,\"showscale\":false,\"x\":[3,4,4,3],\"y\":[0,0,1,1],\"z\":[0,0,0,0],\"type\":\"mesh3d\"},{\"color\":\"lightblue\",\"hoverinfo\":\"text\",\"hovertext\":\"Input[0,4] = 0.37\",\"opacity\":0.85,\"showscale\":false,\"x\":[4,5,5,4],\"y\":[0,0,1,1],\"z\":[0,0,0,0],\"type\":\"mesh3d\"},{\"color\":\"lightblue\",\"hoverinfo\":\"text\",\"hovertext\":\"Input[0,5] = 0.07\",\"opacity\":0.85,\"showscale\":false,\"x\":[5,6,6,5],\"y\":[0,0,1,1],\"z\":[0,0,0,0],\"type\":\"mesh3d\"},{\"color\":\"lightblue\",\"hoverinfo\":\"text\",\"hovertext\":\"Input[1,0] = 0.94\",\"opacity\":0.85,\"showscale\":false,\"x\":[0,1,1,0],\"y\":[1,1,2,2],\"z\":[0,0,0,0],\"type\":\"mesh3d\"},{\"color\":\"lightblue\",\"hoverinfo\":\"text\",\"hovertext\":\"Input[1,1] = 0.27\",\"opacity\":0.85,\"showscale\":false,\"x\":[1,2,2,1],\"y\":[1,1,2,2],\"z\":[0,0,0,0],\"type\":\"mesh3d\"},{\"color\":\"lightblue\",\"hoverinfo\":\"text\",\"hovertext\":\"Input[1,2] = 0.58\",\"opacity\":0.85,\"showscale\":false,\"x\":[2,3,3,2],\"y\":[1,1,2,2],\"z\":[0,0,0,0],\"type\":\"mesh3d\"},{\"color\":\"lightblue\",\"hoverinfo\":\"text\",\"hovertext\":\"Input[1,3] = 0.71\",\"opacity\":0.85,\"showscale\":false,\"x\":[3,4,4,3],\"y\":[1,1,2,2],\"z\":[0,0,0,0],\"type\":\"mesh3d\"},{\"color\":\"lightblue\",\"hoverinfo\":\"text\",\"hovertext\":\"Input[1,4] = 0.17\",\"opacity\":0.85,\"showscale\":false,\"x\":[4,5,5,4],\"y\":[1,1,2,2],\"z\":[0,0,0,0],\"type\":\"mesh3d\"},{\"color\":\"lightblue\",\"hoverinfo\":\"text\",\"hovertext\":\"Input[1,5] = 0.74\",\"opacity\":0.85,\"showscale\":false,\"x\":[5,6,6,5],\"y\":[1,1,2,2],\"z\":[0,0,0,0],\"type\":\"mesh3d\"},{\"color\":\"lightblue\",\"hoverinfo\":\"text\",\"hovertext\":\"Input[2,0] = 0.77\",\"opacity\":0.85,\"showscale\":false,\"x\":[0,1,1,0],\"y\":[2,2,3,3],\"z\":[0,0,0,0],\"type\":\"mesh3d\"},{\"color\":\"lightblue\",\"hoverinfo\":\"text\",\"hovertext\":\"Input[2,1] = 0.25\",\"opacity\":0.85,\"showscale\":false,\"x\":[1,2,2,1],\"y\":[2,2,3,3],\"z\":[0,0,0,0],\"type\":\"mesh3d\"},{\"color\":\"lightblue\",\"hoverinfo\":\"text\",\"hovertext\":\"Input[2,2] = 0.97\",\"opacity\":0.85,\"showscale\":false,\"x\":[2,3,3,2],\"y\":[2,2,3,3],\"z\":[0,0,0,0],\"type\":\"mesh3d\"},{\"color\":\"lightblue\",\"hoverinfo\":\"text\",\"hovertext\":\"Input[2,3] = 0.08\",\"opacity\":0.85,\"showscale\":false,\"x\":[3,4,4,3],\"y\":[2,2,3,3],\"z\":[0,0,0,0],\"type\":\"mesh3d\"},{\"color\":\"lightblue\",\"hoverinfo\":\"text\",\"hovertext\":\"Input[2,4] = 0.27\",\"opacity\":0.85,\"showscale\":false,\"x\":[4,5,5,4],\"y\":[2,2,3,3],\"z\":[0,0,0,0],\"type\":\"mesh3d\"},{\"color\":\"lightblue\",\"hoverinfo\":\"text\",\"hovertext\":\"Input[2,5] = 0.75\",\"opacity\":0.85,\"showscale\":false,\"x\":[5,6,6,5],\"y\":[2,2,3,3],\"z\":[0,0,0,0],\"type\":\"mesh3d\"},{\"color\":\"lightblue\",\"hoverinfo\":\"text\",\"hovertext\":\"Input[3,0] = 0.76\",\"opacity\":0.85,\"showscale\":false,\"x\":[0,1,1,0],\"y\":[3,3,4,4],\"z\":[0,0,0,0],\"type\":\"mesh3d\"},{\"color\":\"lightblue\",\"hoverinfo\":\"text\",\"hovertext\":\"Input[3,1] = 0.98\",\"opacity\":0.85,\"showscale\":false,\"x\":[1,2,2,1],\"y\":[3,3,4,4],\"z\":[0,0,0,0],\"type\":\"mesh3d\"},{\"color\":\"lightblue\",\"hoverinfo\":\"text\",\"hovertext\":\"Input[3,2] = 0.40\",\"opacity\":0.85,\"showscale\":false,\"x\":[2,3,3,2],\"y\":[3,3,4,4],\"z\":[0,0,0,0],\"type\":\"mesh3d\"},{\"color\":\"lightblue\",\"hoverinfo\":\"text\",\"hovertext\":\"Input[3,3] = 0.94\",\"opacity\":0.85,\"showscale\":false,\"x\":[3,4,4,3],\"y\":[3,3,4,4],\"z\":[0,0,0,0],\"type\":\"mesh3d\"},{\"color\":\"lightblue\",\"hoverinfo\":\"text\",\"hovertext\":\"Input[3,4] = 0.34\",\"opacity\":0.85,\"showscale\":false,\"x\":[4,5,5,4],\"y\":[3,3,4,4],\"z\":[0,0,0,0],\"type\":\"mesh3d\"},{\"color\":\"lightblue\",\"hoverinfo\":\"text\",\"hovertext\":\"Input[3,5] = 0.14\",\"opacity\":0.85,\"showscale\":false,\"x\":[5,6,6,5],\"y\":[3,3,4,4],\"z\":[0,0,0,0],\"type\":\"mesh3d\"},{\"color\":\"lightblue\",\"hoverinfo\":\"text\",\"hovertext\":\"Input[4,0] = 0.95\",\"opacity\":0.85,\"showscale\":false,\"x\":[0,1,1,0],\"y\":[4,4,5,5],\"z\":[0,0,0,0],\"type\":\"mesh3d\"},{\"color\":\"lightblue\",\"hoverinfo\":\"text\",\"hovertext\":\"Input[4,1] = 0.90\",\"opacity\":0.85,\"showscale\":false,\"x\":[1,2,2,1],\"y\":[4,4,5,5],\"z\":[0,0,0,0],\"type\":\"mesh3d\"},{\"color\":\"lightblue\",\"hoverinfo\":\"text\",\"hovertext\":\"Input[4,2] = 0.46\",\"opacity\":0.85,\"showscale\":false,\"x\":[2,3,3,2],\"y\":[4,4,5,5],\"z\":[0,0,0,0],\"type\":\"mesh3d\"},{\"color\":\"lightblue\",\"hoverinfo\":\"text\",\"hovertext\":\"Input[4,3] = 0.93\",\"opacity\":0.85,\"showscale\":false,\"x\":[3,4,4,3],\"y\":[4,4,5,5],\"z\":[0,0,0,0],\"type\":\"mesh3d\"},{\"color\":\"lightblue\",\"hoverinfo\":\"text\",\"hovertext\":\"Input[4,4] = 0.15\",\"opacity\":0.85,\"showscale\":false,\"x\":[4,5,5,4],\"y\":[4,4,5,5],\"z\":[0,0,0,0],\"type\":\"mesh3d\"},{\"color\":\"lightblue\",\"hoverinfo\":\"text\",\"hovertext\":\"Input[4,5] = 0.09\",\"opacity\":0.85,\"showscale\":false,\"x\":[5,6,6,5],\"y\":[4,4,5,5],\"z\":[0,0,0,0],\"type\":\"mesh3d\"},{\"color\":\"lightblue\",\"hoverinfo\":\"text\",\"hovertext\":\"Input[5,0] = 0.61\",\"opacity\":0.85,\"showscale\":false,\"x\":[0,1,1,0],\"y\":[5,5,6,6],\"z\":[0,0,0,0],\"type\":\"mesh3d\"},{\"color\":\"lightblue\",\"hoverinfo\":\"text\",\"hovertext\":\"Input[5,1] = 0.26\",\"opacity\":0.85,\"showscale\":false,\"x\":[1,2,2,1],\"y\":[5,5,6,6],\"z\":[0,0,0,0],\"type\":\"mesh3d\"},{\"color\":\"lightblue\",\"hoverinfo\":\"text\",\"hovertext\":\"Input[5,2] = 0.48\",\"opacity\":0.85,\"showscale\":false,\"x\":[2,3,3,2],\"y\":[5,5,6,6],\"z\":[0,0,0,0],\"type\":\"mesh3d\"},{\"color\":\"lightblue\",\"hoverinfo\":\"text\",\"hovertext\":\"Input[5,3] = 0.66\",\"opacity\":0.85,\"showscale\":false,\"x\":[3,4,4,3],\"y\":[5,5,6,6],\"z\":[0,0,0,0],\"type\":\"mesh3d\"},{\"color\":\"lightblue\",\"hoverinfo\":\"text\",\"hovertext\":\"Input[5,4] = 0.55\",\"opacity\":0.85,\"showscale\":false,\"x\":[4,5,5,4],\"y\":[5,5,6,6],\"z\":[0,0,0,0],\"type\":\"mesh3d\"},{\"color\":\"lightblue\",\"hoverinfo\":\"text\",\"hovertext\":\"Input[5,5] = 0.19\",\"opacity\":0.85,\"showscale\":false,\"x\":[5,6,6,5],\"y\":[5,5,6,6],\"z\":[0,0,0,0],\"type\":\"mesh3d\"},{\"color\":\"orange\",\"hoverinfo\":\"text\",\"hovertext\":\"Conv[0,0] = 0.08\",\"opacity\":0.85,\"showscale\":false,\"x\":[8,9,9,8],\"y\":[1,1,2,2],\"z\":[2,2,2,2],\"type\":\"mesh3d\"},{\"color\":\"orange\",\"hoverinfo\":\"text\",\"hovertext\":\"Conv[0,1] = 0.74\",\"opacity\":0.85,\"showscale\":false,\"x\":[9,10,10,9],\"y\":[1,1,2,2],\"z\":[2,2,2,2],\"type\":\"mesh3d\"},{\"color\":\"orange\",\"hoverinfo\":\"text\",\"hovertext\":\"Conv[0,2] = 0.24\",\"opacity\":0.85,\"showscale\":false,\"x\":[10,11,11,10],\"y\":[1,1,2,2],\"z\":[2,2,2,2],\"type\":\"mesh3d\"},{\"color\":\"orange\",\"hoverinfo\":\"text\",\"hovertext\":\"Conv[0,3] = 0.37\",\"opacity\":0.85,\"showscale\":false,\"x\":[11,12,12,11],\"y\":[1,1,2,2],\"z\":[2,2,2,2],\"type\":\"mesh3d\"},{\"color\":\"orange\",\"hoverinfo\":\"text\",\"hovertext\":\"Conv[1,0] = 0.63\",\"opacity\":0.85,\"showscale\":false,\"x\":[8,9,9,8],\"y\":[2,2,3,3],\"z\":[2,2,2,2],\"type\":\"mesh3d\"},{\"color\":\"orange\",\"hoverinfo\":\"text\",\"hovertext\":\"Conv[1,1] = 0.36\",\"opacity\":0.85,\"showscale\":false,\"x\":[9,10,10,9],\"y\":[2,2,3,3],\"z\":[2,2,2,2],\"type\":\"mesh3d\"},{\"color\":\"orange\",\"hoverinfo\":\"text\",\"hovertext\":\"Conv[1,2] = 0.95\",\"opacity\":0.85,\"showscale\":false,\"x\":[10,11,11,10],\"y\":[2,2,3,3],\"z\":[2,2,2,2],\"type\":\"mesh3d\"},{\"color\":\"orange\",\"hoverinfo\":\"text\",\"hovertext\":\"Conv[1,3] = 0.40\",\"opacity\":0.85,\"showscale\":false,\"x\":[11,12,12,11],\"y\":[2,2,3,3],\"z\":[2,2,2,2],\"type\":\"mesh3d\"},{\"color\":\"orange\",\"hoverinfo\":\"text\",\"hovertext\":\"Conv[2,0] = 0.43\",\"opacity\":0.85,\"showscale\":false,\"x\":[8,9,9,8],\"y\":[3,3,4,4],\"z\":[2,2,2,2],\"type\":\"mesh3d\"},{\"color\":\"orange\",\"hoverinfo\":\"text\",\"hovertext\":\"Conv[2,1] = 0.77\",\"opacity\":0.85,\"showscale\":false,\"x\":[9,10,10,9],\"y\":[3,3,4,4],\"z\":[2,2,2,2],\"type\":\"mesh3d\"},{\"color\":\"orange\",\"hoverinfo\":\"text\",\"hovertext\":\"Conv[2,2] = 0.20\",\"opacity\":0.85,\"showscale\":false,\"x\":[10,11,11,10],\"y\":[3,3,4,4],\"z\":[2,2,2,2],\"type\":\"mesh3d\"},{\"color\":\"orange\",\"hoverinfo\":\"text\",\"hovertext\":\"Conv[2,3] = 0.48\",\"opacity\":0.85,\"showscale\":false,\"x\":[11,12,12,11],\"y\":[3,3,4,4],\"z\":[2,2,2,2],\"type\":\"mesh3d\"},{\"color\":\"orange\",\"hoverinfo\":\"text\",\"hovertext\":\"Conv[3,0] = 0.13\",\"opacity\":0.85,\"showscale\":false,\"x\":[8,9,9,8],\"y\":[4,4,5,5],\"z\":[2,2,2,2],\"type\":\"mesh3d\"},{\"color\":\"orange\",\"hoverinfo\":\"text\",\"hovertext\":\"Conv[3,1] = 0.96\",\"opacity\":0.85,\"showscale\":false,\"x\":[9,10,10,9],\"y\":[4,4,5,5],\"z\":[2,2,2,2],\"type\":\"mesh3d\"},{\"color\":\"orange\",\"hoverinfo\":\"text\",\"hovertext\":\"Conv[3,2] = 0.82\",\"opacity\":0.85,\"showscale\":false,\"x\":[10,11,11,10],\"y\":[4,4,5,5],\"z\":[2,2,2,2],\"type\":\"mesh3d\"},{\"color\":\"orange\",\"hoverinfo\":\"text\",\"hovertext\":\"Conv[3,3] = 0.66\",\"opacity\":0.85,\"showscale\":false,\"x\":[11,12,12,11],\"y\":[4,4,5,5],\"z\":[2,2,2,2],\"type\":\"mesh3d\"},{\"color\":\"lightgreen\",\"hoverinfo\":\"text\",\"hovertext\":\"Pool[0,0] = 0.65\",\"opacity\":0.85,\"showscale\":false,\"x\":[14,15,15,14],\"y\":[2,2,3,3],\"z\":[4,4,4,4],\"type\":\"mesh3d\"},{\"color\":\"lightgreen\",\"hoverinfo\":\"text\",\"hovertext\":\"Pool[0,1] = 0.14\",\"opacity\":0.85,\"showscale\":false,\"x\":[15,16,16,15],\"y\":[2,2,3,3],\"z\":[4,4,4,4],\"type\":\"mesh3d\"},{\"color\":\"lightgreen\",\"hoverinfo\":\"text\",\"hovertext\":\"Pool[1,0] = 0.46\",\"opacity\":0.85,\"showscale\":false,\"x\":[14,15,15,14],\"y\":[3,3,4,4],\"z\":[4,4,4,4],\"type\":\"mesh3d\"},{\"color\":\"lightgreen\",\"hoverinfo\":\"text\",\"hovertext\":\"Pool[1,1] = 0.69\",\"opacity\":0.85,\"showscale\":false,\"x\":[15,16,16,15],\"y\":[3,3,4,4],\"z\":[4,4,4,4],\"type\":\"mesh3d\"},{\"marker\":{\"color\":\"purple\",\"size\":6},\"mode\":\"markers+text\",\"name\":\"Flatten\",\"text\":[\"0.65\"],\"x\":[20],\"y\":[2],\"z\":[5],\"type\":\"scatter3d\"},{\"marker\":{\"color\":\"purple\",\"size\":6},\"mode\":\"markers+text\",\"name\":\"Flatten\",\"text\":[\"0.14\"],\"x\":[21],\"y\":[2],\"z\":[5],\"type\":\"scatter3d\"},{\"marker\":{\"color\":\"purple\",\"size\":6},\"mode\":\"markers+text\",\"name\":\"Flatten\",\"text\":[\"0.46\"],\"x\":[22],\"y\":[2],\"z\":[5],\"type\":\"scatter3d\"},{\"marker\":{\"color\":\"purple\",\"size\":6},\"mode\":\"markers+text\",\"name\":\"Flatten\",\"text\":[\"0.69\"],\"x\":[23],\"y\":[2],\"z\":[5],\"type\":\"scatter3d\"},{\"marker\":{\"color\":\"crimson\",\"size\":10},\"mode\":\"markers+text\",\"name\":\"Softmax Output\",\"text\":[\"0.27\"],\"x\":[28],\"y\":[0.0],\"z\":[6],\"type\":\"scatter3d\"},{\"marker\":{\"color\":\"crimson\",\"size\":10},\"mode\":\"markers+text\",\"name\":\"Softmax Output\",\"text\":[\"0.23\"],\"x\":[28],\"y\":[1.5],\"z\":[6],\"type\":\"scatter3d\"},{\"marker\":{\"color\":\"crimson\",\"size\":10},\"mode\":\"markers+text\",\"name\":\"Softmax Output\",\"text\":[\"0.50\"],\"x\":[28],\"y\":[3.0],\"z\":[6],\"type\":\"scatter3d\"}],                        {\"template\":{\"data\":{\"histogram2dcontour\":[{\"type\":\"histogram2dcontour\",\"colorbar\":{\"outlinewidth\":0,\"ticks\":\"\"},\"colorscale\":[[0.0,\"#0d0887\"],[0.1111111111111111,\"#46039f\"],[0.2222222222222222,\"#7201a8\"],[0.3333333333333333,\"#9c179e\"],[0.4444444444444444,\"#bd3786\"],[0.5555555555555556,\"#d8576b\"],[0.6666666666666666,\"#ed7953\"],[0.7777777777777778,\"#fb9f3a\"],[0.8888888888888888,\"#fdca26\"],[1.0,\"#f0f921\"]]}],\"choropleth\":[{\"type\":\"choropleth\",\"colorbar\":{\"outlinewidth\":0,\"ticks\":\"\"}}],\"histogram2d\":[{\"type\":\"histogram2d\",\"colorbar\":{\"outlinewidth\":0,\"ticks\":\"\"},\"colorscale\":[[0.0,\"#0d0887\"],[0.1111111111111111,\"#46039f\"],[0.2222222222222222,\"#7201a8\"],[0.3333333333333333,\"#9c179e\"],[0.4444444444444444,\"#bd3786\"],[0.5555555555555556,\"#d8576b\"],[0.6666666666666666,\"#ed7953\"],[0.7777777777777778,\"#fb9f3a\"],[0.8888888888888888,\"#fdca26\"],[1.0,\"#f0f921\"]]}],\"heatmap\":[{\"type\":\"heatmap\",\"colorbar\":{\"outlinewidth\":0,\"ticks\":\"\"},\"colorscale\":[[0.0,\"#0d0887\"],[0.1111111111111111,\"#46039f\"],[0.2222222222222222,\"#7201a8\"],[0.3333333333333333,\"#9c179e\"],[0.4444444444444444,\"#bd3786\"],[0.5555555555555556,\"#d8576b\"],[0.6666666666666666,\"#ed7953\"],[0.7777777777777778,\"#fb9f3a\"],[0.8888888888888888,\"#fdca26\"],[1.0,\"#f0f921\"]]}],\"heatmapgl\":[{\"type\":\"heatmapgl\",\"colorbar\":{\"outlinewidth\":0,\"ticks\":\"\"},\"colorscale\":[[0.0,\"#0d0887\"],[0.1111111111111111,\"#46039f\"],[0.2222222222222222,\"#7201a8\"],[0.3333333333333333,\"#9c179e\"],[0.4444444444444444,\"#bd3786\"],[0.5555555555555556,\"#d8576b\"],[0.6666666666666666,\"#ed7953\"],[0.7777777777777778,\"#fb9f3a\"],[0.8888888888888888,\"#fdca26\"],[1.0,\"#f0f921\"]]}],\"contourcarpet\":[{\"type\":\"contourcarpet\",\"colorbar\":{\"outlinewidth\":0,\"ticks\":\"\"}}],\"contour\":[{\"type\":\"contour\",\"colorbar\":{\"outlinewidth\":0,\"ticks\":\"\"},\"colorscale\":[[0.0,\"#0d0887\"],[0.1111111111111111,\"#46039f\"],[0.2222222222222222,\"#7201a8\"],[0.3333333333333333,\"#9c179e\"],[0.4444444444444444,\"#bd3786\"],[0.5555555555555556,\"#d8576b\"],[0.6666666666666666,\"#ed7953\"],[0.7777777777777778,\"#fb9f3a\"],[0.8888888888888888,\"#fdca26\"],[1.0,\"#f0f921\"]]}],\"surface\":[{\"type\":\"surface\",\"colorbar\":{\"outlinewidth\":0,\"ticks\":\"\"},\"colorscale\":[[0.0,\"#0d0887\"],[0.1111111111111111,\"#46039f\"],[0.2222222222222222,\"#7201a8\"],[0.3333333333333333,\"#9c179e\"],[0.4444444444444444,\"#bd3786\"],[0.5555555555555556,\"#d8576b\"],[0.6666666666666666,\"#ed7953\"],[0.7777777777777778,\"#fb9f3a\"],[0.8888888888888888,\"#fdca26\"],[1.0,\"#f0f921\"]]}],\"mesh3d\":[{\"type\":\"mesh3d\",\"colorbar\":{\"outlinewidth\":0,\"ticks\":\"\"}}],\"scatter\":[{\"fillpattern\":{\"fillmode\":\"overlay\",\"size\":10,\"solidity\":0.2},\"type\":\"scatter\"}],\"parcoords\":[{\"type\":\"parcoords\",\"line\":{\"colorbar\":{\"outlinewidth\":0,\"ticks\":\"\"}}}],\"scatterpolargl\":[{\"type\":\"scatterpolargl\",\"marker\":{\"colorbar\":{\"outlinewidth\":0,\"ticks\":\"\"}}}],\"bar\":[{\"error_x\":{\"color\":\"#2a3f5f\"},\"error_y\":{\"color\":\"#2a3f5f\"},\"marker\":{\"line\":{\"color\":\"#E5ECF6\",\"width\":0.5},\"pattern\":{\"fillmode\":\"overlay\",\"size\":10,\"solidity\":0.2}},\"type\":\"bar\"}],\"scattergeo\":[{\"type\":\"scattergeo\",\"marker\":{\"colorbar\":{\"outlinewidth\":0,\"ticks\":\"\"}}}],\"scatterpolar\":[{\"type\":\"scatterpolar\",\"marker\":{\"colorbar\":{\"outlinewidth\":0,\"ticks\":\"\"}}}],\"histogram\":[{\"marker\":{\"pattern\":{\"fillmode\":\"overlay\",\"size\":10,\"solidity\":0.2}},\"type\":\"histogram\"}],\"scattergl\":[{\"type\":\"scattergl\",\"marker\":{\"colorbar\":{\"outlinewidth\":0,\"ticks\":\"\"}}}],\"scatter3d\":[{\"type\":\"scatter3d\",\"line\":{\"colorbar\":{\"outlinewidth\":0,\"ticks\":\"\"}},\"marker\":{\"colorbar\":{\"outlinewidth\":0,\"ticks\":\"\"}}}],\"scattermapbox\":[{\"type\":\"scattermapbox\",\"marker\":{\"colorbar\":{\"outlinewidth\":0,\"ticks\":\"\"}}}],\"scatterternary\":[{\"type\":\"scatterternary\",\"marker\":{\"colorbar\":{\"outlinewidth\":0,\"ticks\":\"\"}}}],\"scattercarpet\":[{\"type\":\"scattercarpet\",\"marker\":{\"colorbar\":{\"outlinewidth\":0,\"ticks\":\"\"}}}],\"carpet\":[{\"aaxis\":{\"endlinecolor\":\"#2a3f5f\",\"gridcolor\":\"white\",\"linecolor\":\"white\",\"minorgridcolor\":\"white\",\"startlinecolor\":\"#2a3f5f\"},\"baxis\":{\"endlinecolor\":\"#2a3f5f\",\"gridcolor\":\"white\",\"linecolor\":\"white\",\"minorgridcolor\":\"white\",\"startlinecolor\":\"#2a3f5f\"},\"type\":\"carpet\"}],\"table\":[{\"cells\":{\"fill\":{\"color\":\"#EBF0F8\"},\"line\":{\"color\":\"white\"}},\"header\":{\"fill\":{\"color\":\"#C8D4E3\"},\"line\":{\"color\":\"white\"}},\"type\":\"table\"}],\"barpolar\":[{\"marker\":{\"line\":{\"color\":\"#E5ECF6\",\"width\":0.5},\"pattern\":{\"fillmode\":\"overlay\",\"size\":10,\"solidity\":0.2}},\"type\":\"barpolar\"}],\"pie\":[{\"automargin\":true,\"type\":\"pie\"}]},\"layout\":{\"autotypenumbers\":\"strict\",\"colorway\":[\"#636efa\",\"#EF553B\",\"#00cc96\",\"#ab63fa\",\"#FFA15A\",\"#19d3f3\",\"#FF6692\",\"#B6E880\",\"#FF97FF\",\"#FECB52\"],\"font\":{\"color\":\"#2a3f5f\"},\"hovermode\":\"closest\",\"hoverlabel\":{\"align\":\"left\"},\"paper_bgcolor\":\"white\",\"plot_bgcolor\":\"#E5ECF6\",\"polar\":{\"bgcolor\":\"#E5ECF6\",\"angularaxis\":{\"gridcolor\":\"white\",\"linecolor\":\"white\",\"ticks\":\"\"},\"radialaxis\":{\"gridcolor\":\"white\",\"linecolor\":\"white\",\"ticks\":\"\"}},\"ternary\":{\"bgcolor\":\"#E5ECF6\",\"aaxis\":{\"gridcolor\":\"white\",\"linecolor\":\"white\",\"ticks\":\"\"},\"baxis\":{\"gridcolor\":\"white\",\"linecolor\":\"white\",\"ticks\":\"\"},\"caxis\":{\"gridcolor\":\"white\",\"linecolor\":\"white\",\"ticks\":\"\"}},\"coloraxis\":{\"colorbar\":{\"outlinewidth\":0,\"ticks\":\"\"}},\"colorscale\":{\"sequential\":[[0.0,\"#0d0887\"],[0.1111111111111111,\"#46039f\"],[0.2222222222222222,\"#7201a8\"],[0.3333333333333333,\"#9c179e\"],[0.4444444444444444,\"#bd3786\"],[0.5555555555555556,\"#d8576b\"],[0.6666666666666666,\"#ed7953\"],[0.7777777777777778,\"#fb9f3a\"],[0.8888888888888888,\"#fdca26\"],[1.0,\"#f0f921\"]],\"sequentialminus\":[[0.0,\"#0d0887\"],[0.1111111111111111,\"#46039f\"],[0.2222222222222222,\"#7201a8\"],[0.3333333333333333,\"#9c179e\"],[0.4444444444444444,\"#bd3786\"],[0.5555555555555556,\"#d8576b\"],[0.6666666666666666,\"#ed7953\"],[0.7777777777777778,\"#fb9f3a\"],[0.8888888888888888,\"#fdca26\"],[1.0,\"#f0f921\"]],\"diverging\":[[0,\"#8e0152\"],[0.1,\"#c51b7d\"],[0.2,\"#de77ae\"],[0.3,\"#f1b6da\"],[0.4,\"#fde0ef\"],[0.5,\"#f7f7f7\"],[0.6,\"#e6f5d0\"],[0.7,\"#b8e186\"],[0.8,\"#7fbc41\"],[0.9,\"#4d9221\"],[1,\"#276419\"]]},\"xaxis\":{\"gridcolor\":\"white\",\"linecolor\":\"white\",\"ticks\":\"\",\"title\":{\"standoff\":15},\"zerolinecolor\":\"white\",\"automargin\":true,\"zerolinewidth\":2},\"yaxis\":{\"gridcolor\":\"white\",\"linecolor\":\"white\",\"ticks\":\"\",\"title\":{\"standoff\":15},\"zerolinecolor\":\"white\",\"automargin\":true,\"zerolinewidth\":2},\"scene\":{\"xaxis\":{\"backgroundcolor\":\"#E5ECF6\",\"gridcolor\":\"white\",\"linecolor\":\"white\",\"showbackground\":true,\"ticks\":\"\",\"zerolinecolor\":\"white\",\"gridwidth\":2},\"yaxis\":{\"backgroundcolor\":\"#E5ECF6\",\"gridcolor\":\"white\",\"linecolor\":\"white\",\"showbackground\":true,\"ticks\":\"\",\"zerolinecolor\":\"white\",\"gridwidth\":2},\"zaxis\":{\"backgroundcolor\":\"#E5ECF6\",\"gridcolor\":\"white\",\"linecolor\":\"white\",\"showbackground\":true,\"ticks\":\"\",\"zerolinecolor\":\"white\",\"gridwidth\":2}},\"shapedefaults\":{\"line\":{\"color\":\"#2a3f5f\"}},\"annotationdefaults\":{\"arrowcolor\":\"#2a3f5f\",\"arrowhead\":0,\"arrowwidth\":1},\"geo\":{\"bgcolor\":\"white\",\"landcolor\":\"#E5ECF6\",\"subunitcolor\":\"white\",\"showland\":true,\"showlakes\":true,\"lakecolor\":\"white\"},\"title\":{\"x\":0.05},\"mapbox\":{\"style\":\"light\"}}},\"scene\":{\"xaxis\":{\"title\":{\"text\":\"X\"},\"showgrid\":false},\"yaxis\":{\"title\":{\"text\":\"Y\"},\"showgrid\":false},\"zaxis\":{\"title\":{\"text\":\"Z\"},\"showgrid\":false}},\"margin\":{\"l\":0,\"r\":0,\"b\":0,\"t\":50},\"title\":{\"text\":\"📊 3D Interactive CNN Visualization (Input → Conv → Pool → Flatten → FC → Softmax)\"},\"showlegend\":false},                        {\"responsive\": true}                    ).then(function(){\n",
              "                            \n",
              "var gd = document.getElementById('30c4f3ca-36bc-499e-b2b8-f1c9b7c1c72a');\n",
              "var x = new MutationObserver(function (mutations, observer) {{\n",
              "        var display = window.getComputedStyle(gd).display;\n",
              "        if (!display || display === 'none') {{\n",
              "            console.log([gd, 'removed!']);\n",
              "            Plotly.purge(gd);\n",
              "            observer.disconnect();\n",
              "        }}\n",
              "}});\n",
              "\n",
              "// Listen for the removal of the full notebook cells\n",
              "var notebookContainer = gd.closest('#notebook-container');\n",
              "if (notebookContainer) {{\n",
              "    x.observe(notebookContainer, {childList: true});\n",
              "}}\n",
              "\n",
              "// Listen for the clearing of the current output cell\n",
              "var outputEl = gd.closest('.output');\n",
              "if (outputEl) {{\n",
              "    x.observe(outputEl, {childList: true});\n",
              "}}\n",
              "\n",
              "                        })                };                            </script>        </div>\n",
              "</body>\n",
              "</html>"
            ]
          },
          "metadata": {}
        }
      ]
    },
    {
      "cell_type": "code",
      "source": [
        "!apt install libcairo2-dev libpango1.0-dev libgdk-pixbuf2.0-dev libffi-dev shared-mime-info"
      ],
      "metadata": {
        "colab": {
          "base_uri": "https://localhost:8080/"
        },
        "id": "wtyJoFe_nPyH",
        "outputId": "1fda791a-a500-43a7-c49a-d3cb03dfa988"
      },
      "execution_count": 25,
      "outputs": [
        {
          "output_type": "stream",
          "name": "stdout",
          "text": [
            "Reading package lists... Done\n",
            "Building dependency tree... Done\n",
            "Reading state information... Done\n",
            "libcairo2-dev is already the newest version (1.16.0-5ubuntu2).\n",
            "libffi-dev is already the newest version (3.4.2-4).\n",
            "libffi-dev set to manually installed.\n",
            "shared-mime-info is already the newest version (2.1-2).\n",
            "shared-mime-info set to manually installed.\n",
            "The following additional packages will be installed:\n",
            "  libdatrie-dev libfribidi-dev libgdk-pixbuf-2.0-dev libgdk-pixbuf-xlib-2.0-0\n",
            "  libgdk-pixbuf-xlib-2.0-dev libgdk-pixbuf2.0-bin libgraphite2-dev libharfbuzz-dev\n",
            "  libharfbuzz-gobject0 libharfbuzz-icu0 libthai-dev pango1.0-tools\n",
            "Suggested packages:\n",
            "  libdatrie-doc libgraphite2-utils libpango1.0-doc libthai-doc graphicsmagick\n",
            "The following NEW packages will be installed:\n",
            "  libdatrie-dev libfribidi-dev libgdk-pixbuf-2.0-dev libgdk-pixbuf-xlib-2.0-0\n",
            "  libgdk-pixbuf-xlib-2.0-dev libgdk-pixbuf2.0-bin libgdk-pixbuf2.0-dev libgraphite2-dev\n",
            "  libharfbuzz-dev libharfbuzz-gobject0 libharfbuzz-icu0 libpango1.0-dev libthai-dev pango1.0-tools\n",
            "0 upgraded, 14 newly installed, 0 to remove and 30 not upgraded.\n",
            "Need to get 1,024 kB of archives.\n",
            "After this operation, 6,538 kB of additional disk space will be used.\n",
            "Get:1 http://archive.ubuntu.com/ubuntu jammy/main amd64 libdatrie-dev amd64 0.2.13-2 [19.7 kB]\n",
            "Get:2 http://archive.ubuntu.com/ubuntu jammy-updates/main amd64 libfribidi-dev amd64 1.0.8-2ubuntu3.1 [64.8 kB]\n",
            "Get:3 http://archive.ubuntu.com/ubuntu jammy-updates/main amd64 libgdk-pixbuf2.0-bin amd64 2.42.8+dfsg-1ubuntu0.3 [14.2 kB]\n",
            "Get:4 http://archive.ubuntu.com/ubuntu jammy-updates/main amd64 libgdk-pixbuf-2.0-dev amd64 2.42.8+dfsg-1ubuntu0.3 [47.8 kB]\n",
            "Get:5 http://archive.ubuntu.com/ubuntu jammy/main amd64 libgdk-pixbuf-xlib-2.0-0 amd64 2.40.2-2build4 [42.6 kB]\n",
            "Get:6 http://archive.ubuntu.com/ubuntu jammy/main amd64 libgdk-pixbuf-xlib-2.0-dev amd64 2.40.2-2build4 [4,738 B]\n",
            "Get:7 http://archive.ubuntu.com/ubuntu jammy/main amd64 libgdk-pixbuf2.0-dev amd64 2.40.2-2build4 [2,492 B]\n",
            "Get:8 http://archive.ubuntu.com/ubuntu jammy/main amd64 libgraphite2-dev amd64 1.3.14-1build2 [14.7 kB]\n",
            "Get:9 http://archive.ubuntu.com/ubuntu jammy-updates/main amd64 libharfbuzz-icu0 amd64 2.7.4-1ubuntu3.2 [5,890 B]\n",
            "Get:10 http://archive.ubuntu.com/ubuntu jammy-updates/main amd64 libharfbuzz-gobject0 amd64 2.7.4-1ubuntu3.2 [26.0 kB]\n",
            "Get:11 http://archive.ubuntu.com/ubuntu jammy-updates/main amd64 libharfbuzz-dev amd64 2.7.4-1ubuntu3.2 [554 kB]\n",
            "Get:12 http://archive.ubuntu.com/ubuntu jammy/main amd64 libthai-dev amd64 0.1.29-1build1 [26.4 kB]\n",
            "Get:13 http://archive.ubuntu.com/ubuntu jammy-updates/main amd64 pango1.0-tools amd64 1.50.6+ds-2ubuntu1 [45.8 kB]\n",
            "Get:14 http://archive.ubuntu.com/ubuntu jammy-updates/main amd64 libpango1.0-dev amd64 1.50.6+ds-2ubuntu1 [154 kB]\n",
            "Fetched 1,024 kB in 1s (1,339 kB/s)\n",
            "Selecting previously unselected package libdatrie-dev:amd64.\n",
            "(Reading database ... 126213 files and directories currently installed.)\n",
            "Preparing to unpack .../00-libdatrie-dev_0.2.13-2_amd64.deb ...\n",
            "Unpacking libdatrie-dev:amd64 (0.2.13-2) ...\n",
            "Selecting previously unselected package libfribidi-dev:amd64.\n",
            "Preparing to unpack .../01-libfribidi-dev_1.0.8-2ubuntu3.1_amd64.deb ...\n",
            "Unpacking libfribidi-dev:amd64 (1.0.8-2ubuntu3.1) ...\n",
            "Selecting previously unselected package libgdk-pixbuf2.0-bin.\n",
            "Preparing to unpack .../02-libgdk-pixbuf2.0-bin_2.42.8+dfsg-1ubuntu0.3_amd64.deb ...\n",
            "Unpacking libgdk-pixbuf2.0-bin (2.42.8+dfsg-1ubuntu0.3) ...\n",
            "Selecting previously unselected package libgdk-pixbuf-2.0-dev:amd64.\n",
            "Preparing to unpack .../03-libgdk-pixbuf-2.0-dev_2.42.8+dfsg-1ubuntu0.3_amd64.deb ...\n",
            "Unpacking libgdk-pixbuf-2.0-dev:amd64 (2.42.8+dfsg-1ubuntu0.3) ...\n",
            "Selecting previously unselected package libgdk-pixbuf-xlib-2.0-0:amd64.\n",
            "Preparing to unpack .../04-libgdk-pixbuf-xlib-2.0-0_2.40.2-2build4_amd64.deb ...\n",
            "Unpacking libgdk-pixbuf-xlib-2.0-0:amd64 (2.40.2-2build4) ...\n",
            "Selecting previously unselected package libgdk-pixbuf-xlib-2.0-dev:amd64.\n",
            "Preparing to unpack .../05-libgdk-pixbuf-xlib-2.0-dev_2.40.2-2build4_amd64.deb ...\n",
            "Unpacking libgdk-pixbuf-xlib-2.0-dev:amd64 (2.40.2-2build4) ...\n",
            "Selecting previously unselected package libgdk-pixbuf2.0-dev:amd64.\n",
            "Preparing to unpack .../06-libgdk-pixbuf2.0-dev_2.40.2-2build4_amd64.deb ...\n",
            "Unpacking libgdk-pixbuf2.0-dev:amd64 (2.40.2-2build4) ...\n",
            "Selecting previously unselected package libgraphite2-dev:amd64.\n",
            "Preparing to unpack .../07-libgraphite2-dev_1.3.14-1build2_amd64.deb ...\n",
            "Unpacking libgraphite2-dev:amd64 (1.3.14-1build2) ...\n",
            "Selecting previously unselected package libharfbuzz-icu0:amd64.\n",
            "Preparing to unpack .../08-libharfbuzz-icu0_2.7.4-1ubuntu3.2_amd64.deb ...\n",
            "Unpacking libharfbuzz-icu0:amd64 (2.7.4-1ubuntu3.2) ...\n",
            "Selecting previously unselected package libharfbuzz-gobject0:amd64.\n",
            "Preparing to unpack .../09-libharfbuzz-gobject0_2.7.4-1ubuntu3.2_amd64.deb ...\n",
            "Unpacking libharfbuzz-gobject0:amd64 (2.7.4-1ubuntu3.2) ...\n",
            "Selecting previously unselected package libharfbuzz-dev:amd64.\n",
            "Preparing to unpack .../10-libharfbuzz-dev_2.7.4-1ubuntu3.2_amd64.deb ...\n",
            "Unpacking libharfbuzz-dev:amd64 (2.7.4-1ubuntu3.2) ...\n",
            "Selecting previously unselected package libthai-dev:amd64.\n",
            "Preparing to unpack .../11-libthai-dev_0.1.29-1build1_amd64.deb ...\n",
            "Unpacking libthai-dev:amd64 (0.1.29-1build1) ...\n",
            "Selecting previously unselected package pango1.0-tools.\n",
            "Preparing to unpack .../12-pango1.0-tools_1.50.6+ds-2ubuntu1_amd64.deb ...\n",
            "Unpacking pango1.0-tools (1.50.6+ds-2ubuntu1) ...\n",
            "Selecting previously unselected package libpango1.0-dev:amd64.\n",
            "Preparing to unpack .../13-libpango1.0-dev_1.50.6+ds-2ubuntu1_amd64.deb ...\n",
            "Unpacking libpango1.0-dev:amd64 (1.50.6+ds-2ubuntu1) ...\n",
            "Setting up libharfbuzz-icu0:amd64 (2.7.4-1ubuntu3.2) ...\n",
            "Setting up libgdk-pixbuf-xlib-2.0-0:amd64 (2.40.2-2build4) ...\n",
            "Setting up libfribidi-dev:amd64 (1.0.8-2ubuntu3.1) ...\n",
            "Setting up pango1.0-tools (1.50.6+ds-2ubuntu1) ...\n",
            "Setting up libharfbuzz-gobject0:amd64 (2.7.4-1ubuntu3.2) ...\n",
            "Setting up libgraphite2-dev:amd64 (1.3.14-1build2) ...\n",
            "Setting up libdatrie-dev:amd64 (0.2.13-2) ...\n",
            "Setting up libgdk-pixbuf2.0-bin (2.42.8+dfsg-1ubuntu0.3) ...\n",
            "Setting up libgdk-pixbuf-2.0-dev:amd64 (2.42.8+dfsg-1ubuntu0.3) ...\n",
            "Setting up libharfbuzz-dev:amd64 (2.7.4-1ubuntu3.2) ...\n",
            "Setting up libgdk-pixbuf-xlib-2.0-dev:amd64 (2.40.2-2build4) ...\n",
            "Setting up libgdk-pixbuf2.0-dev:amd64 (2.40.2-2build4) ...\n",
            "Setting up libthai-dev:amd64 (0.1.29-1build1) ...\n",
            "Setting up libpango1.0-dev:amd64 (1.50.6+ds-2ubuntu1) ...\n",
            "Processing triggers for man-db (2.10.2-1) ...\n",
            "Processing triggers for libc-bin (2.35-0ubuntu3.8) ...\n",
            "/sbin/ldconfig.real: /usr/local/lib/libtcm.so.1 is not a symbolic link\n",
            "\n",
            "/sbin/ldconfig.real: /usr/local/lib/libhwloc.so.15 is not a symbolic link\n",
            "\n",
            "/sbin/ldconfig.real: /usr/local/lib/libtbb.so.12 is not a symbolic link\n",
            "\n",
            "/sbin/ldconfig.real: /usr/local/lib/libtbbbind.so.3 is not a symbolic link\n",
            "\n",
            "/sbin/ldconfig.real: /usr/local/lib/libtcm_debug.so.1 is not a symbolic link\n",
            "\n",
            "/sbin/ldconfig.real: /usr/local/lib/libtbbbind_2_0.so.3 is not a symbolic link\n",
            "\n",
            "/sbin/ldconfig.real: /usr/local/lib/libtbbbind_2_5.so.3 is not a symbolic link\n",
            "\n",
            "/sbin/ldconfig.real: /usr/local/lib/libtbbmalloc_proxy.so.2 is not a symbolic link\n",
            "\n",
            "/sbin/ldconfig.real: /usr/local/lib/libtbbmalloc.so.2 is not a symbolic link\n",
            "\n",
            "/sbin/ldconfig.real: /usr/local/lib/libumf.so.0 is not a symbolic link\n",
            "\n",
            "/sbin/ldconfig.real: /usr/local/lib/libur_adapter_level_zero.so.0 is not a symbolic link\n",
            "\n",
            "/sbin/ldconfig.real: /usr/local/lib/libur_adapter_opencl.so.0 is not a symbolic link\n",
            "\n",
            "/sbin/ldconfig.real: /usr/local/lib/libur_loader.so.0 is not a symbolic link\n",
            "\n"
          ]
        }
      ]
    },
    {
      "cell_type": "code",
      "source": [
        "!pip install manim --upgrade"
      ],
      "metadata": {
        "colab": {
          "base_uri": "https://localhost:8080/"
        },
        "id": "vv3GR__loDzl",
        "outputId": "63005de4-53a4-4a7f-ad4a-88764de54f8f"
      },
      "execution_count": 27,
      "outputs": [
        {
          "output_type": "stream",
          "name": "stdout",
          "text": [
            "Collecting manim\n",
            "  Using cached manim-0.19.0-py3-none-any.whl.metadata (11 kB)\n",
            "Requirement already satisfied: Pillow>=9.1 in /usr/local/lib/python3.11/dist-packages (from manim) (11.1.0)\n",
            "Requirement already satisfied: Pygments>=2.0.0 in /usr/local/lib/python3.11/dist-packages (from manim) (2.18.0)\n",
            "Collecting av<14.0.0,>=9.0.0 (from manim)\n",
            "  Using cached av-13.1.0-cp311-cp311-manylinux_2_17_x86_64.manylinux2014_x86_64.whl.metadata (4.4 kB)\n",
            "Requirement already satisfied: beautifulsoup4>=4.12 in /usr/local/lib/python3.11/dist-packages (from manim) (4.13.3)\n",
            "Requirement already satisfied: click>=8.0 in /usr/local/lib/python3.11/dist-packages (from manim) (8.1.8)\n",
            "Collecting cloup>=2.0.0 (from manim)\n",
            "  Using cached cloup-3.0.7-py2.py3-none-any.whl.metadata (6.3 kB)\n",
            "Requirement already satisfied: decorator>=4.3.2 in /usr/local/lib/python3.11/dist-packages (from manim) (4.4.2)\n",
            "Collecting isosurfaces>=0.1.0 (from manim)\n",
            "  Using cached isosurfaces-0.1.2-py3-none-any.whl.metadata (3.3 kB)\n",
            "Collecting manimpango<1.0.0,>=0.5.0 (from manim)\n",
            "  Using cached manimpango-0.6.0.tar.gz (4.1 MB)\n",
            "  Installing build dependencies ... \u001b[?25l\u001b[?25hdone\n",
            "  Getting requirements to build wheel ... \u001b[?25l\u001b[?25hdone\n",
            "  Preparing metadata (pyproject.toml) ... \u001b[?25l\u001b[?25hdone\n",
            "Collecting mapbox-earcut>=1.0.0 (from manim)\n",
            "  Downloading mapbox_earcut-1.0.3-cp311-cp311-manylinux_2_17_x86_64.manylinux2014_x86_64.whl.metadata (2.2 kB)\n",
            "Collecting moderngl<6.0.0,>=5.0.0 (from manim)\n",
            "  Downloading moderngl-5.12.0-cp311-cp311-manylinux_2_17_x86_64.manylinux2014_x86_64.whl.metadata (7.8 kB)\n",
            "Collecting moderngl-window>=2.0.0 (from manim)\n",
            "  Downloading moderngl_window-3.1.1-py3-none-any.whl.metadata (9.0 kB)\n",
            "Requirement already satisfied: networkx>=2.6 in /usr/local/lib/python3.11/dist-packages (from manim) (3.4.2)\n",
            "Collecting numpy>=2.1 (from manim)\n",
            "  Downloading numpy-2.2.4-cp311-cp311-manylinux_2_17_x86_64.manylinux2014_x86_64.whl.metadata (62 kB)\n",
            "\u001b[2K     \u001b[90m━━━━━━━━━━━━━━━━━━━━━━━━━━━━━━━━━━━━━━━━\u001b[0m \u001b[32m62.0/62.0 kB\u001b[0m \u001b[31m5.0 MB/s\u001b[0m eta \u001b[36m0:00:00\u001b[0m\n",
            "\u001b[?25hRequirement already satisfied: pycairo<2.0.0,>=1.13 in /usr/local/lib/python3.11/dist-packages (from manim) (1.27.0)\n",
            "Collecting pydub>=0.20.0 (from manim)\n",
            "  Downloading pydub-0.25.1-py2.py3-none-any.whl.metadata (1.4 kB)\n",
            "Requirement already satisfied: rich>=12.0.0 in /usr/local/lib/python3.11/dist-packages (from manim) (13.9.4)\n",
            "Requirement already satisfied: scipy>=1.13.0 in /usr/local/lib/python3.11/dist-packages (from manim) (1.14.1)\n",
            "Collecting screeninfo>=0.7 (from manim)\n",
            "  Downloading screeninfo-0.8.1-py3-none-any.whl.metadata (2.9 kB)\n",
            "Collecting skia-pathops>=0.7.0 (from manim)\n",
            "  Downloading skia_pathops-0.8.0.post2-cp311-cp311-manylinux_2_17_x86_64.manylinux2014_x86_64.whl.metadata (2.3 kB)\n",
            "Collecting srt>=3.0.0 (from manim)\n",
            "  Downloading srt-3.5.3.tar.gz (28 kB)\n",
            "  Preparing metadata (setup.py) ... \u001b[?25l\u001b[?25hdone\n",
            "Collecting svgelements>=1.8.0 (from manim)\n",
            "  Downloading svgelements-1.9.6-py2.py3-none-any.whl.metadata (44 kB)\n",
            "\u001b[2K     \u001b[90m━━━━━━━━━━━━━━━━━━━━━━━━━━━━━━━━━━━━━━━━\u001b[0m \u001b[32m44.9/44.9 kB\u001b[0m \u001b[31m3.7 MB/s\u001b[0m eta \u001b[36m0:00:00\u001b[0m\n",
            "\u001b[?25hRequirement already satisfied: tqdm>=4.0.0 in /usr/local/lib/python3.11/dist-packages (from manim) (4.67.1)\n",
            "Requirement already satisfied: typing-extensions>=4.0.0 in /usr/local/lib/python3.11/dist-packages (from manim) (4.13.1)\n",
            "Collecting watchdog>=2.0.0 (from manim)\n",
            "  Downloading watchdog-6.0.0-py3-none-manylinux2014_x86_64.whl.metadata (44 kB)\n",
            "\u001b[2K     \u001b[90m━━━━━━━━━━━━━━━━━━━━━━━━━━━━━━━━━━━━━━━━\u001b[0m \u001b[32m44.3/44.3 kB\u001b[0m \u001b[31m3.6 MB/s\u001b[0m eta \u001b[36m0:00:00\u001b[0m\n",
            "\u001b[?25hRequirement already satisfied: soupsieve>1.2 in /usr/local/lib/python3.11/dist-packages (from beautifulsoup4>=4.12->manim) (2.6)\n",
            "Collecting glcontext>=3.0.0 (from moderngl<6.0.0,>=5.0.0->manim)\n",
            "  Downloading glcontext-3.0.0-cp311-cp311-manylinux_2_5_x86_64.manylinux1_x86_64.manylinux_2_17_x86_64.manylinux2014_x86_64.whl.metadata (6.0 kB)\n",
            "Collecting pyglet>=2.0.0 (from moderngl-window>=2.0.0->manim)\n",
            "  Downloading pyglet-2.1.3-py3-none-any.whl.metadata (7.7 kB)\n",
            "Collecting pyglm<3,>=2.7.0 (from moderngl-window>=2.0.0->manim)\n",
            "  Downloading pyglm-2.8.1-cp311-cp311-manylinux_2_27_x86_64.manylinux_2_28_x86_64.whl.metadata (13 kB)\n",
            "Requirement already satisfied: markdown-it-py>=2.2.0 in /usr/local/lib/python3.11/dist-packages (from rich>=12.0.0->manim) (3.0.0)\n",
            "Requirement already satisfied: mdurl~=0.1 in /usr/local/lib/python3.11/dist-packages (from markdown-it-py>=2.2.0->rich>=12.0.0->manim) (0.1.2)\n",
            "Downloading manim-0.19.0-py3-none-any.whl (625 kB)\n",
            "\u001b[2K   \u001b[90m━━━━━━━━━━━━━━━━━━━━━━━━━━━━━━━━━━━━━━━━\u001b[0m \u001b[32m625.9/625.9 kB\u001b[0m \u001b[31m37.9 MB/s\u001b[0m eta \u001b[36m0:00:00\u001b[0m\n",
            "\u001b[?25hDownloading av-13.1.0-cp311-cp311-manylinux_2_17_x86_64.manylinux2014_x86_64.whl (34.0 MB)\n",
            "\u001b[2K   \u001b[90m━━━━━━━━━━━━━━━━━━━━━━━━━━━━━━━━━━━━━━━━\u001b[0m \u001b[32m34.0/34.0 MB\u001b[0m \u001b[31m50.5 MB/s\u001b[0m eta \u001b[36m0:00:00\u001b[0m\n",
            "\u001b[?25hDownloading cloup-3.0.7-py2.py3-none-any.whl (54 kB)\n",
            "\u001b[2K   \u001b[90m━━━━━━━━━━━━━━━━━━━━━━━━━━━━━━━━━━━━━━━━\u001b[0m \u001b[32m54.6/54.6 kB\u001b[0m \u001b[31m4.0 MB/s\u001b[0m eta \u001b[36m0:00:00\u001b[0m\n",
            "\u001b[?25hDownloading isosurfaces-0.1.2-py3-none-any.whl (11 kB)\n",
            "Downloading mapbox_earcut-1.0.3-cp311-cp311-manylinux_2_17_x86_64.manylinux2014_x86_64.whl (96 kB)\n",
            "\u001b[2K   \u001b[90m━━━━━━━━━━━━━━━━━━━━━━━━━━━━━━━━━━━━━━━━\u001b[0m \u001b[32m97.0/97.0 kB\u001b[0m \u001b[31m7.9 MB/s\u001b[0m eta \u001b[36m0:00:00\u001b[0m\n",
            "\u001b[?25hDownloading moderngl-5.12.0-cp311-cp311-manylinux_2_17_x86_64.manylinux2014_x86_64.whl (293 kB)\n",
            "\u001b[2K   \u001b[90m━━━━━━━━━━━━━━━━━━━━━━━━━━━━━━━━━━━━━━━━\u001b[0m \u001b[32m293.5/293.5 kB\u001b[0m \u001b[31m20.0 MB/s\u001b[0m eta \u001b[36m0:00:00\u001b[0m\n",
            "\u001b[?25hDownloading moderngl_window-3.1.1-py3-none-any.whl (382 kB)\n",
            "\u001b[2K   \u001b[90m━━━━━━━━━━━━━━━━━━━━━━━━━━━━━━━━━━━━━━━━\u001b[0m \u001b[32m382.4/382.4 kB\u001b[0m \u001b[31m28.7 MB/s\u001b[0m eta \u001b[36m0:00:00\u001b[0m\n",
            "\u001b[?25hDownloading numpy-2.2.4-cp311-cp311-manylinux_2_17_x86_64.manylinux2014_x86_64.whl (16.4 MB)\n",
            "\u001b[2K   \u001b[90m━━━━━━━━━━━━━━━━━━━━━━━━━━━━━━━━━━━━━━━━\u001b[0m \u001b[32m16.4/16.4 MB\u001b[0m \u001b[31m92.5 MB/s\u001b[0m eta \u001b[36m0:00:00\u001b[0m\n",
            "\u001b[?25hDownloading pydub-0.25.1-py2.py3-none-any.whl (32 kB)\n",
            "Downloading screeninfo-0.8.1-py3-none-any.whl (12 kB)\n",
            "Downloading skia_pathops-0.8.0.post2-cp311-cp311-manylinux_2_17_x86_64.manylinux2014_x86_64.whl (3.4 MB)\n",
            "\u001b[2K   \u001b[90m━━━━━━━━━━━━━━━━━━━━━━━━━━━━━━━━━━━━━━━━\u001b[0m \u001b[32m3.4/3.4 MB\u001b[0m \u001b[31m69.8 MB/s\u001b[0m eta \u001b[36m0:00:00\u001b[0m\n",
            "\u001b[?25hDownloading svgelements-1.9.6-py2.py3-none-any.whl (137 kB)\n",
            "\u001b[2K   \u001b[90m━━━━━━━━━━━━━━━━━━━━━━━━━━━━━━━━━━━━━━━━\u001b[0m \u001b[32m137.9/137.9 kB\u001b[0m \u001b[31m12.6 MB/s\u001b[0m eta \u001b[36m0:00:00\u001b[0m\n",
            "\u001b[?25hDownloading watchdog-6.0.0-py3-none-manylinux2014_x86_64.whl (79 kB)\n",
            "\u001b[2K   \u001b[90m━━━━━━━━━━━━━━━━━━━━━━━━━━━━━━━━━━━━━━━━\u001b[0m \u001b[32m79.1/79.1 kB\u001b[0m \u001b[31m6.6 MB/s\u001b[0m eta \u001b[36m0:00:00\u001b[0m\n",
            "\u001b[?25hDownloading glcontext-3.0.0-cp311-cp311-manylinux_2_5_x86_64.manylinux1_x86_64.manylinux_2_17_x86_64.manylinux2014_x86_64.whl (51 kB)\n",
            "\u001b[2K   \u001b[90m━━━━━━━━━━━━━━━━━━━━━━━━━━━━━━━━━━━━━━━━\u001b[0m \u001b[32m51.7/51.7 kB\u001b[0m \u001b[31m4.3 MB/s\u001b[0m eta \u001b[36m0:00:00\u001b[0m\n",
            "\u001b[?25hDownloading pyglet-2.1.3-py3-none-any.whl (962 kB)\n",
            "\u001b[2K   \u001b[90m━━━━━━━━━━━━━━━━━━━━━━━━━━━━━━━━━━━━━━━━\u001b[0m \u001b[32m962.1/962.1 kB\u001b[0m \u001b[31m50.2 MB/s\u001b[0m eta \u001b[36m0:00:00\u001b[0m\n",
            "\u001b[?25hDownloading pyglm-2.8.1-cp311-cp311-manylinux_2_27_x86_64.manylinux_2_28_x86_64.whl (12.1 MB)\n",
            "\u001b[2K   \u001b[90m━━━━━━━━━━━━━━━━━━━━━━━━━━━━━━━━━━━━━━━━\u001b[0m \u001b[32m12.1/12.1 MB\u001b[0m \u001b[31m77.7 MB/s\u001b[0m eta \u001b[36m0:00:00\u001b[0m\n",
            "\u001b[?25hBuilding wheels for collected packages: manimpango, srt\n",
            "  Building wheel for manimpango (pyproject.toml) ... \u001b[?25l\u001b[?25hdone\n",
            "  Created wheel for manimpango: filename=manimpango-0.6.0-cp311-cp311-linux_x86_64.whl size=446516 sha256=1454f86400adfdf36996a88b3e5377a7cdffb39a373ec6517c1926bbe1a82f38\n",
            "  Stored in directory: /root/.cache/pip/wheels/b5/f7/af/f4cc5b792eddb785bb8aa382eb9b5aab2af499debb70757ea8\n",
            "  Building wheel for srt (setup.py) ... \u001b[?25l\u001b[?25hdone\n",
            "  Created wheel for srt: filename=srt-3.5.3-py3-none-any.whl size=22427 sha256=1c7c08ebb60c6c8ca535e49508c7d265e0aef415b9815bb361b3e213aa243362\n",
            "  Stored in directory: /root/.cache/pip/wheels/1f/43/f1/23ee9119497fcb57d9f7046fbf34c6d9027c46a1fa7824cf08\n",
            "Successfully built manimpango srt\n",
            "Installing collected packages: svgelements, pyglm, pydub, glcontext, watchdog, srt, skia-pathops, screeninfo, pyglet, numpy, moderngl, manimpango, cloup, av, moderngl-window, mapbox-earcut, isosurfaces, manim\n",
            "  Attempting uninstall: numpy\n",
            "    Found existing installation: numpy 2.0.2\n",
            "    Uninstalling numpy-2.0.2:\n",
            "      Successfully uninstalled numpy-2.0.2\n",
            "\u001b[31mERROR: pip's dependency resolver does not currently take into account all the packages that are installed. This behaviour is the source of the following dependency conflicts.\n",
            "tensorflow 2.18.0 requires numpy<2.1.0,>=1.26.0, but you have numpy 2.2.4 which is incompatible.\n",
            "numba 0.60.0 requires numpy<2.1,>=1.22, but you have numpy 2.2.4 which is incompatible.\u001b[0m\u001b[31m\n",
            "\u001b[0mSuccessfully installed av-13.1.0 cloup-3.0.7 glcontext-3.0.0 isosurfaces-0.1.2 manim-0.19.0 manimpango-0.6.0 mapbox-earcut-1.0.3 moderngl-5.12.0 moderngl-window-3.1.1 numpy-2.2.4 pydub-0.25.1 pyglet-2.1.3 pyglm-2.8.1 screeninfo-0.8.1 skia-pathops-0.8.0.post2 srt-3.5.3 svgelements-1.9.6 watchdog-6.0.0\n"
          ]
        }
      ]
    },
    {
      "cell_type": "code",
      "source": [
        "%%writefile cnn_animation.py\n",
        "from manim import *\n",
        "\n",
        "class CNNModel(Scene):\n",
        "    def construct(self):\n",
        "        input_image = Square(side_length=2).set_fill(BLUE, opacity=0.5)\n",
        "        input_label = Text(\"Input Image\", font_size=24).next_to(input_image, DOWN)\n",
        "\n",
        "        self.play(FadeIn(input_image), Write(input_label))\n",
        "\n",
        "        conv_layer = Square(side_length=1.5).set_fill(ORANGE, opacity=0.6)\n",
        "        conv_layer.next_to(input_image, RIGHT, buff=1)\n",
        "        conv_label = Text(\"Convolution\", font_size=24).next_to(conv_layer, DOWN)\n",
        "\n",
        "        self.play(FadeIn(conv_layer), Write(conv_label))\n",
        "\n",
        "        pool = Square(side_length=1).set_fill(GREEN, opacity=0.6)\n",
        "        pool.next_to(conv_layer, RIGHT, buff=1)\n",
        "        pool_label = Text(\"Max Pooling\", font_size=24).next_to(pool, DOWN)\n",
        "\n",
        "        self.play(FadeIn(pool), Write(pool_label))\n",
        "\n",
        "        flatten = Rectangle(width=3, height=0.3).set_fill(PURPLE, opacity=0.6)\n",
        "        flatten.next_to(pool, RIGHT, buff=1)\n",
        "        flat_label = Text(\"Flatten\", font_size=24).next_to(flatten, DOWN)\n",
        "\n",
        "        self.play(FadeIn(flatten), Write(flat_label))\n",
        "\n",
        "        fc_neurons = VGroup(*[Circle(radius=0.2).set_fill(RED, opacity=0.7) for _ in range(5)])\n",
        "        fc_neurons.arrange(DOWN, buff=0.2)\n",
        "        fc_neurons.next_to(flatten, RIGHT, buff=1)\n",
        "        fc_label = Text(\"Fully Connected\", font_size=24).next_to(fc_neurons, RIGHT)\n",
        "\n",
        "        self.play(FadeIn(fc_neurons), Write(fc_label))\n",
        "\n",
        "        outputs = VGroup(*[Rectangle(height=0.3 + i*0.1, width=0.5).set_fill(YELLOW, opacity=0.8) for i in range(1, 4)])\n",
        "        outputs.arrange(DOWN, buff=0.3)\n",
        "        outputs.next_to(fc_neurons, RIGHT, buff=1)\n",
        "        output_label = Text(\"Softmax Output\", font_size=24).next_to(outputs, RIGHT)\n",
        "\n",
        "        self.play(FadeIn(outputs), Write(output_label))\n",
        "\n",
        "        self.wait(1)\n",
        "        flow_arrows = [\n",
        "            Arrow(input_image.get_right(), conv_layer.get_left()),\n",
        "            Arrow(conv_layer.get_right(), pool.get_left()),\n",
        "            Arrow(pool.get_right(), flatten.get_left()),\n",
        "            Arrow(flatten.get_right(), fc_neurons.get_left()),\n",
        "            Arrow(fc_neurons.get_right(), outputs.get_left()),\n",
        "        ]\n",
        "        self.play(*[GrowArrow(a) for a in flow_arrows])\n",
        "        self.wait(2)\n"
      ],
      "metadata": {
        "colab": {
          "base_uri": "https://localhost:8080/"
        },
        "id": "pibk5kM5nMuF",
        "outputId": "4c62309f-c555-4120-9473-146782cf8469"
      },
      "execution_count": 32,
      "outputs": [
        {
          "output_type": "stream",
          "name": "stdout",
          "text": [
            "Writing cnn_animation.py\n"
          ]
        }
      ]
    },
    {
      "cell_type": "code",
      "source": [
        "!manim -pql cnn_animation.py CNNModel\n"
      ],
      "metadata": {
        "colab": {
          "base_uri": "https://localhost:8080/"
        },
        "id": "raiDnjTLouTL",
        "outputId": "920416f0-fa84-4abe-aa84-a1680eaadb23"
      },
      "execution_count": 34,
      "outputs": [
        {
          "output_type": "stream",
          "name": "stdout",
          "text": [
            "Manim Community \u001b[32mv0.\u001b[0m\u001b[32m19.0\u001b[0m\n",
            "\n",
            "\u001b[2;36m[04/07/25 19:03:36]\u001b[0m\u001b[2;36m \u001b[0m\u001b[32mINFO    \u001b[0m Animation \u001b[32m0\u001b[0m : Partial movie file written in    \u001b]8;id=278223;file:///usr/local/lib/python3.11/dist-packages/manim/scene/scene_file_writer.py\u001b\\\u001b[2mscene_file_writer.py\u001b[0m\u001b]8;;\u001b\\\u001b[2m:\u001b[0m\u001b]8;id=951036;file:///usr/local/lib/python3.11/dist-packages/manim/scene/scene_file_writer.py#588\u001b\\\u001b[2m588\u001b[0m\u001b]8;;\u001b\\\n",
            "\u001b[2;36m                    \u001b[0m         \u001b[32m'/content/media/videos/cnn_animation/480p15/pa\u001b[0m \u001b[2m                        \u001b[0m\n",
            "\u001b[2;36m                    \u001b[0m         \u001b[32mrtial_movie_files/CNNModel/1185818338_99138773\u001b[0m \u001b[2m                        \u001b[0m\n",
            "\u001b[2;36m                    \u001b[0m         \u001b[32m6_223132457.mp4'\u001b[0m                               \u001b[2m                        \u001b[0m\n",
            "\u001b[2;36m[04/07/25 19:03:37]\u001b[0m\u001b[2;36m \u001b[0m\u001b[32mINFO    \u001b[0m Animation \u001b[32m1\u001b[0m : Partial movie file written in    \u001b]8;id=310031;file:///usr/local/lib/python3.11/dist-packages/manim/scene/scene_file_writer.py\u001b\\\u001b[2mscene_file_writer.py\u001b[0m\u001b]8;;\u001b\\\u001b[2m:\u001b[0m\u001b]8;id=77678;file:///usr/local/lib/python3.11/dist-packages/manim/scene/scene_file_writer.py#588\u001b\\\u001b[2m588\u001b[0m\u001b]8;;\u001b\\\n",
            "\u001b[2;36m                    \u001b[0m         \u001b[32m'/content/media/videos/cnn_animation/480p15/pa\u001b[0m \u001b[2m                        \u001b[0m\n",
            "\u001b[2;36m                    \u001b[0m         \u001b[32mrtial_movie_files/CNNModel/624642324_403928313\u001b[0m \u001b[2m                        \u001b[0m\n",
            "\u001b[2;36m                    \u001b[0m         \u001b[32m3_2206514116.mp4'\u001b[0m                              \u001b[2m                        \u001b[0m\n",
            "\u001b[2;36m[04/07/25 19:03:38]\u001b[0m\u001b[2;36m \u001b[0m\u001b[32mINFO    \u001b[0m Animation \u001b[32m2\u001b[0m : Partial movie file written in    \u001b]8;id=25238;file:///usr/local/lib/python3.11/dist-packages/manim/scene/scene_file_writer.py\u001b\\\u001b[2mscene_file_writer.py\u001b[0m\u001b]8;;\u001b\\\u001b[2m:\u001b[0m\u001b]8;id=118890;file:///usr/local/lib/python3.11/dist-packages/manim/scene/scene_file_writer.py#588\u001b\\\u001b[2m588\u001b[0m\u001b]8;;\u001b\\\n",
            "\u001b[2;36m                    \u001b[0m         \u001b[32m'/content/media/videos/cnn_animation/480p15/pa\u001b[0m \u001b[2m                        \u001b[0m\n",
            "\u001b[2;36m                    \u001b[0m         \u001b[32mrtial_movie_files/CNNModel/624642324_156738791\u001b[0m \u001b[2m                        \u001b[0m\n",
            "\u001b[2;36m                    \u001b[0m         \u001b[32m0_659338396.mp4'\u001b[0m                               \u001b[2m                        \u001b[0m\n",
            "\u001b[2;36m[04/07/25 19:03:39]\u001b[0m\u001b[2;36m \u001b[0m\u001b[32mINFO    \u001b[0m Animation \u001b[32m3\u001b[0m : Partial movie file written in    \u001b]8;id=728260;file:///usr/local/lib/python3.11/dist-packages/manim/scene/scene_file_writer.py\u001b\\\u001b[2mscene_file_writer.py\u001b[0m\u001b]8;;\u001b\\\u001b[2m:\u001b[0m\u001b]8;id=106481;file:///usr/local/lib/python3.11/dist-packages/manim/scene/scene_file_writer.py#588\u001b\\\u001b[2m588\u001b[0m\u001b]8;;\u001b\\\n",
            "\u001b[2;36m                    \u001b[0m         \u001b[32m'/content/media/videos/cnn_animation/480p15/pa\u001b[0m \u001b[2m                        \u001b[0m\n",
            "\u001b[2;36m                    \u001b[0m         \u001b[32mrtial_movie_files/CNNModel/624642324_252561342\u001b[0m \u001b[2m                        \u001b[0m\n",
            "\u001b[2;36m                    \u001b[0m         \u001b[32m5_1883146040.mp4'\u001b[0m                              \u001b[2m                        \u001b[0m\n",
            "\u001b[2;36m                   \u001b[0m\u001b[2;36m \u001b[0m\u001b[32mINFO    \u001b[0m Animation \u001b[32m4\u001b[0m : Partial movie file written in    \u001b]8;id=416452;file:///usr/local/lib/python3.11/dist-packages/manim/scene/scene_file_writer.py\u001b\\\u001b[2mscene_file_writer.py\u001b[0m\u001b]8;;\u001b\\\u001b[2m:\u001b[0m\u001b]8;id=878182;file:///usr/local/lib/python3.11/dist-packages/manim/scene/scene_file_writer.py#588\u001b\\\u001b[2m588\u001b[0m\u001b]8;;\u001b\\\n",
            "\u001b[2;36m                    \u001b[0m         \u001b[32m'/content/media/videos/cnn_animation/480p15/pa\u001b[0m \u001b[2m                        \u001b[0m\n",
            "\u001b[2;36m                    \u001b[0m         \u001b[32mrtial_movie_files/CNNModel/624642324_261738938\u001b[0m \u001b[2m                        \u001b[0m\n",
            "\u001b[2;36m                    \u001b[0m         \u001b[32m4_2302413663.mp4'\u001b[0m                              \u001b[2m                        \u001b[0m\n",
            "\u001b[2;36m[04/07/25 19:03:40]\u001b[0m\u001b[2;36m \u001b[0m\u001b[32mINFO    \u001b[0m Animation \u001b[32m5\u001b[0m : Partial movie file written in    \u001b]8;id=62059;file:///usr/local/lib/python3.11/dist-packages/manim/scene/scene_file_writer.py\u001b\\\u001b[2mscene_file_writer.py\u001b[0m\u001b]8;;\u001b\\\u001b[2m:\u001b[0m\u001b]8;id=183595;file:///usr/local/lib/python3.11/dist-packages/manim/scene/scene_file_writer.py#588\u001b\\\u001b[2m588\u001b[0m\u001b]8;;\u001b\\\n",
            "\u001b[2;36m                    \u001b[0m         \u001b[32m'/content/media/videos/cnn_animation/480p15/pa\u001b[0m \u001b[2m                        \u001b[0m\n",
            "\u001b[2;36m                    \u001b[0m         \u001b[32mrtial_movie_files/CNNModel/624642324_347183029\u001b[0m \u001b[2m                        \u001b[0m\n",
            "\u001b[2;36m                    \u001b[0m         \u001b[32m2_2708591885.mp4'\u001b[0m                              \u001b[2m                        \u001b[0m\n",
            "\u001b[2;36m[04/07/25 19:03:41]\u001b[0m\u001b[2;36m \u001b[0m\u001b[32mINFO    \u001b[0m Animation \u001b[32m6\u001b[0m : Partial movie file written in    \u001b]8;id=273231;file:///usr/local/lib/python3.11/dist-packages/manim/scene/scene_file_writer.py\u001b\\\u001b[2mscene_file_writer.py\u001b[0m\u001b]8;;\u001b\\\u001b[2m:\u001b[0m\u001b]8;id=815086;file:///usr/local/lib/python3.11/dist-packages/manim/scene/scene_file_writer.py#588\u001b\\\u001b[2m588\u001b[0m\u001b]8;;\u001b\\\n",
            "\u001b[2;36m                    \u001b[0m         \u001b[32m'/content/media/videos/cnn_animation/480p15/pa\u001b[0m \u001b[2m                        \u001b[0m\n",
            "\u001b[2;36m                    \u001b[0m         \u001b[32mrtial_movie_files/CNNModel/624642324_421799246\u001b[0m \u001b[2m                        \u001b[0m\n",
            "\u001b[2;36m                    \u001b[0m         \u001b[32m3_2550742204.mp4'\u001b[0m                              \u001b[2m                        \u001b[0m\n",
            "\u001b[2;36m                   \u001b[0m\u001b[2;36m \u001b[0m\u001b[32mINFO    \u001b[0m Animation \u001b[32m7\u001b[0m : Partial movie file written in    \u001b]8;id=1422;file:///usr/local/lib/python3.11/dist-packages/manim/scene/scene_file_writer.py\u001b\\\u001b[2mscene_file_writer.py\u001b[0m\u001b]8;;\u001b\\\u001b[2m:\u001b[0m\u001b]8;id=841736;file:///usr/local/lib/python3.11/dist-packages/manim/scene/scene_file_writer.py#588\u001b\\\u001b[2m588\u001b[0m\u001b]8;;\u001b\\\n",
            "\u001b[2;36m                    \u001b[0m         \u001b[32m'/content/media/videos/cnn_animation/480p15/pa\u001b[0m \u001b[2m                        \u001b[0m\n",
            "\u001b[2;36m                    \u001b[0m         \u001b[32mrtial_movie_files/CNNModel/624642324_269322181\u001b[0m \u001b[2m                        \u001b[0m\n",
            "\u001b[2;36m                    \u001b[0m         \u001b[32m3_1380978301.mp4'\u001b[0m                              \u001b[2m                        \u001b[0m\n",
            "\u001b[2;36m[04/07/25 19:03:42]\u001b[0m\u001b[2;36m \u001b[0m\u001b[32mINFO    \u001b[0m Animation \u001b[32m8\u001b[0m : Partial movie file written in    \u001b]8;id=984512;file:///usr/local/lib/python3.11/dist-packages/manim/scene/scene_file_writer.py\u001b\\\u001b[2mscene_file_writer.py\u001b[0m\u001b]8;;\u001b\\\u001b[2m:\u001b[0m\u001b]8;id=140171;file:///usr/local/lib/python3.11/dist-packages/manim/scene/scene_file_writer.py#588\u001b\\\u001b[2m588\u001b[0m\u001b]8;;\u001b\\\n",
            "\u001b[2;36m                    \u001b[0m         \u001b[32m'/content/media/videos/cnn_animation/480p15/pa\u001b[0m \u001b[2m                        \u001b[0m\n",
            "\u001b[2;36m                    \u001b[0m         \u001b[32mrtial_movie_files/CNNModel/624642324_284436005\u001b[0m \u001b[2m                        \u001b[0m\n",
            "\u001b[2;36m                    \u001b[0m         \u001b[32m8_4089096048.mp4'\u001b[0m                              \u001b[2m                        \u001b[0m\n",
            "\u001b[2;36m                   \u001b[0m\u001b[2;36m \u001b[0m\u001b[32mINFO    \u001b[0m Combining to Movie file.                       \u001b]8;id=420989;file:///usr/local/lib/python3.11/dist-packages/manim/scene/scene_file_writer.py\u001b\\\u001b[2mscene_file_writer.py\u001b[0m\u001b]8;;\u001b\\\u001b[2m:\u001b[0m\u001b]8;id=928174;file:///usr/local/lib/python3.11/dist-packages/manim/scene/scene_file_writer.py#739\u001b\\\u001b[2m739\u001b[0m\u001b]8;;\u001b\\\n",
            "\u001b[2;36m                   \u001b[0m\u001b[2;36m \u001b[0m\u001b[32mINFO    \u001b[0m                                                \u001b]8;id=719770;file:///usr/local/lib/python3.11/dist-packages/manim/scene/scene_file_writer.py\u001b\\\u001b[2mscene_file_writer.py\u001b[0m\u001b]8;;\u001b\\\u001b[2m:\u001b[0m\u001b]8;id=894405;file:///usr/local/lib/python3.11/dist-packages/manim/scene/scene_file_writer.py#886\u001b\\\u001b[2m886\u001b[0m\u001b]8;;\u001b\\\n",
            "\u001b[2;36m                    \u001b[0m         \u001b[1;33mFile\u001b[0m ready at                                  \u001b[2m                        \u001b[0m\n",
            "\u001b[2;36m                    \u001b[0m         \u001b[32m'/content/media/videos/cnn_animation/480p15/CN\u001b[0m \u001b[2m                        \u001b[0m\n",
            "\u001b[2;36m                    \u001b[0m         \u001b[32mNModel.mp4'\u001b[0m                                    \u001b[2m                        \u001b[0m\n",
            "\u001b[2;36m                    \u001b[0m                                                        \u001b[2m                        \u001b[0m\n",
            "\u001b[2;36m                   \u001b[0m\u001b[2;36m \u001b[0m\u001b[32mINFO    \u001b[0m \u001b[1;33mRendered\u001b[0m CNNModel                                          \u001b]8;id=720427;file:///usr/local/lib/python3.11/dist-packages/manim/scene/scene.py\u001b\\\u001b[2mscene.py\u001b[0m\u001b]8;;\u001b\\\u001b[2m:\u001b[0m\u001b]8;id=718758;file:///usr/local/lib/python3.11/dist-packages/manim/scene/scene.py#255\u001b\\\u001b[2m255\u001b[0m\u001b]8;;\u001b\\\n",
            "\u001b[2;36m                    \u001b[0m         \u001b[1;33mPlayed\u001b[0m \u001b[32m9\u001b[0m \u001b[1;33manimations\u001b[0m                                        \u001b[2m            \u001b[0m\n",
            "Error: no \"view\" mailcap rules found for type \"video/mp4\"\n",
            "/usr/bin/xdg-open: 882: www-browser: not found\n",
            "/usr/bin/xdg-open: 882: links2: not found\n",
            "/usr/bin/xdg-open: 882: elinks: not found\n",
            "/usr/bin/xdg-open: 882: links: not found\n",
            "/usr/bin/xdg-open: 882: lynx: not found\n",
            "/usr/bin/xdg-open: 882: w3m: not found\n",
            "xdg-open: no method available for opening '/content/media/videos/cnn_animation/480p15/CNNModel.mp4'\n",
            "\u001b[2;36m                   \u001b[0m\u001b[2;36m \u001b[0m\u001b[32mINFO    \u001b[0m Previewed \u001b[1;33mFile\u001b[0m at:                                      \u001b]8;id=805217;file:///usr/local/lib/python3.11/dist-packages/manim/utils/file_ops.py\u001b\\\u001b[2mfile_ops.py\u001b[0m\u001b]8;;\u001b\\\u001b[2m:\u001b[0m\u001b]8;id=98719;file:///usr/local/lib/python3.11/dist-packages/manim/utils/file_ops.py#237\u001b\\\u001b[2m237\u001b[0m\u001b]8;;\u001b\\\n",
            "\u001b[2;36m                    \u001b[0m         \u001b[32m'/content/media/videos/cnn_animation/480p15/CNNModel.mp\u001b[0m \u001b[2m               \u001b[0m\n",
            "\u001b[2;36m                    \u001b[0m         \u001b[32m4'\u001b[0m                                                      \u001b[2m               \u001b[0m\n"
          ]
        }
      ]
    },
    {
      "cell_type": "code",
      "source": [
        "!manim -pql cnn_animation.py CNNModel\n"
      ],
      "metadata": {
        "colab": {
          "base_uri": "https://localhost:8080/"
        },
        "id": "_p7dStQroeWc",
        "outputId": "d5a4356b-eeb4-4065-ca96-a880aabb7e79"
      },
      "execution_count": 35,
      "outputs": [
        {
          "output_type": "stream",
          "name": "stdout",
          "text": [
            "Manim Community \u001b[32mv0.\u001b[0m\u001b[32m19.0\u001b[0m\n",
            "\n",
            "\u001b[2;36m[04/07/25 19:04:23]\u001b[0m\u001b[2;36m \u001b[0m\u001b[32mINFO    \u001b[0m Animation \u001b[32m0\u001b[0m : Using cached data \u001b[1m(\u001b[0mhash :            \u001b]8;id=978762;file:///usr/local/lib/python3.11/dist-packages/manim/renderer/cairo_renderer.py\u001b\\\u001b[2mcairo_renderer.py\u001b[0m\u001b]8;;\u001b\\\u001b[2m:\u001b[0m\u001b]8;id=82475;file:///usr/local/lib/python3.11/dist-packages/manim/renderer/cairo_renderer.py#89\u001b\\\u001b[2m89\u001b[0m\u001b]8;;\u001b\\\n",
            "\u001b[2;36m                    \u001b[0m         1185818338_991387736_223132457\u001b[1m)\u001b[0m                    \u001b[2m                    \u001b[0m\n",
            "\u001b[2;36m                   \u001b[0m\u001b[2;36m \u001b[0m\u001b[32mINFO    \u001b[0m Animation \u001b[32m1\u001b[0m : Using cached data \u001b[1m(\u001b[0mhash :            \u001b]8;id=885117;file:///usr/local/lib/python3.11/dist-packages/manim/renderer/cairo_renderer.py\u001b\\\u001b[2mcairo_renderer.py\u001b[0m\u001b]8;;\u001b\\\u001b[2m:\u001b[0m\u001b]8;id=497577;file:///usr/local/lib/python3.11/dist-packages/manim/renderer/cairo_renderer.py#89\u001b\\\u001b[2m89\u001b[0m\u001b]8;;\u001b\\\n",
            "\u001b[2;36m                    \u001b[0m         624642324_4039283133_2206514116\u001b[1m)\u001b[0m                   \u001b[2m                    \u001b[0m\n",
            "\u001b[2;36m[04/07/25 19:04:24]\u001b[0m\u001b[2;36m \u001b[0m\u001b[32mINFO    \u001b[0m Animation \u001b[32m2\u001b[0m : Using cached data \u001b[1m(\u001b[0mhash :            \u001b]8;id=84778;file:///usr/local/lib/python3.11/dist-packages/manim/renderer/cairo_renderer.py\u001b\\\u001b[2mcairo_renderer.py\u001b[0m\u001b]8;;\u001b\\\u001b[2m:\u001b[0m\u001b]8;id=634306;file:///usr/local/lib/python3.11/dist-packages/manim/renderer/cairo_renderer.py#89\u001b\\\u001b[2m89\u001b[0m\u001b]8;;\u001b\\\n",
            "\u001b[2;36m                    \u001b[0m         624642324_1567387910_659338396\u001b[1m)\u001b[0m                    \u001b[2m                    \u001b[0m\n",
            "\u001b[2;36m                   \u001b[0m\u001b[2;36m \u001b[0m\u001b[32mINFO    \u001b[0m Animation \u001b[32m3\u001b[0m : Using cached data \u001b[1m(\u001b[0mhash :            \u001b]8;id=362030;file:///usr/local/lib/python3.11/dist-packages/manim/renderer/cairo_renderer.py\u001b\\\u001b[2mcairo_renderer.py\u001b[0m\u001b]8;;\u001b\\\u001b[2m:\u001b[0m\u001b]8;id=446883;file:///usr/local/lib/python3.11/dist-packages/manim/renderer/cairo_renderer.py#89\u001b\\\u001b[2m89\u001b[0m\u001b]8;;\u001b\\\n",
            "\u001b[2;36m                    \u001b[0m         624642324_2525613425_1883146040\u001b[1m)\u001b[0m                   \u001b[2m                    \u001b[0m\n",
            "\u001b[2;36m[04/07/25 19:04:25]\u001b[0m\u001b[2;36m \u001b[0m\u001b[32mINFO    \u001b[0m Animation \u001b[32m4\u001b[0m : Using cached data \u001b[1m(\u001b[0mhash :            \u001b]8;id=86182;file:///usr/local/lib/python3.11/dist-packages/manim/renderer/cairo_renderer.py\u001b\\\u001b[2mcairo_renderer.py\u001b[0m\u001b]8;;\u001b\\\u001b[2m:\u001b[0m\u001b]8;id=37234;file:///usr/local/lib/python3.11/dist-packages/manim/renderer/cairo_renderer.py#89\u001b\\\u001b[2m89\u001b[0m\u001b]8;;\u001b\\\n",
            "\u001b[2;36m                    \u001b[0m         624642324_2617389384_2302413663\u001b[1m)\u001b[0m                   \u001b[2m                    \u001b[0m\n",
            "\u001b[2;36m[04/07/25 19:04:26]\u001b[0m\u001b[2;36m \u001b[0m\u001b[32mINFO    \u001b[0m Animation \u001b[32m5\u001b[0m : Using cached data \u001b[1m(\u001b[0mhash :            \u001b]8;id=284742;file:///usr/local/lib/python3.11/dist-packages/manim/renderer/cairo_renderer.py\u001b\\\u001b[2mcairo_renderer.py\u001b[0m\u001b]8;;\u001b\\\u001b[2m:\u001b[0m\u001b]8;id=620739;file:///usr/local/lib/python3.11/dist-packages/manim/renderer/cairo_renderer.py#89\u001b\\\u001b[2m89\u001b[0m\u001b]8;;\u001b\\\n",
            "\u001b[2;36m                    \u001b[0m         624642324_3471830292_2708591885\u001b[1m)\u001b[0m                   \u001b[2m                    \u001b[0m\n",
            "\u001b[2;36m                   \u001b[0m\u001b[2;36m \u001b[0m\u001b[32mINFO    \u001b[0m Animation \u001b[32m6\u001b[0m : Using cached data \u001b[1m(\u001b[0mhash :            \u001b]8;id=13508;file:///usr/local/lib/python3.11/dist-packages/manim/renderer/cairo_renderer.py\u001b\\\u001b[2mcairo_renderer.py\u001b[0m\u001b]8;;\u001b\\\u001b[2m:\u001b[0m\u001b]8;id=917481;file:///usr/local/lib/python3.11/dist-packages/manim/renderer/cairo_renderer.py#89\u001b\\\u001b[2m89\u001b[0m\u001b]8;;\u001b\\\n",
            "\u001b[2;36m                    \u001b[0m         624642324_4217992463_2550742204\u001b[1m)\u001b[0m                   \u001b[2m                    \u001b[0m\n",
            "\u001b[2;36m[04/07/25 19:04:27]\u001b[0m\u001b[2;36m \u001b[0m\u001b[32mINFO    \u001b[0m Animation \u001b[32m7\u001b[0m : Using cached data \u001b[1m(\u001b[0mhash :            \u001b]8;id=835486;file:///usr/local/lib/python3.11/dist-packages/manim/renderer/cairo_renderer.py\u001b\\\u001b[2mcairo_renderer.py\u001b[0m\u001b]8;;\u001b\\\u001b[2m:\u001b[0m\u001b]8;id=781359;file:///usr/local/lib/python3.11/dist-packages/manim/renderer/cairo_renderer.py#89\u001b\\\u001b[2m89\u001b[0m\u001b]8;;\u001b\\\n",
            "\u001b[2;36m                    \u001b[0m         624642324_2693221813_1380978301\u001b[1m)\u001b[0m                   \u001b[2m                    \u001b[0m\n",
            "\u001b[2;36m                   \u001b[0m\u001b[2;36m \u001b[0m\u001b[32mINFO    \u001b[0m Animation \u001b[32m8\u001b[0m : Using cached data \u001b[1m(\u001b[0mhash :            \u001b]8;id=557650;file:///usr/local/lib/python3.11/dist-packages/manim/renderer/cairo_renderer.py\u001b\\\u001b[2mcairo_renderer.py\u001b[0m\u001b]8;;\u001b\\\u001b[2m:\u001b[0m\u001b]8;id=833558;file:///usr/local/lib/python3.11/dist-packages/manim/renderer/cairo_renderer.py#89\u001b\\\u001b[2m89\u001b[0m\u001b]8;;\u001b\\\n",
            "\u001b[2;36m                    \u001b[0m         624642324_2844360058_4089096048\u001b[1m)\u001b[0m                   \u001b[2m                    \u001b[0m\n",
            "\u001b[2;36m                   \u001b[0m\u001b[2;36m \u001b[0m\u001b[32mINFO    \u001b[0m Combining to Movie file.                       \u001b]8;id=823983;file:///usr/local/lib/python3.11/dist-packages/manim/scene/scene_file_writer.py\u001b\\\u001b[2mscene_file_writer.py\u001b[0m\u001b]8;;\u001b\\\u001b[2m:\u001b[0m\u001b]8;id=410828;file:///usr/local/lib/python3.11/dist-packages/manim/scene/scene_file_writer.py#739\u001b\\\u001b[2m739\u001b[0m\u001b]8;;\u001b\\\n",
            "\u001b[2;36m                   \u001b[0m\u001b[2;36m \u001b[0m\u001b[32mINFO    \u001b[0m                                                \u001b]8;id=981771;file:///usr/local/lib/python3.11/dist-packages/manim/scene/scene_file_writer.py\u001b\\\u001b[2mscene_file_writer.py\u001b[0m\u001b]8;;\u001b\\\u001b[2m:\u001b[0m\u001b]8;id=195367;file:///usr/local/lib/python3.11/dist-packages/manim/scene/scene_file_writer.py#886\u001b\\\u001b[2m886\u001b[0m\u001b]8;;\u001b\\\n",
            "\u001b[2;36m                    \u001b[0m         \u001b[1;33mFile\u001b[0m ready at                                  \u001b[2m                        \u001b[0m\n",
            "\u001b[2;36m                    \u001b[0m         \u001b[32m'/content/media/videos/cnn_animation/480p15/CN\u001b[0m \u001b[2m                        \u001b[0m\n",
            "\u001b[2;36m                    \u001b[0m         \u001b[32mNModel.mp4'\u001b[0m                                    \u001b[2m                        \u001b[0m\n",
            "\u001b[2;36m                    \u001b[0m                                                        \u001b[2m                        \u001b[0m\n",
            "\u001b[2;36m                   \u001b[0m\u001b[2;36m \u001b[0m\u001b[32mINFO    \u001b[0m \u001b[1;33mRendered\u001b[0m CNNModel                                          \u001b]8;id=296670;file:///usr/local/lib/python3.11/dist-packages/manim/scene/scene.py\u001b\\\u001b[2mscene.py\u001b[0m\u001b]8;;\u001b\\\u001b[2m:\u001b[0m\u001b]8;id=658208;file:///usr/local/lib/python3.11/dist-packages/manim/scene/scene.py#255\u001b\\\u001b[2m255\u001b[0m\u001b]8;;\u001b\\\n",
            "\u001b[2;36m                    \u001b[0m         \u001b[1;33mPlayed\u001b[0m \u001b[32m9\u001b[0m \u001b[1;33manimations\u001b[0m                                        \u001b[2m            \u001b[0m\n",
            "Error: no \"view\" mailcap rules found for type \"video/mp4\"\n",
            "/usr/bin/xdg-open: 882: www-browser: not found\n",
            "/usr/bin/xdg-open: 882: links2: not found\n",
            "/usr/bin/xdg-open: 882: elinks: not found\n",
            "/usr/bin/xdg-open: 882: links: not found\n",
            "/usr/bin/xdg-open: 882: lynx: not found\n",
            "/usr/bin/xdg-open: 882: w3m: not found\n",
            "xdg-open: no method available for opening '/content/media/videos/cnn_animation/480p15/CNNModel.mp4'\n",
            "\u001b[2;36m                   \u001b[0m\u001b[2;36m \u001b[0m\u001b[32mINFO    \u001b[0m Previewed \u001b[1;33mFile\u001b[0m at:                                      \u001b]8;id=167135;file:///usr/local/lib/python3.11/dist-packages/manim/utils/file_ops.py\u001b\\\u001b[2mfile_ops.py\u001b[0m\u001b]8;;\u001b\\\u001b[2m:\u001b[0m\u001b]8;id=312541;file:///usr/local/lib/python3.11/dist-packages/manim/utils/file_ops.py#237\u001b\\\u001b[2m237\u001b[0m\u001b]8;;\u001b\\\n",
            "\u001b[2;36m                    \u001b[0m         \u001b[32m'/content/media/videos/cnn_animation/480p15/CNNModel.mp\u001b[0m \u001b[2m               \u001b[0m\n",
            "\u001b[2;36m                    \u001b[0m         \u001b[32m4'\u001b[0m                                                      \u001b[2m               \u001b[0m\n"
          ]
        }
      ]
    },
    {
      "cell_type": "code",
      "source": [
        "from IPython.display import HTML\n",
        "from base64 import b64encode\n",
        "\n",
        "video_path = \"/content/media/videos/cnn_animation/480p15/CNNModel.mp4\"\n",
        "mp4 = open(video_path,'rb').read()\n",
        "data_url = \"data:video/mp4;base64,\" + b64encode(mp4).decode()\n",
        "HTML(f'<video width=640 controls><source src=\"{data_url}\" type=\"video/mp4\"></video>')\n"
      ],
      "metadata": {
        "colab": {
          "base_uri": "https://localhost:8080/",
          "height": 381
        },
        "id": "1EQJcxAVpAjR",
        "outputId": "122ecec0-d357-4287-ca16-12aa69c10d5f"
      },
      "execution_count": 36,
      "outputs": [
        {
          "output_type": "execute_result",
          "data": {
            "text/plain": [
              "<IPython.core.display.HTML object>"
            ],
            "text/html": [
              "<video width=640 controls><source src=\"data:video/mp4;base64,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\" type=\"video/mp4\"></video>"
            ]
          },
          "metadata": {},
          "execution_count": 36
        }
      ]
    },
    {
      "cell_type": "code",
      "source": [
        "%%writefile cnn_detailed.py\n",
        "from manim import *\n",
        "\n",
        "class CNNDetailed(Scene):\n",
        "    def construct(self):\n",
        "        # Step 1: Input Image Grid\n",
        "        image_grid = VGroup()\n",
        "        size = 5\n",
        "        for i in range(size):\n",
        "            for j in range(size):\n",
        "                square = Square(side_length=0.5)\n",
        "                square.move_to(np.array([j * 0.5, -i * 0.5, 0]))\n",
        "                square.set_fill(BLUE, opacity=0.2 + 0.1 * ((i + j) % 3))\n",
        "                square.set_stroke(WHITE, width=1)\n",
        "                image_grid.add(square)\n",
        "        image_grid.move_to(LEFT * 5)\n",
        "        label = Text(\"Input Image\", font_size=28).next_to(image_grid, DOWN)\n",
        "\n",
        "        self.play(FadeIn(image_grid), Write(label))\n",
        "\n",
        "        # Step 2: Convolution Filter Slide Animation\n",
        "        filter_box = VGroup(*[Square(0.5).set_stroke(ORANGE, 2) for _ in range(9)])\n",
        "        for i, square in enumerate(filter_box):\n",
        "            x = i % 3\n",
        "            y = i // 3\n",
        "            square.move_to(np.array([x * 0.5, -y * 0.5, 0]))\n",
        "        filter_box.move_to(image_grid[0].get_center())\n",
        "        self.play(Create(filter_box))\n",
        "\n",
        "        # Animate sliding\n",
        "        for i in range(3):\n",
        "            for j in range(3):\n",
        "                target_index = i * size + j\n",
        "                if target_index < len(image_grid):\n",
        "                    self.play(filter_box.animate.move_to(image_grid[target_index].get_center()), run_time=0.3)\n",
        "\n",
        "        self.wait(1)\n"
      ],
      "metadata": {
        "colab": {
          "base_uri": "https://localhost:8080/"
        },
        "id": "DCZZxBZ8pTNn",
        "outputId": "e698c0b6-a462-421d-e501-0863d0b358cc"
      },
      "execution_count": 38,
      "outputs": [
        {
          "output_type": "stream",
          "name": "stdout",
          "text": [
            "Writing cnn_detailed.py\n"
          ]
        }
      ]
    },
    {
      "cell_type": "code",
      "source": [
        "!manim -pql cnn_detailed.py CNNDetailed\n"
      ],
      "metadata": {
        "colab": {
          "base_uri": "https://localhost:8080/"
        },
        "id": "RBF0a5YbpVLS",
        "outputId": "aeffd2f1-b889-458d-a435-faef7df8d78b"
      },
      "execution_count": 39,
      "outputs": [
        {
          "output_type": "stream",
          "name": "stdout",
          "text": [
            "Manim Community \u001b[32mv0.\u001b[0m\u001b[32m19.0\u001b[0m\n",
            "\n",
            "\u001b[2;36m[04/07/25 19:07:06]\u001b[0m\u001b[2;36m \u001b[0m\u001b[32mINFO    \u001b[0m Animation \u001b[32m0\u001b[0m : Partial movie file written in    \u001b]8;id=624368;file:///usr/local/lib/python3.11/dist-packages/manim/scene/scene_file_writer.py\u001b\\\u001b[2mscene_file_writer.py\u001b[0m\u001b]8;;\u001b\\\u001b[2m:\u001b[0m\u001b]8;id=240080;file:///usr/local/lib/python3.11/dist-packages/manim/scene/scene_file_writer.py#588\u001b\\\u001b[2m588\u001b[0m\u001b]8;;\u001b\\\n",
            "\u001b[2;36m                    \u001b[0m         \u001b[32m'/content/media/videos/cnn_detailed/480p15/par\u001b[0m \u001b[2m                        \u001b[0m\n",
            "\u001b[2;36m                    \u001b[0m         \u001b[32mtial_movie_files/CNNDetailed/1185818338_336004\u001b[0m \u001b[2m                        \u001b[0m\n",
            "\u001b[2;36m                    \u001b[0m         \u001b[32m3369_223132457.mp4'\u001b[0m                            \u001b[2m                        \u001b[0m\n",
            "\u001b[2;36m                   \u001b[0m\u001b[2;36m \u001b[0m\u001b[32mINFO    \u001b[0m Animation \u001b[32m1\u001b[0m : Partial movie file written in    \u001b]8;id=202063;file:///usr/local/lib/python3.11/dist-packages/manim/scene/scene_file_writer.py\u001b\\\u001b[2mscene_file_writer.py\u001b[0m\u001b]8;;\u001b\\\u001b[2m:\u001b[0m\u001b]8;id=569110;file:///usr/local/lib/python3.11/dist-packages/manim/scene/scene_file_writer.py#588\u001b\\\u001b[2m588\u001b[0m\u001b]8;;\u001b\\\n",
            "\u001b[2;36m                    \u001b[0m         \u001b[32m'/content/media/videos/cnn_detailed/480p15/par\u001b[0m \u001b[2m                        \u001b[0m\n",
            "\u001b[2;36m                    \u001b[0m         \u001b[32mtial_movie_files/CNNDetailed/624642324_1395550\u001b[0m \u001b[2m                        \u001b[0m\n",
            "\u001b[2;36m                    \u001b[0m         \u001b[32m125_308227844.mp4'\u001b[0m                             \u001b[2m                        \u001b[0m\n",
            "\u001b[2;36m                   \u001b[0m\u001b[2;36m \u001b[0m\u001b[32mINFO    \u001b[0m Animation \u001b[32m2\u001b[0m : Partial movie file written in    \u001b]8;id=924539;file:///usr/local/lib/python3.11/dist-packages/manim/scene/scene_file_writer.py\u001b\\\u001b[2mscene_file_writer.py\u001b[0m\u001b]8;;\u001b\\\u001b[2m:\u001b[0m\u001b]8;id=693322;file:///usr/local/lib/python3.11/dist-packages/manim/scene/scene_file_writer.py#588\u001b\\\u001b[2m588\u001b[0m\u001b]8;;\u001b\\\n",
            "\u001b[2;36m                    \u001b[0m         \u001b[32m'/content/media/videos/cnn_detailed/480p15/par\u001b[0m \u001b[2m                        \u001b[0m\n",
            "\u001b[2;36m                    \u001b[0m         \u001b[32mtial_movie_files/CNNDetailed/624642324_2032809\u001b[0m \u001b[2m                        \u001b[0m\n",
            "\u001b[2;36m                    \u001b[0m         \u001b[32m311_3891110300.mp4'\u001b[0m                            \u001b[2m                        \u001b[0m\n",
            "\u001b[2;36m                   \u001b[0m\u001b[2;36m \u001b[0m\u001b[32mINFO    \u001b[0m Animation \u001b[32m3\u001b[0m : Partial movie file written in    \u001b]8;id=40541;file:///usr/local/lib/python3.11/dist-packages/manim/scene/scene_file_writer.py\u001b\\\u001b[2mscene_file_writer.py\u001b[0m\u001b]8;;\u001b\\\u001b[2m:\u001b[0m\u001b]8;id=760751;file:///usr/local/lib/python3.11/dist-packages/manim/scene/scene_file_writer.py#588\u001b\\\u001b[2m588\u001b[0m\u001b]8;;\u001b\\\n",
            "\u001b[2;36m                    \u001b[0m         \u001b[32m'/content/media/videos/cnn_detailed/480p15/par\u001b[0m \u001b[2m                        \u001b[0m\n",
            "\u001b[2;36m                    \u001b[0m         \u001b[32mtial_movie_files/CNNDetailed/624642324_2873761\u001b[0m \u001b[2m                        \u001b[0m\n",
            "\u001b[2;36m                    \u001b[0m         \u001b[32m95_3891110300.mp4'\u001b[0m                             \u001b[2m                        \u001b[0m\n",
            "\u001b[2;36m[04/07/25 19:07:07]\u001b[0m\u001b[2;36m \u001b[0m\u001b[32mINFO    \u001b[0m Animation \u001b[32m4\u001b[0m : Partial movie file written in    \u001b]8;id=551812;file:///usr/local/lib/python3.11/dist-packages/manim/scene/scene_file_writer.py\u001b\\\u001b[2mscene_file_writer.py\u001b[0m\u001b]8;;\u001b\\\u001b[2m:\u001b[0m\u001b]8;id=906087;file:///usr/local/lib/python3.11/dist-packages/manim/scene/scene_file_writer.py#588\u001b\\\u001b[2m588\u001b[0m\u001b]8;;\u001b\\\n",
            "\u001b[2;36m                    \u001b[0m         \u001b[32m'/content/media/videos/cnn_detailed/480p15/par\u001b[0m \u001b[2m                        \u001b[0m\n",
            "\u001b[2;36m                    \u001b[0m         \u001b[32mtial_movie_files/CNNDetailed/624642324_2106355\u001b[0m \u001b[2m                        \u001b[0m\n",
            "\u001b[2;36m                    \u001b[0m         \u001b[32m718_3891110300.mp4'\u001b[0m                            \u001b[2m                        \u001b[0m\n",
            "\u001b[2;36m                   \u001b[0m\u001b[2;36m \u001b[0m\u001b[32mINFO    \u001b[0m Animation \u001b[32m5\u001b[0m : Partial movie file written in    \u001b]8;id=983039;file:///usr/local/lib/python3.11/dist-packages/manim/scene/scene_file_writer.py\u001b\\\u001b[2mscene_file_writer.py\u001b[0m\u001b]8;;\u001b\\\u001b[2m:\u001b[0m\u001b]8;id=449887;file:///usr/local/lib/python3.11/dist-packages/manim/scene/scene_file_writer.py#588\u001b\\\u001b[2m588\u001b[0m\u001b]8;;\u001b\\\n",
            "\u001b[2;36m                    \u001b[0m         \u001b[32m'/content/media/videos/cnn_detailed/480p15/par\u001b[0m \u001b[2m                        \u001b[0m\n",
            "\u001b[2;36m                    \u001b[0m         \u001b[32mtial_movie_files/CNNDetailed/624642324_1019053\u001b[0m \u001b[2m                        \u001b[0m\n",
            "\u001b[2;36m                    \u001b[0m         \u001b[32m507_3891110300.mp4'\u001b[0m                            \u001b[2m                        \u001b[0m\n",
            "\u001b[2;36m                   \u001b[0m\u001b[2;36m \u001b[0m\u001b[32mINFO    \u001b[0m Animation \u001b[32m6\u001b[0m : Partial movie file written in    \u001b]8;id=40547;file:///usr/local/lib/python3.11/dist-packages/manim/scene/scene_file_writer.py\u001b\\\u001b[2mscene_file_writer.py\u001b[0m\u001b]8;;\u001b\\\u001b[2m:\u001b[0m\u001b]8;id=899854;file:///usr/local/lib/python3.11/dist-packages/manim/scene/scene_file_writer.py#588\u001b\\\u001b[2m588\u001b[0m\u001b]8;;\u001b\\\n",
            "\u001b[2;36m                    \u001b[0m         \u001b[32m'/content/media/videos/cnn_detailed/480p15/par\u001b[0m \u001b[2m                        \u001b[0m\n",
            "\u001b[2;36m                    \u001b[0m         \u001b[32mtial_movie_files/CNNDetailed/624642324_2460323\u001b[0m \u001b[2m                        \u001b[0m\n",
            "\u001b[2;36m                    \u001b[0m         \u001b[32m381_3891110300.mp4'\u001b[0m                            \u001b[2m                        \u001b[0m\n",
            "\u001b[2;36m                   \u001b[0m\u001b[2;36m \u001b[0m\u001b[32mINFO    \u001b[0m Animation \u001b[32m7\u001b[0m : Partial movie file written in    \u001b]8;id=995004;file:///usr/local/lib/python3.11/dist-packages/manim/scene/scene_file_writer.py\u001b\\\u001b[2mscene_file_writer.py\u001b[0m\u001b]8;;\u001b\\\u001b[2m:\u001b[0m\u001b]8;id=700331;file:///usr/local/lib/python3.11/dist-packages/manim/scene/scene_file_writer.py#588\u001b\\\u001b[2m588\u001b[0m\u001b]8;;\u001b\\\n",
            "\u001b[2;36m                    \u001b[0m         \u001b[32m'/content/media/videos/cnn_detailed/480p15/par\u001b[0m \u001b[2m                        \u001b[0m\n",
            "\u001b[2;36m                    \u001b[0m         \u001b[32mtial_movie_files/CNNDetailed/624642324_2807885\u001b[0m \u001b[2m                        \u001b[0m\n",
            "\u001b[2;36m                    \u001b[0m         \u001b[32m559_3891110300.mp4'\u001b[0m                            \u001b[2m                        \u001b[0m\n",
            "\u001b[2;36m                   \u001b[0m\u001b[2;36m \u001b[0m\u001b[32mINFO    \u001b[0m Animation \u001b[32m8\u001b[0m : Partial movie file written in    \u001b]8;id=698622;file:///usr/local/lib/python3.11/dist-packages/manim/scene/scene_file_writer.py\u001b\\\u001b[2mscene_file_writer.py\u001b[0m\u001b]8;;\u001b\\\u001b[2m:\u001b[0m\u001b]8;id=872352;file:///usr/local/lib/python3.11/dist-packages/manim/scene/scene_file_writer.py#588\u001b\\\u001b[2m588\u001b[0m\u001b]8;;\u001b\\\n",
            "\u001b[2;36m                    \u001b[0m         \u001b[32m'/content/media/videos/cnn_detailed/480p15/par\u001b[0m \u001b[2m                        \u001b[0m\n",
            "\u001b[2;36m                    \u001b[0m         \u001b[32mtial_movie_files/CNNDetailed/624642324_9625135\u001b[0m \u001b[2m                        \u001b[0m\n",
            "\u001b[2;36m                    \u001b[0m         \u001b[32m03_3891110300.mp4'\u001b[0m                             \u001b[2m                        \u001b[0m\n",
            "\u001b[2;36m[04/07/25 19:07:08]\u001b[0m\u001b[2;36m \u001b[0m\u001b[32mINFO    \u001b[0m Animation \u001b[32m9\u001b[0m : Partial movie file written in    \u001b]8;id=222577;file:///usr/local/lib/python3.11/dist-packages/manim/scene/scene_file_writer.py\u001b\\\u001b[2mscene_file_writer.py\u001b[0m\u001b]8;;\u001b\\\u001b[2m:\u001b[0m\u001b]8;id=875013;file:///usr/local/lib/python3.11/dist-packages/manim/scene/scene_file_writer.py#588\u001b\\\u001b[2m588\u001b[0m\u001b]8;;\u001b\\\n",
            "\u001b[2;36m                    \u001b[0m         \u001b[32m'/content/media/videos/cnn_detailed/480p15/par\u001b[0m \u001b[2m                        \u001b[0m\n",
            "\u001b[2;36m                    \u001b[0m         \u001b[32mtial_movie_files/CNNDetailed/624642324_6142617\u001b[0m \u001b[2m                        \u001b[0m\n",
            "\u001b[2;36m                    \u001b[0m         \u001b[32m25_3891110300.mp4'\u001b[0m                             \u001b[2m                        \u001b[0m\n",
            "\u001b[2;36m                   \u001b[0m\u001b[2;36m \u001b[0m\u001b[32mINFO    \u001b[0m Animation \u001b[32m10\u001b[0m : Partial movie file written in   \u001b]8;id=620942;file:///usr/local/lib/python3.11/dist-packages/manim/scene/scene_file_writer.py\u001b\\\u001b[2mscene_file_writer.py\u001b[0m\u001b]8;;\u001b\\\u001b[2m:\u001b[0m\u001b]8;id=145058;file:///usr/local/lib/python3.11/dist-packages/manim/scene/scene_file_writer.py#588\u001b\\\u001b[2m588\u001b[0m\u001b]8;;\u001b\\\n",
            "\u001b[2;36m                    \u001b[0m         \u001b[32m'/content/media/videos/cnn_detailed/480p15/par\u001b[0m \u001b[2m                        \u001b[0m\n",
            "\u001b[2;36m                    \u001b[0m         \u001b[32mtial_movie_files/CNNDetailed/624642324_8383989\u001b[0m \u001b[2m                        \u001b[0m\n",
            "\u001b[2;36m                    \u001b[0m         \u001b[32m07_3891110300.mp4'\u001b[0m                             \u001b[2m                        \u001b[0m\n",
            "\u001b[2;36m                   \u001b[0m\u001b[2;36m \u001b[0m\u001b[32mINFO    \u001b[0m Animation \u001b[32m11\u001b[0m : Partial movie file written in   \u001b]8;id=250106;file:///usr/local/lib/python3.11/dist-packages/manim/scene/scene_file_writer.py\u001b\\\u001b[2mscene_file_writer.py\u001b[0m\u001b]8;;\u001b\\\u001b[2m:\u001b[0m\u001b]8;id=390154;file:///usr/local/lib/python3.11/dist-packages/manim/scene/scene_file_writer.py#588\u001b\\\u001b[2m588\u001b[0m\u001b]8;;\u001b\\\n",
            "\u001b[2;36m                    \u001b[0m         \u001b[32m'/content/media/videos/cnn_detailed/480p15/par\u001b[0m \u001b[2m                        \u001b[0m\n",
            "\u001b[2;36m                    \u001b[0m         \u001b[32mtial_movie_files/CNNDetailed/624642324_4217992\u001b[0m \u001b[2m                        \u001b[0m\n",
            "\u001b[2;36m                    \u001b[0m         \u001b[32m463_786635585.mp4'\u001b[0m                             \u001b[2m                        \u001b[0m\n",
            "\u001b[2;36m                   \u001b[0m\u001b[2;36m \u001b[0m\u001b[32mINFO    \u001b[0m Combining to Movie file.                       \u001b]8;id=982124;file:///usr/local/lib/python3.11/dist-packages/manim/scene/scene_file_writer.py\u001b\\\u001b[2mscene_file_writer.py\u001b[0m\u001b]8;;\u001b\\\u001b[2m:\u001b[0m\u001b]8;id=810340;file:///usr/local/lib/python3.11/dist-packages/manim/scene/scene_file_writer.py#739\u001b\\\u001b[2m739\u001b[0m\u001b]8;;\u001b\\\n",
            "\u001b[2;36m                   \u001b[0m\u001b[2;36m \u001b[0m\u001b[32mINFO    \u001b[0m                                                \u001b]8;id=791240;file:///usr/local/lib/python3.11/dist-packages/manim/scene/scene_file_writer.py\u001b\\\u001b[2mscene_file_writer.py\u001b[0m\u001b]8;;\u001b\\\u001b[2m:\u001b[0m\u001b]8;id=635349;file:///usr/local/lib/python3.11/dist-packages/manim/scene/scene_file_writer.py#886\u001b\\\u001b[2m886\u001b[0m\u001b]8;;\u001b\\\n",
            "\u001b[2;36m                    \u001b[0m         \u001b[1;33mFile\u001b[0m ready at                                  \u001b[2m                        \u001b[0m\n",
            "\u001b[2;36m                    \u001b[0m         \u001b[32m'/content/media/videos/cnn_detailed/480p15/CNN\u001b[0m \u001b[2m                        \u001b[0m\n",
            "\u001b[2;36m                    \u001b[0m         \u001b[32mDetailed.mp4'\u001b[0m                                  \u001b[2m                        \u001b[0m\n",
            "\u001b[2;36m                    \u001b[0m                                                        \u001b[2m                        \u001b[0m\n",
            "\u001b[2;36m                   \u001b[0m\u001b[2;36m \u001b[0m\u001b[32mINFO    \u001b[0m \u001b[1;33mRendered\u001b[0m CNNDetailed                                       \u001b]8;id=717529;file:///usr/local/lib/python3.11/dist-packages/manim/scene/scene.py\u001b\\\u001b[2mscene.py\u001b[0m\u001b]8;;\u001b\\\u001b[2m:\u001b[0m\u001b]8;id=554601;file:///usr/local/lib/python3.11/dist-packages/manim/scene/scene.py#255\u001b\\\u001b[2m255\u001b[0m\u001b]8;;\u001b\\\n",
            "\u001b[2;36m                    \u001b[0m         \u001b[1;33mPlayed\u001b[0m \u001b[32m12\u001b[0m \u001b[1;33manimations\u001b[0m                                       \u001b[2m            \u001b[0m\n",
            "Error: no \"view\" mailcap rules found for type \"video/mp4\"\n",
            "/usr/bin/xdg-open: 882: www-browser: not found\n",
            "/usr/bin/xdg-open: 882: links2: not found\n",
            "/usr/bin/xdg-open: 882: elinks: not found\n",
            "/usr/bin/xdg-open: 882: links: not found\n",
            "/usr/bin/xdg-open: 882: lynx: not found\n",
            "/usr/bin/xdg-open: 882: w3m: not found\n",
            "xdg-open: no method available for opening '/content/media/videos/cnn_detailed/480p15/CNNDetailed.mp4'\n",
            "\u001b[2;36m                   \u001b[0m\u001b[2;36m \u001b[0m\u001b[32mINFO    \u001b[0m Previewed \u001b[1;33mFile\u001b[0m at:                                      \u001b]8;id=666926;file:///usr/local/lib/python3.11/dist-packages/manim/utils/file_ops.py\u001b\\\u001b[2mfile_ops.py\u001b[0m\u001b]8;;\u001b\\\u001b[2m:\u001b[0m\u001b]8;id=352255;file:///usr/local/lib/python3.11/dist-packages/manim/utils/file_ops.py#237\u001b\\\u001b[2m237\u001b[0m\u001b]8;;\u001b\\\n",
            "\u001b[2;36m                    \u001b[0m         \u001b[32m'/content/media/videos/cnn_detailed/480p15/CNNDetailed.\u001b[0m \u001b[2m               \u001b[0m\n",
            "\u001b[2;36m                    \u001b[0m         \u001b[32mmp4'\u001b[0m                                                    \u001b[2m               \u001b[0m\n"
          ]
        }
      ]
    },
    {
      "cell_type": "code",
      "source": [
        "from google.colab import files\n",
        "files.download(\"/content/media/videos/cnn_detailed/480p15/CNNDetailed.mp4\")\n"
      ],
      "metadata": {
        "colab": {
          "base_uri": "https://localhost:8080/",
          "height": 17
        },
        "id": "WVTYYiLoplJN",
        "outputId": "06496300-eb64-481f-81f8-dc4a8c5b4d8f"
      },
      "execution_count": 40,
      "outputs": [
        {
          "output_type": "display_data",
          "data": {
            "text/plain": [
              "<IPython.core.display.Javascript object>"
            ],
            "application/javascript": [
              "\n",
              "    async function download(id, filename, size) {\n",
              "      if (!google.colab.kernel.accessAllowed) {\n",
              "        return;\n",
              "      }\n",
              "      const div = document.createElement('div');\n",
              "      const label = document.createElement('label');\n",
              "      label.textContent = `Downloading \"${filename}\": `;\n",
              "      div.appendChild(label);\n",
              "      const progress = document.createElement('progress');\n",
              "      progress.max = size;\n",
              "      div.appendChild(progress);\n",
              "      document.body.appendChild(div);\n",
              "\n",
              "      const buffers = [];\n",
              "      let downloaded = 0;\n",
              "\n",
              "      const channel = await google.colab.kernel.comms.open(id);\n",
              "      // Send a message to notify the kernel that we're ready.\n",
              "      channel.send({})\n",
              "\n",
              "      for await (const message of channel.messages) {\n",
              "        // Send a message to notify the kernel that we're ready.\n",
              "        channel.send({})\n",
              "        if (message.buffers) {\n",
              "          for (const buffer of message.buffers) {\n",
              "            buffers.push(buffer);\n",
              "            downloaded += buffer.byteLength;\n",
              "            progress.value = downloaded;\n",
              "          }\n",
              "        }\n",
              "      }\n",
              "      const blob = new Blob(buffers, {type: 'application/binary'});\n",
              "      const a = document.createElement('a');\n",
              "      a.href = window.URL.createObjectURL(blob);\n",
              "      a.download = filename;\n",
              "      div.appendChild(a);\n",
              "      a.click();\n",
              "      div.remove();\n",
              "    }\n",
              "  "
            ]
          },
          "metadata": {}
        },
        {
          "output_type": "display_data",
          "data": {
            "text/plain": [
              "<IPython.core.display.Javascript object>"
            ],
            "application/javascript": [
              "download(\"download_99e9d473-7e7a-4ac6-af70-3c47197c56c8\", \"CNNDetailed.mp4\", 70930)"
            ]
          },
          "metadata": {}
        }
      ]
    },
    {
      "cell_type": "code",
      "source": [
        "%%writefile cnn_detailed.py\n",
        "from manim import *\n",
        "\n",
        "class CNNFullPipeline(Scene):\n",
        "    def construct(self):\n",
        "        # 1. Input Image Grid\n",
        "        size = 5\n",
        "        image_grid = VGroup()\n",
        "        for i in range(size):\n",
        "            for j in range(size):\n",
        "                sq = Square(0.5)\n",
        "                sq.move_to(np.array([j * 0.5, -i * 0.5, 0]))\n",
        "                sq.set_fill(BLUE, opacity=0.2 + 0.1 * ((i + j) % 3))\n",
        "                sq.set_stroke(WHITE, width=1)\n",
        "                image_grid.add(sq)\n",
        "        image_grid.move_to(LEFT * 5 + UP)\n",
        "\n",
        "        input_label = Text(\"Input Image\", font_size=28).next_to(image_grid, DOWN)\n",
        "        self.play(FadeIn(image_grid), Write(input_label))\n",
        "\n",
        "        # 2. Convolution Filter\n",
        "        filter_box = VGroup(*[Square(0.5).set_stroke(ORANGE, 2) for _ in range(9)])\n",
        "        for idx, sq in enumerate(filter_box):\n",
        "            x = idx % 3\n",
        "            y = idx // 3\n",
        "            sq.move_to(np.array([x * 0.5, -y * 0.5, 0]))\n",
        "        filter_box.move_to(image_grid[0].get_center())\n",
        "        self.play(Create(filter_box))\n",
        "\n",
        "        # Slide over image\n",
        "        for i in range(3):\n",
        "            for j in range(3):\n",
        "                idx = i * size + j\n",
        "                if idx < len(image_grid):\n",
        "                    self.play(filter_box.animate.move_to(image_grid[idx].get_center()), run_time=0.3)\n",
        "\n",
        "        # 3. Max Pooling\n",
        "        pool_label = Text(\"Max Pooling\", font_size=28)\n",
        "        pool_grid = VGroup()\n",
        "        for i in range(2):\n",
        "            for j in range(2):\n",
        "                sq = Square(0.5)\n",
        "                sq.set_fill(GREEN, opacity=0.4)\n",
        "                sq.set_stroke(WHITE, width=1)\n",
        "                sq.move_to(np.array([j * 0.6, -i * 0.6, 0]))\n",
        "                pool_grid.add(sq)\n",
        "        pool_group = VGroup(pool_label, pool_grid).arrange(DOWN).move_to(RIGHT * 2 + UP)\n",
        "\n",
        "        self.play(FadeOut(filter_box), FadeIn(pool_grid), Write(pool_label))\n",
        "\n",
        "        # Animate selection\n",
        "        for sq in pool_grid:\n",
        "            sq.set_fill(YELLOW, opacity=0.6)\n",
        "            self.wait(0.2)\n",
        "            sq.set_fill(GREEN, opacity=0.4)\n",
        "\n",
        "        # 4. Flattening\n",
        "        flat_rects = VGroup()\n",
        "        for i in range(4):\n",
        "            rect = Rectangle(width=0.4, height=0.4)\n",
        "            rect.set_fill(PURPLE, opacity=0.5)\n",
        "            rect.set_stroke(WHITE, width=1)\n",
        "            rect.move_to(np.array([i * 0.5, 0, 0]))\n",
        "            flat_rects.add(rect)\n",
        "        flat_rects.move_to(DOWN * 2.5 + LEFT * 2)\n",
        "        flat_label = Text(\"Flatten\", font_size=28).next_to(flat_rects, DOWN)\n",
        "        self.play(Transform(pool_grid, flat_rects), Write(flat_label))\n",
        "\n",
        "        # 5. Fully Connected Layer\n",
        "        fc_neurons = VGroup()\n",
        "        for i in range(4):\n",
        "            neuron = Circle(radius=0.2, color=WHITE)\n",
        "            neuron.set_fill(RED, opacity=0.4)\n",
        "            neuron.move_to(UP * (1.2 - i * 0.8) + RIGHT * 2.5)\n",
        "            fc_neurons.add(neuron)\n",
        "\n",
        "        self.play(FadeIn(fc_neurons))\n",
        "\n",
        "        # Connect lines\n",
        "        lines = VGroup()\n",
        "        for src in flat_rects:\n",
        "            for dst in fc_neurons:\n",
        "                line = Line(src.get_center(), dst.get_center(), stroke_width=1.5, color=GRAY)\n",
        "                lines.add(line)\n",
        "        self.play(Create(lines))\n",
        "\n",
        "        fc_label = Text(\"Fully Connected Layer\", font_size=28).next_to(fc_neurons, RIGHT)\n",
        "        self.play(Write(fc_label))\n",
        "\n",
        "        # 6. Softmax Output\n",
        "        probs = [0.1, 0.3, 0.2, 0.4]\n",
        "        bar_chart = VGroup()\n",
        "        for i, val in enumerate(probs):\n",
        "            bar = Rectangle(width=0.3, height=val * 3, fill_opacity=0.8, fill_color=BLUE)\n",
        "            bar.move_to(np.array([i * 0.5, -1 + val * 1.5, 0]) + RIGHT * 5)\n",
        "            bar_chart.add(bar)\n",
        "\n",
        "        bar_label = Text(\"Softmax Output\", font_size=20).next_to(bar_chart, UP)\n",
        "        self.play(FadeIn(bar_chart), Write(bar_label))\n",
        "\n",
        "        self.wait(5)\n"
      ],
      "metadata": {
        "colab": {
          "base_uri": "https://localhost:8080/"
        },
        "id": "_2CtgXXwp3Ut",
        "outputId": "3521eb1b-63f4-40cd-bb19-c1afd61d0456"
      },
      "execution_count": 49,
      "outputs": [
        {
          "output_type": "stream",
          "name": "stdout",
          "text": [
            "Overwriting cnn_detailed.py\n"
          ]
        }
      ]
    },
    {
      "cell_type": "code",
      "source": [
        "!manim -pqh cnn_detailed.py CNNFullPipeline\n"
      ],
      "metadata": {
        "colab": {
          "base_uri": "https://localhost:8080/"
        },
        "id": "s6IlM4Y9p67N",
        "outputId": "93488d77-3f3c-4757-ba48-c406673af74f"
      },
      "execution_count": 50,
      "outputs": [
        {
          "output_type": "stream",
          "name": "stdout",
          "text": [
            "Manim Community \u001b[32mv0.\u001b[0m\u001b[32m19.0\u001b[0m\n",
            "\n",
            "\u001b[2;36m[04/07/25 19:13:06]\u001b[0m\u001b[2;36m \u001b[0m\u001b[32mINFO    \u001b[0m Animation \u001b[32m0\u001b[0m : Using cached data \u001b[1m(\u001b[0mhash :            \u001b]8;id=570200;file:///usr/local/lib/python3.11/dist-packages/manim/renderer/cairo_renderer.py\u001b\\\u001b[2mcairo_renderer.py\u001b[0m\u001b]8;;\u001b\\\u001b[2m:\u001b[0m\u001b]8;id=2581;file:///usr/local/lib/python3.11/dist-packages/manim/renderer/cairo_renderer.py#89\u001b\\\u001b[2m89\u001b[0m\u001b]8;;\u001b\\\n",
            "\u001b[2;36m                    \u001b[0m         3529212410_873814552_223132457\u001b[1m)\u001b[0m                    \u001b[2m                    \u001b[0m\n",
            "\u001b[2;36m                   \u001b[0m\u001b[2;36m \u001b[0m\u001b[32mINFO    \u001b[0m Animation \u001b[32m1\u001b[0m : Using cached data \u001b[1m(\u001b[0mhash :            \u001b]8;id=712325;file:///usr/local/lib/python3.11/dist-packages/manim/renderer/cairo_renderer.py\u001b\\\u001b[2mcairo_renderer.py\u001b[0m\u001b]8;;\u001b\\\u001b[2m:\u001b[0m\u001b]8;id=998404;file:///usr/local/lib/python3.11/dist-packages/manim/renderer/cairo_renderer.py#89\u001b\\\u001b[2m89\u001b[0m\u001b]8;;\u001b\\\n",
            "\u001b[2;36m                    \u001b[0m         3040924799_3727923298_710777946\u001b[1m)\u001b[0m                   \u001b[2m                    \u001b[0m\n",
            "\u001b[2;36m[04/07/25 19:13:07]\u001b[0m\u001b[2;36m \u001b[0m\u001b[32mINFO    \u001b[0m Animation \u001b[32m2\u001b[0m : Using cached data \u001b[1m(\u001b[0mhash :            \u001b]8;id=994986;file:///usr/local/lib/python3.11/dist-packages/manim/renderer/cairo_renderer.py\u001b\\\u001b[2mcairo_renderer.py\u001b[0m\u001b]8;;\u001b\\\u001b[2m:\u001b[0m\u001b]8;id=765600;file:///usr/local/lib/python3.11/dist-packages/manim/renderer/cairo_renderer.py#89\u001b\\\u001b[2m89\u001b[0m\u001b]8;;\u001b\\\n",
            "\u001b[2;36m                    \u001b[0m         3040924799_3915576_885748239\u001b[1m)\u001b[0m                      \u001b[2m                    \u001b[0m\n",
            "\u001b[2;36m                   \u001b[0m\u001b[2;36m \u001b[0m\u001b[32mINFO    \u001b[0m Animation \u001b[32m3\u001b[0m : Using cached data \u001b[1m(\u001b[0mhash :            \u001b]8;id=93994;file:///usr/local/lib/python3.11/dist-packages/manim/renderer/cairo_renderer.py\u001b\\\u001b[2mcairo_renderer.py\u001b[0m\u001b]8;;\u001b\\\u001b[2m:\u001b[0m\u001b]8;id=455579;file:///usr/local/lib/python3.11/dist-packages/manim/renderer/cairo_renderer.py#89\u001b\\\u001b[2m89\u001b[0m\u001b]8;;\u001b\\\n",
            "\u001b[2;36m                    \u001b[0m         3040924799_3798674497_885748239\u001b[1m)\u001b[0m                   \u001b[2m                    \u001b[0m\n",
            "\u001b[2;36m                   \u001b[0m\u001b[2;36m \u001b[0m\u001b[32mINFO    \u001b[0m Animation \u001b[32m4\u001b[0m : Using cached data \u001b[1m(\u001b[0mhash :            \u001b]8;id=356520;file:///usr/local/lib/python3.11/dist-packages/manim/renderer/cairo_renderer.py\u001b\\\u001b[2mcairo_renderer.py\u001b[0m\u001b]8;;\u001b\\\u001b[2m:\u001b[0m\u001b]8;id=834466;file:///usr/local/lib/python3.11/dist-packages/manim/renderer/cairo_renderer.py#89\u001b\\\u001b[2m89\u001b[0m\u001b]8;;\u001b\\\n",
            "\u001b[2;36m                    \u001b[0m         3040924799_77462113_885748239\u001b[1m)\u001b[0m                     \u001b[2m                    \u001b[0m\n",
            "\u001b[2;36m[04/07/25 19:13:08]\u001b[0m\u001b[2;36m \u001b[0m\u001b[32mINFO    \u001b[0m Animation \u001b[32m5\u001b[0m : Using cached data \u001b[1m(\u001b[0mhash :            \u001b]8;id=16199;file:///usr/local/lib/python3.11/dist-packages/manim/renderer/cairo_renderer.py\u001b\\\u001b[2mcairo_renderer.py\u001b[0m\u001b]8;;\u001b\\\u001b[2m:\u001b[0m\u001b]8;id=226916;file:///usr/local/lib/python3.11/dist-packages/manim/renderer/cairo_renderer.py#89\u001b\\\u001b[2m89\u001b[0m\u001b]8;;\u001b\\\n",
            "\u001b[2;36m                    \u001b[0m         3040924799_2442312215_885748239\u001b[1m)\u001b[0m                   \u001b[2m                    \u001b[0m\n",
            "\u001b[2;36m                   \u001b[0m\u001b[2;36m \u001b[0m\u001b[32mINFO    \u001b[0m Animation \u001b[32m6\u001b[0m : Using cached data \u001b[1m(\u001b[0mhash :            \u001b]8;id=606975;file:///usr/local/lib/python3.11/dist-packages/manim/renderer/cairo_renderer.py\u001b\\\u001b[2mcairo_renderer.py\u001b[0m\u001b]8;;\u001b\\\u001b[2m:\u001b[0m\u001b]8;id=325725;file:///usr/local/lib/python3.11/dist-packages/manim/renderer/cairo_renderer.py#89\u001b\\\u001b[2m89\u001b[0m\u001b]8;;\u001b\\\n",
            "\u001b[2;36m                    \u001b[0m         3040924799_3796857817_885748239\u001b[1m)\u001b[0m                   \u001b[2m                    \u001b[0m\n",
            "\u001b[2;36m                   \u001b[0m\u001b[2;36m \u001b[0m\u001b[32mINFO    \u001b[0m Animation \u001b[32m7\u001b[0m : Using cached data \u001b[1m(\u001b[0mhash :            \u001b]8;id=407507;file:///usr/local/lib/python3.11/dist-packages/manim/renderer/cairo_renderer.py\u001b\\\u001b[2mcairo_renderer.py\u001b[0m\u001b]8;;\u001b\\\u001b[2m:\u001b[0m\u001b]8;id=154001;file:///usr/local/lib/python3.11/dist-packages/manim/renderer/cairo_renderer.py#89\u001b\\\u001b[2m89\u001b[0m\u001b]8;;\u001b\\\n",
            "\u001b[2;36m                    \u001b[0m         3040924799_3619033883_885748239\u001b[1m)\u001b[0m                   \u001b[2m                    \u001b[0m\n",
            "\u001b[2;36m[04/07/25 19:13:09]\u001b[0m\u001b[2;36m \u001b[0m\u001b[32mINFO    \u001b[0m Animation \u001b[32m8\u001b[0m : Using cached data \u001b[1m(\u001b[0mhash :            \u001b]8;id=849042;file:///usr/local/lib/python3.11/dist-packages/manim/renderer/cairo_renderer.py\u001b\\\u001b[2mcairo_renderer.py\u001b[0m\u001b]8;;\u001b\\\u001b[2m:\u001b[0m\u001b]8;id=981184;file:///usr/local/lib/python3.11/dist-packages/manim/renderer/cairo_renderer.py#89\u001b\\\u001b[2m89\u001b[0m\u001b]8;;\u001b\\\n",
            "\u001b[2;36m                    \u001b[0m         3040924799_540530676_885748239\u001b[1m)\u001b[0m                    \u001b[2m                    \u001b[0m\n",
            "\u001b[2;36m                   \u001b[0m\u001b[2;36m \u001b[0m\u001b[32mINFO    \u001b[0m Animation \u001b[32m9\u001b[0m : Using cached data \u001b[1m(\u001b[0mhash :            \u001b]8;id=597780;file:///usr/local/lib/python3.11/dist-packages/manim/renderer/cairo_renderer.py\u001b\\\u001b[2mcairo_renderer.py\u001b[0m\u001b]8;;\u001b\\\u001b[2m:\u001b[0m\u001b]8;id=732184;file:///usr/local/lib/python3.11/dist-packages/manim/renderer/cairo_renderer.py#89\u001b\\\u001b[2m89\u001b[0m\u001b]8;;\u001b\\\n",
            "\u001b[2;36m                    \u001b[0m         3040924799_287376195_885748239\u001b[1m)\u001b[0m                    \u001b[2m                    \u001b[0m\n",
            "\u001b[2;36m                   \u001b[0m\u001b[2;36m \u001b[0m\u001b[32mINFO    \u001b[0m Animation \u001b[32m10\u001b[0m : Using cached data \u001b[1m(\u001b[0mhash :           \u001b]8;id=779209;file:///usr/local/lib/python3.11/dist-packages/manim/renderer/cairo_renderer.py\u001b\\\u001b[2mcairo_renderer.py\u001b[0m\u001b]8;;\u001b\\\u001b[2m:\u001b[0m\u001b]8;id=710672;file:///usr/local/lib/python3.11/dist-packages/manim/renderer/cairo_renderer.py#89\u001b\\\u001b[2m89\u001b[0m\u001b]8;;\u001b\\\n",
            "\u001b[2;36m                    \u001b[0m         3040924799_2106355718_885748239\u001b[1m)\u001b[0m                   \u001b[2m                    \u001b[0m\n",
            "\u001b[2;36m                   \u001b[0m\u001b[2;36m \u001b[0m\u001b[32mINFO    \u001b[0m Animation \u001b[32m11\u001b[0m : Using cached data \u001b[1m(\u001b[0mhash :           \u001b]8;id=687284;file:///usr/local/lib/python3.11/dist-packages/manim/renderer/cairo_renderer.py\u001b\\\u001b[2mcairo_renderer.py\u001b[0m\u001b]8;;\u001b\\\u001b[2m:\u001b[0m\u001b]8;id=491897;file:///usr/local/lib/python3.11/dist-packages/manim/renderer/cairo_renderer.py#89\u001b\\\u001b[2m89\u001b[0m\u001b]8;;\u001b\\\n",
            "\u001b[2;36m                    \u001b[0m         3040924799_4055784661_885748239\u001b[1m)\u001b[0m                   \u001b[2m                    \u001b[0m\n",
            "\u001b[2;36m[04/07/25 19:13:10]\u001b[0m\u001b[2;36m \u001b[0m\u001b[32mINFO    \u001b[0m Animation \u001b[32m12\u001b[0m : Using cached data \u001b[1m(\u001b[0mhash :           \u001b]8;id=526146;file:///usr/local/lib/python3.11/dist-packages/manim/renderer/cairo_renderer.py\u001b\\\u001b[2mcairo_renderer.py\u001b[0m\u001b]8;;\u001b\\\u001b[2m:\u001b[0m\u001b]8;id=557793;file:///usr/local/lib/python3.11/dist-packages/manim/renderer/cairo_renderer.py#89\u001b\\\u001b[2m89\u001b[0m\u001b]8;;\u001b\\\n",
            "\u001b[2;36m                    \u001b[0m         3040924799_2514011427_3545246045\u001b[1m)\u001b[0m                  \u001b[2m                    \u001b[0m\n",
            "\u001b[2;36m                   \u001b[0m\u001b[2;36m \u001b[0m\u001b[32mINFO    \u001b[0m Animation \u001b[32m13\u001b[0m : Using cached data \u001b[1m(\u001b[0mhash :           \u001b]8;id=326931;file:///usr/local/lib/python3.11/dist-packages/manim/renderer/cairo_renderer.py\u001b\\\u001b[2mcairo_renderer.py\u001b[0m\u001b]8;;\u001b\\\u001b[2m:\u001b[0m\u001b]8;id=410144;file:///usr/local/lib/python3.11/dist-packages/manim/renderer/cairo_renderer.py#89\u001b\\\u001b[2m89\u001b[0m\u001b]8;;\u001b\\\n",
            "\u001b[2;36m                    \u001b[0m         3040924799_2514011427_3519171393\u001b[1m)\u001b[0m                  \u001b[2m                    \u001b[0m\n",
            "\u001b[2;36m                   \u001b[0m\u001b[2;36m \u001b[0m\u001b[32mINFO    \u001b[0m Animation \u001b[32m14\u001b[0m : Using cached data \u001b[1m(\u001b[0mhash :           \u001b]8;id=636224;file:///usr/local/lib/python3.11/dist-packages/manim/renderer/cairo_renderer.py\u001b\\\u001b[2mcairo_renderer.py\u001b[0m\u001b]8;;\u001b\\\u001b[2m:\u001b[0m\u001b]8;id=737150;file:///usr/local/lib/python3.11/dist-packages/manim/renderer/cairo_renderer.py#89\u001b\\\u001b[2m89\u001b[0m\u001b]8;;\u001b\\\n",
            "\u001b[2;36m                    \u001b[0m         3040924799_2514011427_161307832\u001b[1m)\u001b[0m                   \u001b[2m                    \u001b[0m\n",
            "\u001b[2;36m                   \u001b[0m\u001b[2;36m \u001b[0m\u001b[32mINFO    \u001b[0m Animation \u001b[32m15\u001b[0m : Using cached data \u001b[1m(\u001b[0mhash :           \u001b]8;id=19845;file:///usr/local/lib/python3.11/dist-packages/manim/renderer/cairo_renderer.py\u001b\\\u001b[2mcairo_renderer.py\u001b[0m\u001b]8;;\u001b\\\u001b[2m:\u001b[0m\u001b]8;id=386464;file:///usr/local/lib/python3.11/dist-packages/manim/renderer/cairo_renderer.py#89\u001b\\\u001b[2m89\u001b[0m\u001b]8;;\u001b\\\n",
            "\u001b[2;36m                    \u001b[0m         3040924799_2514011427_2992477123\u001b[1m)\u001b[0m                  \u001b[2m                    \u001b[0m\n",
            "\u001b[2;36m                   \u001b[0m\u001b[2;36m \u001b[0m\u001b[32mINFO    \u001b[0m Animation \u001b[32m16\u001b[0m : Using cached data \u001b[1m(\u001b[0mhash :           \u001b]8;id=126084;file:///usr/local/lib/python3.11/dist-packages/manim/renderer/cairo_renderer.py\u001b\\\u001b[2mcairo_renderer.py\u001b[0m\u001b]8;;\u001b\\\u001b[2m:\u001b[0m\u001b]8;id=632851;file:///usr/local/lib/python3.11/dist-packages/manim/renderer/cairo_renderer.py#89\u001b\\\u001b[2m89\u001b[0m\u001b]8;;\u001b\\\n",
            "\u001b[2;36m                    \u001b[0m         3040924799_331284548_2487172227\u001b[1m)\u001b[0m                   \u001b[2m                    \u001b[0m\n",
            "\u001b[2;36m[04/07/25 19:13:11]\u001b[0m\u001b[2;36m \u001b[0m\u001b[32mINFO    \u001b[0m Animation \u001b[32m17\u001b[0m : Using cached data \u001b[1m(\u001b[0mhash :           \u001b]8;id=517772;file:///usr/local/lib/python3.11/dist-packages/manim/renderer/cairo_renderer.py\u001b\\\u001b[2mcairo_renderer.py\u001b[0m\u001b]8;;\u001b\\\u001b[2m:\u001b[0m\u001b]8;id=827450;file:///usr/local/lib/python3.11/dist-packages/manim/renderer/cairo_renderer.py#89\u001b\\\u001b[2m89\u001b[0m\u001b]8;;\u001b\\\n",
            "\u001b[2;36m                    \u001b[0m         3040924799_4106672549_153742464\u001b[1m)\u001b[0m                   \u001b[2m                    \u001b[0m\n",
            "\u001b[2;36m                   \u001b[0m\u001b[2;36m \u001b[0m\u001b[32mINFO    \u001b[0m Animation \u001b[32m18\u001b[0m : Using cached data \u001b[1m(\u001b[0mhash :           \u001b]8;id=79190;file:///usr/local/lib/python3.11/dist-packages/manim/renderer/cairo_renderer.py\u001b\\\u001b[2mcairo_renderer.py\u001b[0m\u001b]8;;\u001b\\\u001b[2m:\u001b[0m\u001b]8;id=556194;file:///usr/local/lib/python3.11/dist-packages/manim/renderer/cairo_renderer.py#89\u001b\\\u001b[2m89\u001b[0m\u001b]8;;\u001b\\\n",
            "\u001b[2;36m                    \u001b[0m         3040924799_1670099920_515763559\u001b[1m)\u001b[0m                   \u001b[2m                    \u001b[0m\n",
            "\u001b[2;36m                   \u001b[0m\u001b[2;36m \u001b[0m\u001b[32mINFO    \u001b[0m Animation \u001b[32m19\u001b[0m : Using cached data \u001b[1m(\u001b[0mhash :           \u001b]8;id=305650;file:///usr/local/lib/python3.11/dist-packages/manim/renderer/cairo_renderer.py\u001b\\\u001b[2mcairo_renderer.py\u001b[0m\u001b]8;;\u001b\\\u001b[2m:\u001b[0m\u001b]8;id=265289;file:///usr/local/lib/python3.11/dist-packages/manim/renderer/cairo_renderer.py#89\u001b\\\u001b[2m89\u001b[0m\u001b]8;;\u001b\\\n",
            "\u001b[2;36m                    \u001b[0m         3040924799_207115130_3609411677\u001b[1m)\u001b[0m                   \u001b[2m                    \u001b[0m\n",
            "\u001b[2;36m[04/07/25 19:13:12]\u001b[0m\u001b[2;36m \u001b[0m\u001b[32mINFO    \u001b[0m Animation \u001b[32m20\u001b[0m : Using cached data \u001b[1m(\u001b[0mhash :           \u001b]8;id=472721;file:///usr/local/lib/python3.11/dist-packages/manim/renderer/cairo_renderer.py\u001b\\\u001b[2mcairo_renderer.py\u001b[0m\u001b]8;;\u001b\\\u001b[2m:\u001b[0m\u001b]8;id=712773;file:///usr/local/lib/python3.11/dist-packages/manim/renderer/cairo_renderer.py#89\u001b\\\u001b[2m89\u001b[0m\u001b]8;;\u001b\\\n",
            "\u001b[2;36m                    \u001b[0m         3040924799_1007239806_3944585888\u001b[1m)\u001b[0m                  \u001b[2m                    \u001b[0m\n",
            "\u001b[2;36m[04/07/25 19:13:24]\u001b[0m\u001b[2;36m \u001b[0m\u001b[32mINFO    \u001b[0m Animation \u001b[32m21\u001b[0m : Partial movie file written in   \u001b]8;id=7679;file:///usr/local/lib/python3.11/dist-packages/manim/scene/scene_file_writer.py\u001b\\\u001b[2mscene_file_writer.py\u001b[0m\u001b]8;;\u001b\\\u001b[2m:\u001b[0m\u001b]8;id=915790;file:///usr/local/lib/python3.11/dist-packages/manim/scene/scene_file_writer.py#588\u001b\\\u001b[2m588\u001b[0m\u001b]8;;\u001b\\\n",
            "\u001b[2;36m                    \u001b[0m         \u001b[32m'/content/media/videos/cnn_detailed/1080p60/pa\u001b[0m \u001b[2m                        \u001b[0m\n",
            "\u001b[2;36m                    \u001b[0m         \u001b[32mrtial_movie_files/CNNFullPipeline/3040924799_1\u001b[0m \u001b[2m                        \u001b[0m\n",
            "\u001b[2;36m                    \u001b[0m         \u001b[32m038707267_483011277.mp4'\u001b[0m                       \u001b[2m                        \u001b[0m\n",
            "\u001b[2;36m                   \u001b[0m\u001b[2;36m \u001b[0m\u001b[32mINFO    \u001b[0m Combining to Movie file.                       \u001b]8;id=887179;file:///usr/local/lib/python3.11/dist-packages/manim/scene/scene_file_writer.py\u001b\\\u001b[2mscene_file_writer.py\u001b[0m\u001b]8;;\u001b\\\u001b[2m:\u001b[0m\u001b]8;id=51367;file:///usr/local/lib/python3.11/dist-packages/manim/scene/scene_file_writer.py#739\u001b\\\u001b[2m739\u001b[0m\u001b]8;;\u001b\\\n",
            "\u001b[2;36m                   \u001b[0m\u001b[2;36m \u001b[0m\u001b[32mINFO    \u001b[0m                                                \u001b]8;id=209843;file:///usr/local/lib/python3.11/dist-packages/manim/scene/scene_file_writer.py\u001b\\\u001b[2mscene_file_writer.py\u001b[0m\u001b]8;;\u001b\\\u001b[2m:\u001b[0m\u001b]8;id=218488;file:///usr/local/lib/python3.11/dist-packages/manim/scene/scene_file_writer.py#886\u001b\\\u001b[2m886\u001b[0m\u001b]8;;\u001b\\\n",
            "\u001b[2;36m                    \u001b[0m         \u001b[1;33mFile\u001b[0m ready at                                  \u001b[2m                        \u001b[0m\n",
            "\u001b[2;36m                    \u001b[0m         \u001b[32m'/content/media/videos/cnn_detailed/1080p60/CN\u001b[0m \u001b[2m                        \u001b[0m\n",
            "\u001b[2;36m                    \u001b[0m         \u001b[32mNFullPipeline.mp4'\u001b[0m                             \u001b[2m                        \u001b[0m\n",
            "\u001b[2;36m                    \u001b[0m                                                        \u001b[2m                        \u001b[0m\n",
            "\u001b[2;36m                   \u001b[0m\u001b[2;36m \u001b[0m\u001b[32mINFO    \u001b[0m \u001b[1;33mRendered\u001b[0m CNNFullPipeline                                   \u001b]8;id=940230;file:///usr/local/lib/python3.11/dist-packages/manim/scene/scene.py\u001b\\\u001b[2mscene.py\u001b[0m\u001b]8;;\u001b\\\u001b[2m:\u001b[0m\u001b]8;id=151545;file:///usr/local/lib/python3.11/dist-packages/manim/scene/scene.py#255\u001b\\\u001b[2m255\u001b[0m\u001b]8;;\u001b\\\n",
            "\u001b[2;36m                    \u001b[0m         \u001b[1;33mPlayed\u001b[0m \u001b[32m22\u001b[0m \u001b[1;33manimations\u001b[0m                                       \u001b[2m            \u001b[0m\n",
            "Error: no \"view\" mailcap rules found for type \"video/mp4\"\n",
            "/usr/bin/xdg-open: 882: www-browser: not found\n",
            "/usr/bin/xdg-open: 882: links2: not found\n",
            "/usr/bin/xdg-open: 882: elinks: not found\n",
            "/usr/bin/xdg-open: 882: links: not found\n",
            "/usr/bin/xdg-open: 882: lynx: not found\n",
            "/usr/bin/xdg-open: 882: w3m: not found\n",
            "xdg-open: no method available for opening '/content/media/videos/cnn_detailed/1080p60/CNNFullPipeline.mp4'\n",
            "\u001b[2;36m                   \u001b[0m\u001b[2;36m \u001b[0m\u001b[32mINFO    \u001b[0m Previewed \u001b[1;33mFile\u001b[0m at:                                      \u001b]8;id=80383;file:///usr/local/lib/python3.11/dist-packages/manim/utils/file_ops.py\u001b\\\u001b[2mfile_ops.py\u001b[0m\u001b]8;;\u001b\\\u001b[2m:\u001b[0m\u001b]8;id=987732;file:///usr/local/lib/python3.11/dist-packages/manim/utils/file_ops.py#237\u001b\\\u001b[2m237\u001b[0m\u001b]8;;\u001b\\\n",
            "\u001b[2;36m                    \u001b[0m         \u001b[32m'/content/media/videos/cnn_detailed/1080p60/CNNFullPipe\u001b[0m \u001b[2m               \u001b[0m\n",
            "\u001b[2;36m                    \u001b[0m         \u001b[32mline.mp4'\u001b[0m                                               \u001b[2m               \u001b[0m\n"
          ]
        }
      ]
    },
    {
      "cell_type": "code",
      "source": [
        "from google.colab import files\n",
        "files.download(\"/content/media/videos/cnn_detailed/1080p60/CNNFullPipeline.mp4\")\n"
      ],
      "metadata": {
        "colab": {
          "base_uri": "https://localhost:8080/",
          "height": 17
        },
        "id": "S3eTe66Vp-SK",
        "outputId": "422137d7-c247-4d64-bcee-bae3b10f6261"
      },
      "execution_count": 51,
      "outputs": [
        {
          "output_type": "display_data",
          "data": {
            "text/plain": [
              "<IPython.core.display.Javascript object>"
            ],
            "application/javascript": [
              "\n",
              "    async function download(id, filename, size) {\n",
              "      if (!google.colab.kernel.accessAllowed) {\n",
              "        return;\n",
              "      }\n",
              "      const div = document.createElement('div');\n",
              "      const label = document.createElement('label');\n",
              "      label.textContent = `Downloading \"${filename}\": `;\n",
              "      div.appendChild(label);\n",
              "      const progress = document.createElement('progress');\n",
              "      progress.max = size;\n",
              "      div.appendChild(progress);\n",
              "      document.body.appendChild(div);\n",
              "\n",
              "      const buffers = [];\n",
              "      let downloaded = 0;\n",
              "\n",
              "      const channel = await google.colab.kernel.comms.open(id);\n",
              "      // Send a message to notify the kernel that we're ready.\n",
              "      channel.send({})\n",
              "\n",
              "      for await (const message of channel.messages) {\n",
              "        // Send a message to notify the kernel that we're ready.\n",
              "        channel.send({})\n",
              "        if (message.buffers) {\n",
              "          for (const buffer of message.buffers) {\n",
              "            buffers.push(buffer);\n",
              "            downloaded += buffer.byteLength;\n",
              "            progress.value = downloaded;\n",
              "          }\n",
              "        }\n",
              "      }\n",
              "      const blob = new Blob(buffers, {type: 'application/binary'});\n",
              "      const a = document.createElement('a');\n",
              "      a.href = window.URL.createObjectURL(blob);\n",
              "      a.download = filename;\n",
              "      div.appendChild(a);\n",
              "      a.click();\n",
              "      div.remove();\n",
              "    }\n",
              "  "
            ]
          },
          "metadata": {}
        },
        {
          "output_type": "display_data",
          "data": {
            "text/plain": [
              "<IPython.core.display.Javascript object>"
            ],
            "application/javascript": [
              "download(\"download_6834cc01-54bf-4b88-a146-2591fc334675\", \"CNNFullPipeline.mp4\", 655474)"
            ]
          },
          "metadata": {}
        }
      ]
    },
    {
      "cell_type": "code",
      "source": [
        "from manim import *\n",
        "\n",
        "class CNNVisualized(ThreeDScene):\n",
        "    def construct(self):\n",
        "\n",
        "        # Input Image Grid\n",
        "        input_grid = VGroup()\n",
        "        for i in range(5):\n",
        "            for j in range(5):\n",
        "                square = Square(side_length=0.4).set_fill(BLUE, opacity=0.3).set_stroke(WHITE, width=1)\n",
        "                square.move_to(np.array([j * 0.45, -i * 0.45, 0]))\n",
        "                input_grid.add(square)\n",
        "        input_grid.move_to(LEFT * 5 + UP * 2)\n",
        "        input_label = Text(\"Input Image\", font_size=28).next_to(input_grid, DOWN)\n",
        "\n",
        "        # Convolutional Layer\n",
        "        conv_layer = VGroup()\n",
        "        for d in range(3):\n",
        "            conv_feature = input_grid.copy().set_fill(ORANGE, opacity=0.3)\n",
        "            conv_feature.scale(0.8)\n",
        "            conv_feature.shift(RIGHT * (2.5 + d * 0.8) + OUT * d * 0.2)\n",
        "            conv_layer.add(conv_feature)\n",
        "        conv_layer.move_to(RIGHT * 0.5 + UP * 1)\n",
        "        conv_label = Text(\"Convolutional Layers\", font_size=28).next_to(conv_layer, DOWN)\n",
        "\n",
        "        # Pooling Layer\n",
        "        pooling_layer = VGroup()\n",
        "        for d in range(3):\n",
        "            pool = VGroup()\n",
        "            for i in range(3):\n",
        "                for j in range(3):\n",
        "                    square = Square(side_length=0.35).set_fill(GREEN, opacity=0.4).set_stroke(WHITE, width=1)\n",
        "                    square.move_to(np.array([j * 0.4, -i * 0.4, 0]))\n",
        "                    pool.add(square)\n",
        "            pool.shift(RIGHT * (5 + d * 0.6) + OUT * d * 0.2)\n",
        "            pooling_layer.add(pool)\n",
        "        pooling_layer.move_to(RIGHT * 4.5 + UP * 0.5)\n",
        "        pool_label = Text(\"Max Pooling\", font_size=28).next_to(pooling_layer, DOWN)\n",
        "\n",
        "        # Flatten Layer\n",
        "        flatten_layer = VGroup()\n",
        "        for i in range(12):\n",
        "            rect = Rectangle(width=0.3, height=0.3).set_fill(PURPLE, opacity=0.6).set_stroke(WHITE, width=1)\n",
        "            rect.move_to(np.array([i * 0.35, 0, 0]))\n",
        "            flatten_layer.add(rect)\n",
        "        flatten_layer.move_to(DOWN * 1.5 + LEFT * 2.5)\n",
        "        flat_label = Text(\"Flatten\", font_size=28).next_to(flatten_layer, DOWN)\n",
        "\n",
        "        # Fully Connected Layer\n",
        "        fc_layer = VGroup()\n",
        "        for i in range(5):\n",
        "            circle = Circle(radius=0.25).set_fill(RED, opacity=0.5).set_stroke(WHITE, width=1)\n",
        "            circle.move_to(np.array([i * 0.6 - 1.2, -3.5, 0]))\n",
        "            fc_layer.add(circle)\n",
        "        fc_layer.move_to(DOWN * 2.5 + LEFT * 0.5)\n",
        "        fc_label = Text(\"Fully Connected Layer\", font_size=28).next_to(fc_layer, DOWN)\n",
        "\n",
        "        # Output Probabilities (Softmax)\n",
        "        softmax = VGroup()\n",
        "        probs = [0.1, 0.25, 0.3, 0.2, 0.15]\n",
        "        for i, p in enumerate(probs):\n",
        "            bar = Rectangle(width=0.3, height=p * 3, fill_opacity=0.8, fill_color=BLUE)\n",
        "            bar.move_to(np.array([i * 0.4 - 1, -6 + p * 1.5, 0]))\n",
        "            softmax.add(bar)\n",
        "        softmax.move_to(DOWN * 3.5 + RIGHT * 2.5)\n",
        "        softmax_label = Text(\"Softmax Output\", font_size=28).next_to(softmax, DOWN)\n",
        "\n",
        "        # Play Animation\n",
        "        self.play(FadeIn(input_grid), Write(input_label))\n",
        "        self.wait(1)\n",
        "        self.play(FadeIn(conv_layer), Write(conv_label))\n",
        "        self.wait(1)\n",
        "        self.play(FadeIn(pooling_layer), Write(pool_label))\n",
        "        self.wait(1)\n",
        "        self.play(FadeIn(flatten_layer), Write(flat_label))\n",
        "        self.wait(1)\n",
        "        self.play(FadeIn(fc_layer), Write(fc_label))\n",
        "        self.wait(1)\n",
        "        self.play(FadeIn(softmax), Write(softmax_label))\n",
        "        self.wait(3)\n"
      ],
      "metadata": {
        "id": "0JKzSkOvr_39"
      },
      "execution_count": 58,
      "outputs": []
    },
    {
      "cell_type": "code",
      "source": [
        "!manim -qh cnn_detailed.py CNNVisualized\n"
      ],
      "metadata": {
        "colab": {
          "base_uri": "https://localhost:8080/"
        },
        "id": "iXW5LfMQsCHC",
        "outputId": "3c751c36-3aa4-459e-be1d-86ac8f509fb5"
      },
      "execution_count": 59,
      "outputs": [
        {
          "output_type": "stream",
          "name": "stdout",
          "text": [
            "Manim Community \u001b[32mv0.\u001b[0m\u001b[32m19.0\u001b[0m\n",
            "\n",
            "\u001b[2;36m[04/07/25 19:24:59]\u001b[0m\u001b[2;36m \u001b[0m\u001b[32mINFO    \u001b[0m Animation \u001b[32m0\u001b[0m : Using cached data \u001b[1m(\u001b[0mhash :            \u001b]8;id=291863;file:///usr/local/lib/python3.11/dist-packages/manim/renderer/cairo_renderer.py\u001b\\\u001b[2mcairo_renderer.py\u001b[0m\u001b]8;;\u001b\\\u001b[2m:\u001b[0m\u001b]8;id=767717;file:///usr/local/lib/python3.11/dist-packages/manim/renderer/cairo_renderer.py#89\u001b\\\u001b[2m89\u001b[0m\u001b]8;;\u001b\\\n",
            "\u001b[2;36m                    \u001b[0m         3272876394_1180819406_223132457\u001b[1m)\u001b[0m                   \u001b[2m                    \u001b[0m\n",
            "\u001b[2;36m                   \u001b[0m\u001b[2;36m \u001b[0m\u001b[32mINFO    \u001b[0m Animation \u001b[32m1\u001b[0m : Using cached data \u001b[1m(\u001b[0mhash :            \u001b]8;id=528619;file:///usr/local/lib/python3.11/dist-packages/manim/renderer/cairo_renderer.py\u001b\\\u001b[2mcairo_renderer.py\u001b[0m\u001b]8;;\u001b\\\u001b[2m:\u001b[0m\u001b]8;id=715221;file:///usr/local/lib/python3.11/dist-packages/manim/renderer/cairo_renderer.py#89\u001b\\\u001b[2m89\u001b[0m\u001b]8;;\u001b\\\n",
            "\u001b[2;36m                    \u001b[0m         734416844_2631580503_1792956143\u001b[1m)\u001b[0m                   \u001b[2m                    \u001b[0m\n",
            "\u001b[2;36m[04/07/25 19:25:00]\u001b[0m\u001b[2;36m \u001b[0m\u001b[32mINFO    \u001b[0m Animation \u001b[32m2\u001b[0m : Using cached data \u001b[1m(\u001b[0mhash :            \u001b]8;id=376318;file:///usr/local/lib/python3.11/dist-packages/manim/renderer/cairo_renderer.py\u001b\\\u001b[2mcairo_renderer.py\u001b[0m\u001b]8;;\u001b\\\u001b[2m:\u001b[0m\u001b]8;id=519694;file:///usr/local/lib/python3.11/dist-packages/manim/renderer/cairo_renderer.py#89\u001b\\\u001b[2m89\u001b[0m\u001b]8;;\u001b\\\n",
            "\u001b[2;36m                    \u001b[0m         734416844_4054065293_2146846267\u001b[1m)\u001b[0m                   \u001b[2m                    \u001b[0m\n",
            "\u001b[2;36m[04/07/25 19:25:01]\u001b[0m\u001b[2;36m \u001b[0m\u001b[32mINFO    \u001b[0m Animation \u001b[32m3\u001b[0m : Using cached data \u001b[1m(\u001b[0mhash :            \u001b]8;id=195979;file:///usr/local/lib/python3.11/dist-packages/manim/renderer/cairo_renderer.py\u001b\\\u001b[2mcairo_renderer.py\u001b[0m\u001b]8;;\u001b\\\u001b[2m:\u001b[0m\u001b]8;id=574734;file:///usr/local/lib/python3.11/dist-packages/manim/renderer/cairo_renderer.py#89\u001b\\\u001b[2m89\u001b[0m\u001b]8;;\u001b\\\n",
            "\u001b[2;36m                    \u001b[0m         734416844_2631580503_3068418895\u001b[1m)\u001b[0m                   \u001b[2m                    \u001b[0m\n",
            "\u001b[2;36m[04/07/25 19:25:03]\u001b[0m\u001b[2;36m \u001b[0m\u001b[32mINFO    \u001b[0m Animation \u001b[32m4\u001b[0m : Using cached data \u001b[1m(\u001b[0mhash :            \u001b]8;id=384448;file:///usr/local/lib/python3.11/dist-packages/manim/renderer/cairo_renderer.py\u001b\\\u001b[2mcairo_renderer.py\u001b[0m\u001b]8;;\u001b\\\u001b[2m:\u001b[0m\u001b]8;id=514345;file:///usr/local/lib/python3.11/dist-packages/manim/renderer/cairo_renderer.py#89\u001b\\\u001b[2m89\u001b[0m\u001b]8;;\u001b\\\n",
            "\u001b[2;36m                    \u001b[0m         734416844_1439638963_3797723895\u001b[1m)\u001b[0m                   \u001b[2m                    \u001b[0m\n",
            "\u001b[2;36m[04/07/25 19:25:05]\u001b[0m\u001b[2;36m \u001b[0m\u001b[32mINFO    \u001b[0m Animation \u001b[32m5\u001b[0m : Using cached data \u001b[1m(\u001b[0mhash :            \u001b]8;id=35929;file:///usr/local/lib/python3.11/dist-packages/manim/renderer/cairo_renderer.py\u001b\\\u001b[2mcairo_renderer.py\u001b[0m\u001b]8;;\u001b\\\u001b[2m:\u001b[0m\u001b]8;id=756273;file:///usr/local/lib/python3.11/dist-packages/manim/renderer/cairo_renderer.py#89\u001b\\\u001b[2m89\u001b[0m\u001b]8;;\u001b\\\n",
            "\u001b[2;36m                    \u001b[0m         734416844_2631580503_4145242706\u001b[1m)\u001b[0m                   \u001b[2m                    \u001b[0m\n",
            "\u001b[2;36m[04/07/25 19:25:06]\u001b[0m\u001b[2;36m \u001b[0m\u001b[32mINFO    \u001b[0m Animation \u001b[32m6\u001b[0m : Using cached data \u001b[1m(\u001b[0mhash :            \u001b]8;id=459808;file:///usr/local/lib/python3.11/dist-packages/manim/renderer/cairo_renderer.py\u001b\\\u001b[2mcairo_renderer.py\u001b[0m\u001b]8;;\u001b\\\u001b[2m:\u001b[0m\u001b]8;id=656165;file:///usr/local/lib/python3.11/dist-packages/manim/renderer/cairo_renderer.py#89\u001b\\\u001b[2m89\u001b[0m\u001b]8;;\u001b\\\n",
            "\u001b[2;36m                    \u001b[0m         734416844_585710398_197926125\u001b[1m)\u001b[0m                     \u001b[2m                    \u001b[0m\n",
            "\u001b[2;36m[04/07/25 19:25:08]\u001b[0m\u001b[2;36m \u001b[0m\u001b[32mINFO    \u001b[0m Animation \u001b[32m7\u001b[0m : Using cached data \u001b[1m(\u001b[0mhash :            \u001b]8;id=796356;file:///usr/local/lib/python3.11/dist-packages/manim/renderer/cairo_renderer.py\u001b\\\u001b[2mcairo_renderer.py\u001b[0m\u001b]8;;\u001b\\\u001b[2m:\u001b[0m\u001b]8;id=737081;file:///usr/local/lib/python3.11/dist-packages/manim/renderer/cairo_renderer.py#89\u001b\\\u001b[2m89\u001b[0m\u001b]8;;\u001b\\\n",
            "\u001b[2;36m                    \u001b[0m         734416844_2631580503_1830413306\u001b[1m)\u001b[0m                   \u001b[2m                    \u001b[0m\n",
            "\u001b[2;36m[04/07/25 19:25:09]\u001b[0m\u001b[2;36m \u001b[0m\u001b[32mINFO    \u001b[0m Animation \u001b[32m8\u001b[0m : Using cached data \u001b[1m(\u001b[0mhash :            \u001b]8;id=64856;file:///usr/local/lib/python3.11/dist-packages/manim/renderer/cairo_renderer.py\u001b\\\u001b[2mcairo_renderer.py\u001b[0m\u001b]8;;\u001b\\\u001b[2m:\u001b[0m\u001b]8;id=844199;file:///usr/local/lib/python3.11/dist-packages/manim/renderer/cairo_renderer.py#89\u001b\\\u001b[2m89\u001b[0m\u001b]8;;\u001b\\\n",
            "\u001b[2;36m                    \u001b[0m         734416844_1887223620_102452180\u001b[1m)\u001b[0m                    \u001b[2m                    \u001b[0m\n",
            "\u001b[2;36m[04/07/25 19:25:11]\u001b[0m\u001b[2;36m \u001b[0m\u001b[32mINFO    \u001b[0m Animation \u001b[32m9\u001b[0m : Using cached data \u001b[1m(\u001b[0mhash :            \u001b]8;id=818684;file:///usr/local/lib/python3.11/dist-packages/manim/renderer/cairo_renderer.py\u001b\\\u001b[2mcairo_renderer.py\u001b[0m\u001b]8;;\u001b\\\u001b[2m:\u001b[0m\u001b]8;id=678118;file:///usr/local/lib/python3.11/dist-packages/manim/renderer/cairo_renderer.py#89\u001b\\\u001b[2m89\u001b[0m\u001b]8;;\u001b\\\n",
            "\u001b[2;36m                    \u001b[0m         734416844_2631580503_999230180\u001b[1m)\u001b[0m                    \u001b[2m                    \u001b[0m\n",
            "\u001b[2;36m[04/07/25 19:25:12]\u001b[0m\u001b[2;36m \u001b[0m\u001b[32mINFO    \u001b[0m Animation \u001b[32m10\u001b[0m : Using cached data \u001b[1m(\u001b[0mhash :           \u001b]8;id=894819;file:///usr/local/lib/python3.11/dist-packages/manim/renderer/cairo_renderer.py\u001b\\\u001b[2mcairo_renderer.py\u001b[0m\u001b]8;;\u001b\\\u001b[2m:\u001b[0m\u001b]8;id=12397;file:///usr/local/lib/python3.11/dist-packages/manim/renderer/cairo_renderer.py#89\u001b\\\u001b[2m89\u001b[0m\u001b]8;;\u001b\\\n",
            "\u001b[2;36m                    \u001b[0m         734416844_3684853167_1038828652\u001b[1m)\u001b[0m                   \u001b[2m                    \u001b[0m\n",
            "\u001b[2;36m[04/07/25 19:25:14]\u001b[0m\u001b[2;36m \u001b[0m\u001b[32mINFO    \u001b[0m Animation \u001b[32m11\u001b[0m : Using cached data \u001b[1m(\u001b[0mhash :           \u001b]8;id=421458;file:///usr/local/lib/python3.11/dist-packages/manim/renderer/cairo_renderer.py\u001b\\\u001b[2mcairo_renderer.py\u001b[0m\u001b]8;;\u001b\\\u001b[2m:\u001b[0m\u001b]8;id=481637;file:///usr/local/lib/python3.11/dist-packages/manim/renderer/cairo_renderer.py#89\u001b\\\u001b[2m89\u001b[0m\u001b]8;;\u001b\\\n",
            "\u001b[2;36m                    \u001b[0m         734416844_789064381_3289163142\u001b[1m)\u001b[0m                    \u001b[2m                    \u001b[0m\n",
            "\u001b[2;36m                   \u001b[0m\u001b[2;36m \u001b[0m\u001b[32mINFO    \u001b[0m Combining to Movie file.                       \u001b]8;id=460254;file:///usr/local/lib/python3.11/dist-packages/manim/scene/scene_file_writer.py\u001b\\\u001b[2mscene_file_writer.py\u001b[0m\u001b]8;;\u001b\\\u001b[2m:\u001b[0m\u001b]8;id=509063;file:///usr/local/lib/python3.11/dist-packages/manim/scene/scene_file_writer.py#739\u001b\\\u001b[2m739\u001b[0m\u001b]8;;\u001b\\\n",
            "\u001b[2;36m                   \u001b[0m\u001b[2;36m \u001b[0m\u001b[32mINFO    \u001b[0m                                                \u001b]8;id=418849;file:///usr/local/lib/python3.11/dist-packages/manim/scene/scene_file_writer.py\u001b\\\u001b[2mscene_file_writer.py\u001b[0m\u001b]8;;\u001b\\\u001b[2m:\u001b[0m\u001b]8;id=639372;file:///usr/local/lib/python3.11/dist-packages/manim/scene/scene_file_writer.py#886\u001b\\\u001b[2m886\u001b[0m\u001b]8;;\u001b\\\n",
            "\u001b[2;36m                    \u001b[0m         \u001b[1;33mFile\u001b[0m ready at                                  \u001b[2m                        \u001b[0m\n",
            "\u001b[2;36m                    \u001b[0m         \u001b[32m'/content/media/videos/cnn_detailed/1080p60/CN\u001b[0m \u001b[2m                        \u001b[0m\n",
            "\u001b[2;36m                    \u001b[0m         \u001b[32mNVisualized.mp4'\u001b[0m                               \u001b[2m                        \u001b[0m\n",
            "\u001b[2;36m                    \u001b[0m                                                        \u001b[2m                        \u001b[0m\n",
            "\u001b[2;36m                   \u001b[0m\u001b[2;36m \u001b[0m\u001b[32mINFO    \u001b[0m \u001b[1;33mRendered\u001b[0m CNNVisualized                                     \u001b]8;id=563967;file:///usr/local/lib/python3.11/dist-packages/manim/scene/scene.py\u001b\\\u001b[2mscene.py\u001b[0m\u001b]8;;\u001b\\\u001b[2m:\u001b[0m\u001b]8;id=658329;file:///usr/local/lib/python3.11/dist-packages/manim/scene/scene.py#255\u001b\\\u001b[2m255\u001b[0m\u001b]8;;\u001b\\\n",
            "\u001b[2;36m                    \u001b[0m         \u001b[1;33mPlayed\u001b[0m \u001b[32m12\u001b[0m \u001b[1;33manimations\u001b[0m                                       \u001b[2m            \u001b[0m\n"
          ]
        }
      ]
    },
    {
      "cell_type": "code",
      "source": [
        "from google.colab import files\n",
        "files.download(\"/content/media/videos/cnn_detailed/1080p60/CNNVisualized.mp4\")\n"
      ],
      "metadata": {
        "colab": {
          "base_uri": "https://localhost:8080/",
          "height": 17
        },
        "id": "M6uplKRcsIgw",
        "outputId": "c0244ca6-31b6-431e-8a68-fc3db2ad6b1c"
      },
      "execution_count": 62,
      "outputs": [
        {
          "output_type": "display_data",
          "data": {
            "text/plain": [
              "<IPython.core.display.Javascript object>"
            ],
            "application/javascript": [
              "\n",
              "    async function download(id, filename, size) {\n",
              "      if (!google.colab.kernel.accessAllowed) {\n",
              "        return;\n",
              "      }\n",
              "      const div = document.createElement('div');\n",
              "      const label = document.createElement('label');\n",
              "      label.textContent = `Downloading \"${filename}\": `;\n",
              "      div.appendChild(label);\n",
              "      const progress = document.createElement('progress');\n",
              "      progress.max = size;\n",
              "      div.appendChild(progress);\n",
              "      document.body.appendChild(div);\n",
              "\n",
              "      const buffers = [];\n",
              "      let downloaded = 0;\n",
              "\n",
              "      const channel = await google.colab.kernel.comms.open(id);\n",
              "      // Send a message to notify the kernel that we're ready.\n",
              "      channel.send({})\n",
              "\n",
              "      for await (const message of channel.messages) {\n",
              "        // Send a message to notify the kernel that we're ready.\n",
              "        channel.send({})\n",
              "        if (message.buffers) {\n",
              "          for (const buffer of message.buffers) {\n",
              "            buffers.push(buffer);\n",
              "            downloaded += buffer.byteLength;\n",
              "            progress.value = downloaded;\n",
              "          }\n",
              "        }\n",
              "      }\n",
              "      const blob = new Blob(buffers, {type: 'application/binary'});\n",
              "      const a = document.createElement('a');\n",
              "      a.href = window.URL.createObjectURL(blob);\n",
              "      a.download = filename;\n",
              "      div.appendChild(a);\n",
              "      a.click();\n",
              "      div.remove();\n",
              "    }\n",
              "  "
            ]
          },
          "metadata": {}
        },
        {
          "output_type": "display_data",
          "data": {
            "text/plain": [
              "<IPython.core.display.Javascript object>"
            ],
            "application/javascript": [
              "download(\"download_368dc0d1-a736-4137-971a-aa9f21b931a0\", \"CNNVisualized.mp4\", 603536)"
            ]
          },
          "metadata": {}
        }
      ]
    },
    {
      "cell_type": "code",
      "source": [],
      "metadata": {
        "id": "0KjyBnr0sIde"
      },
      "execution_count": null,
      "outputs": []
    }
  ]
}